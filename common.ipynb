{
 "cells": [
  {
   "cell_type": "code",
   "execution_count": 5,
   "source": [
    "cd /mnt/demo"
   ],
   "outputs": [
    {
     "output_type": "stream",
     "name": "stdout",
     "text": [
      "/mnt/demo\n"
     ]
    }
   ],
   "metadata": {}
  },
  {
   "cell_type": "markdown",
   "source": [
    "## 内存字符串"
   ],
   "metadata": {}
  },
  {
   "cell_type": "code",
   "execution_count": 1,
   "source": [
    "from io import StringIO\r\n",
    "f = StringIO()\r\n",
    "f.write('hello')\r\n",
    "f.write(' ')\r\n",
    "f.write('world!')\r\n",
    "print(f.getvalue())\r\n",
    "f = StringIO('Hello!\\nHi!\\nGoodbye!')\r\n",
    "while True:\r\n",
    "    \r\n",
    "    s = f.readline()\r\n",
    "    if s == '':\r\n",
    "        break\r\n",
    "    print(s.strip())"
   ],
   "outputs": [
    {
     "output_type": "stream",
     "name": "stdout",
     "text": [
      "hello world!\n",
      "Hello!\n",
      "Hi!\n",
      "Goodbye!\n"
     ]
    }
   ],
   "metadata": {}
  },
  {
   "cell_type": "markdown",
   "source": [
    "## 内存字节流"
   ],
   "metadata": {}
  },
  {
   "cell_type": "code",
   "execution_count": 1,
   "source": [
    "from io import BytesIO\r\n",
    "f = BytesIO()\r\n",
    "f.write('中文'.encode('utf-8'))\r\n",
    "print(f.getvalue())\r\n",
    "type(f)\r\n",
    "print(f.read()) # 由于此时游标是从f 的 最后的位置开始 read，那么后面的内容肯定是空 \r\n",
    "f.tell() # 说明游标是在f最后的位置 \r\n",
    "f.seek(0)  \r\n",
    "f.read(2)"
   ],
   "outputs": [
    {
     "output_type": "stream",
     "name": "stdout",
     "text": [
      "b'\\xe4\\xb8\\xad\\xe6\\x96\\x87'\n",
      "b''\n"
     ]
    },
    {
     "output_type": "execute_result",
     "data": {
      "text/plain": [
       "b'\\xe4\\xb8'"
      ]
     },
     "metadata": {},
     "execution_count": 1
    }
   ],
   "metadata": {}
  },
  {
   "cell_type": "markdown",
   "source": [
    "## 以流的形式读入转化成 ndarray 对象"
   ],
   "metadata": {}
  },
  {
   "cell_type": "markdown",
   "source": [],
   "metadata": {}
  },
  {
   "cell_type": "code",
   "execution_count": 24,
   "source": [
    "import cv2\r\n",
    "import numpy as np\r\n",
    "\r\n",
    "b = b'aaaaaaaaa' # bytes\r\n",
    "\r\n",
    "image_array = np.frombuffer(b, dtype=np.uint8) # numpy array\r\n",
    "\r\n",
    "img_decode = cv2.imdecode(image_array, 1) # 效果等同于cv2.imread()"
   ],
   "outputs": [],
   "metadata": {}
  },
  {
   "cell_type": "code",
   "execution_count": 7,
   "source": [
    "cd /mnt/demo/"
   ],
   "outputs": [
    {
     "output_type": "stream",
     "name": "stdout",
     "text": [
      "/mnt/demo\n"
     ]
    }
   ],
   "metadata": {}
  },
  {
   "cell_type": "markdown",
   "source": [
    "## zip 压缩解压文件"
   ],
   "metadata": {}
  },
  {
   "cell_type": "code",
   "execution_count": 8,
   "source": [
    "import os\r\n",
    "import shutil\r\n",
    "import zipfile\r\n",
    "\r\n",
    "def unzip(zipPath, dp=None):  \r\n",
    "    \"\"\"\r\n",
    "    Unzip zip file to a folder\r\n",
    "     \r\n",
    "    Parameters\r\n",
    "    ---------\r\n",
    "    zipPath: Zip file path \r\n",
    "    dp: Decompression path\r\n",
    "\r\n",
    "    Returns\r\n",
    "    ---------\r\n",
    "    dir_path: The path of the extracted folder\r\n",
    "\r\n",
    "    Raises\r\n",
    "    ---------\r\n",
    "    \"\"\"\r\n",
    "    if dp == None:\r\n",
    "        ## By default, it is decompressed to the current directory\r\n",
    "        dp = zipPath.rsplit('.', 1)[0]\r\n",
    "    with zipfile.ZipFile(zipPath, 'r') as f:\r\n",
    "        for fn in f.namelist():\r\n",
    "            f.extract(fn, dp)\r\n",
    "    return dp\r\n",
    "            \r\n",
    "def zipFolder(dfp, out_path=None):\r\n",
    "    \"\"\"\r\n",
    "    Compresses the specified folder\r\n",
    "\r\n",
    "    Parameters\r\n",
    "    ---------\r\n",
    "    dfp: Destination folder  or file path.\r\n",
    "    out_path: Save path of the compressed file +xxxx.zip.\r\n",
    "\r\n",
    "    Returns\r\n",
    "    ---------\r\n",
    "    \"\"\"\r\n",
    "\r\n",
    "    if os.path.isdir(dfp):   \r\n",
    "        if out_path == None:\r\n",
    "            out_path = dfp + '.zip'\r\n",
    "        with zipfile.ZipFile(out_path, \"w\", zipfile.ZIP_DEFLATED) as f:\r\n",
    "                for root, dirnames, filenames in os.walk(dfp):\r\n",
    "                    for fn in filenames:\r\n",
    "                        f.write(filename=os.path.join(root, fn), arcname=fn)\r\n",
    "    else:\r\n",
    "        if out_path == None:\r\n",
    "            out_path = dfp.rsplit('.', 1)[0] + '.zip'\r\n",
    "        with zipfile.ZipFile(out_path, \"w\", zipfile.ZIP_DEFLATED) as f:\r\n",
    "            f.write(dfp, dfp.rsplit('/', 1)[1])\r\n",
    "    print(out_path)\r\n",
    "    \r\n",
    "zipFolder('./data/test/三元组数据集_云测早期标注')\r\n",
    "zipFolder('data/ABC.json')\r\n",
    "\r\n",
    "unzip('./data/三元组数据集_云测早期标注.zip')\r\n",
    "# dir_path = unzip('./data/三元组数据集_云测8.17前标注.zip')\r\n",
    "# print(dir_path)"
   ],
   "outputs": [
    {
     "output_type": "stream",
     "name": "stdout",
     "text": [
      "./data/test/三元组数据集_云测早期标注.zip\n",
      "data/ABC.zip\n"
     ]
    }
   ],
   "metadata": {}
  },
  {
   "cell_type": "markdown",
   "source": [
    "### 处理解压的文件中的乱码和文件夹复用问题"
   ],
   "metadata": {}
  },
  {
   "cell_type": "code",
   "execution_count": null,
   "source": [
    "def rm_fileOrFolder(fp):\r\n",
    "    '''\r\n",
    "    remove file or folder\r\n",
    "    '''\r\n",
    "    if os.path.exists(fp):\r\n",
    "        if os.path.isfile(fp):\r\n",
    "            os.remove(fp)\r\n",
    "        else:\r\n",
    "            # The folder cannot be deleted for unknown reasons\r\n",
    "            shutil.rmtree(fp)\r\n",
    "            \r\n",
    "def rename_correctly(string):\r\n",
    "    '''\r\n",
    "    Rename the garbled characters extracted from the window package\r\n",
    "    '''\r\n",
    "    try:\r\n",
    "        new_string = string.encode('cp437').decode('utf-8')\r\n",
    "    except:\r\n",
    "        try:\r\n",
    "            new_string = string.encode('cp437').decode('gbk')\r\n",
    "        except:\r\n",
    "            new_string = string.encode('utf-8').decode('utf-8')\r\n",
    "    return  new_string\r\n",
    "\r\n",
    "def rm_specialNameFolder(folder_name='__MACOSX'): \r\n",
    "    '''\r\n",
    "    Delete the folder named 'xxxx' if it exists.\r\n",
    "    The default folder name is __MACOSX.\r\n",
    "    '''\r\n",
    "    for root, dirs, files in os.walk(dir_path, topdown=False):\r\n",
    "        for name in dirs:\r\n",
    "            if name == folder_name :\r\n",
    "                shutil.rmtree(os.path.join(root, name))  \r\n",
    "\r\n",
    "def standard_zipDir(dir_path):\r\n",
    "    for root, dirs, filenames in os.walk(dir_path):\r\n",
    "        for fn in filenames:\r\n",
    "            fp = os.path.join(root, fn)\r\n",
    "            new_fp = os.path.join(dir_path, rename_correctly(fn))\r\n",
    "            os.rename(fp, new_fp)\r\n",
    "            \r\n",
    "    for root, dirs, filenames in os.walk(dir_path):\r\n",
    "        for folder in dirs:\r\n",
    "            dp = os.path.join(root, folder)\r\n",
    "            rm_fileOrFolder(dp)\r\n",
    "            rm_specialNameFolder()\r\n",
    "\r\n",
    "# fp = 'data/╚²╘¬╫Θ╩²╛▌╝»_─┌▓┐▒Ω╫ó'\r\n",
    "# rename_correctly(fp)\r\n",
    "# dir_path = unzip('./data/三元组数据集_云测早期标注.zip')\r\n",
    "# dir_path = unzip('./data/归档.zip')\r\n",
    "# print(f'dir_path +++++++++ {dir_path}')\r\n",
    "# standard_zipDir(dir_path)"
   ],
   "outputs": [],
   "metadata": {}
  }
 ],
 "metadata": {
  "kernelspec": {
   "name": "conda-env-py3.7-py",
   "display_name": "Python [conda env:py3.7]",
   "language": "python"
  },
  "orig_nbformat": 2,
  "interpreter": {
   "hash": "909183efdd8048ca5ec1d6ca4026945da1e569e54b3499d8d5ba29f48ffcd9f7"
  },
  "language_info": {
   "name": "python",
   "version": "3.7.11",
   "mimetype": "text/x-python",
   "codemirror_mode": {
    "name": "ipython",
    "version": 3
   },
   "pygments_lexer": "ipython3",
   "nbconvert_exporter": "python",
   "file_extension": ".py"
  }
 },
 "nbformat": 4,
 "nbformat_minor": 2
}