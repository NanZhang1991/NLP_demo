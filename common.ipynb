{
 "cells": [
  {
   "cell_type": "code",
   "execution_count": 5,
   "source": [
    "cd /mnt/demo"
   ],
   "outputs": [
    {
     "output_type": "stream",
     "name": "stdout",
     "text": [
      "/mnt/demo\n"
     ]
    }
   ],
   "metadata": {}
  },
  {
   "cell_type": "markdown",
   "source": [
    "## 内存字符串"
   ],
   "metadata": {}
  },
  {
   "cell_type": "code",
   "execution_count": 1,
   "source": [
    "from io import StringIO\r\n",
    "f = StringIO()\r\n",
    "f.write('hello')\r\n",
    "f.write(' ')\r\n",
    "f.write('world!')\r\n",
    "print(f.getvalue())\r\n",
    "f = StringIO('Hello!\\nHi!\\nGoodbye!')\r\n",
    "while True:\r\n",
    "    \r\n",
    "    s = f.readline()\r\n",
    "    if s == '':\r\n",
    "        break\r\n",
    "    print(s.strip())"
   ],
   "outputs": [
    {
     "output_type": "stream",
     "name": "stdout",
     "text": [
      "hello world!\n",
      "Hello!\n",
      "Hi!\n",
      "Goodbye!\n"
     ]
    }
   ],
   "metadata": {}
  },
  {
   "cell_type": "markdown",
   "source": [
    "## 内存字节流"
   ],
   "metadata": {}
  },
  {
   "cell_type": "code",
   "execution_count": 1,
   "source": [
    "from io import BytesIO\r\n",
    "f = BytesIO()\r\n",
    "f.write('中文'.encode('utf-8'))\r\n",
    "print(f.getvalue())\r\n",
    "type(f)\r\n",
    "print(f.read()) # 由于此时游标是从f 的 最后的位置开始 read，那么后面的内容肯定是空 \r\n",
    "f.tell() # 说明游标是在f最后的位置 \r\n",
    "f.seek(0)  \r\n",
    "f.read(2)"
   ],
   "outputs": [
    {
     "output_type": "stream",
     "name": "stdout",
     "text": [
      "b'\\xe4\\xb8\\xad\\xe6\\x96\\x87'\n",
      "b''\n"
     ]
    },
    {
     "output_type": "execute_result",
     "data": {
      "text/plain": [
       "b'\\xe4\\xb8'"
      ]
     },
     "metadata": {},
     "execution_count": 1
    }
   ],
   "metadata": {}
  },
  {
   "cell_type": "markdown",
   "source": [
    "## 以流的形式读入转化成 ndarray 对象"
   ],
   "metadata": {}
  },
  {
   "cell_type": "markdown",
   "source": [],
   "metadata": {}
  },
  {
   "cell_type": "code",
   "execution_count": 24,
   "source": [
    "import cv2\r\n",
    "import numpy as np\r\n",
    "\r\n",
    "b = b'aaaaaaaaa' # bytes\r\n",
    "\r\n",
    "image_array = np.frombuffer(b, dtype=np.uint8) # numpy array\r\n",
    "\r\n",
    "img_decode = cv2.imdecode(image_array, 1) # 效果等同于cv2.imread()"
   ],
   "outputs": [],
   "metadata": {}
  },
  {
   "cell_type": "markdown",
   "source": [
    "## zip 压缩解压文件\r\n",
    "### 压缩"
   ],
   "metadata": {}
  },
  {
   "cell_type": "code",
   "execution_count": 3,
   "source": [
    "import os\r\n",
    "import zipfile\r\n",
    "import shutil\r\n",
    "from pathlib import Path\r\n",
    "\r\n",
    "def zipDir(dirPath, outDir=None):\r\n",
    "    \"\"\"\r\n",
    "    Compresses the specified folder\r\n",
    "\r\n",
    "    Parameters\r\n",
    "    ---------\r\n",
    "    dirPath: Destination folder path\r\n",
    "    outDir: Save path of the compressed file +xxxx.zip\r\n",
    "\r\n",
    "    Returns\r\n",
    "    ---------\r\n",
    "    \"\"\"\r\n",
    "    if outDir == None:\r\n",
    "        outDir = dirPath + '.zip'\r\n",
    "    zip = zipfile.ZipFile(outDir, \"w\", zipfile.ZIP_DEFLATED)\r\n",
    "    for path, dirnames, filenames in os.walk(dirPath):\r\n",
    "        # Remove the target and path, and only compress the files and folders under the target folder\r\n",
    "        fp = path.replace(dirPath, '')\r\n",
    "\r\n",
    "        for filename in filenames:\r\n",
    "            zip.write(os.path.join(path, filename), os.path.join(fp, filename))\r\n",
    "    zip.close()"
   ],
   "outputs": [],
   "metadata": {}
  },
  {
   "cell_type": "markdown",
   "source": [
    "### 解压zip"
   ],
   "metadata": {}
  },
  {
   "cell_type": "code",
   "execution_count": 33,
   "source": [
    "def un_zip(zipPath, dp=None):  \r\n",
    "    \"\"\"\r\n",
    "    Unzip zip file to a folder\r\n",
    "     \r\n",
    "    Parameters\r\n",
    "    ---------\r\n",
    "    zipPath: Zip file path \r\n",
    "    dp: Decompression path\r\n",
    "\r\n",
    "    Returns\r\n",
    "    ---------\r\n",
    "    dir_path: The path of the extracted folder\r\n",
    "\r\n",
    "    Raises\r\n",
    "    ---------\r\n",
    "    \"\"\"\r\n",
    "    if dp == None:\r\n",
    "        ## By default, it is decompressed to the current directory\r\n",
    "        dp = zipPath.rsplit('/', 1)[0]\r\n",
    "    with zipfile.ZipFile(zipPath, 'r') as f:\r\n",
    "        old_folder = None\r\n",
    "        for fn in f.namelist():\r\n",
    "            # There are many possible coding situations, rename it correctly\r\n",
    "            try:\r\n",
    "                new_fn = fn.encode('cp437').decode('utf-8')\r\n",
    "            except:\r\n",
    "                try:\r\n",
    "                    new_fn = fn.encode('cp437').decode('gbk')\r\n",
    "                except:\r\n",
    "                    new_fn = fn.encode('utf-8').decode('utf-8')\r\n",
    "            folder_name = zipPath.rsplit('.', 1)[0].rsplit('/', 1)[1]\r\n",
    "            if new_fn.split('/', 1)[0] != folder_name:\r\n",
    "                # print(('****************', new_fn.split('/', 1)[0]))\r\n",
    "                real_dp = Path(os.path.join(dp, folder_name)).as_posix()\r\n",
    "            else:\r\n",
    "                # print(('---------------', new_fn.split('/', 1)[0]))\r\n",
    "                real_dp = dp\r\n",
    "            f.extract(fn, real_dp)\r\n",
    "            old_fp = Path(os.path.join(real_dp, fn)).as_posix()\r\n",
    "            new_fp = Path(os.path.join(real_dp, new_fn)).as_posix()\r\n",
    "            if old_fp != new_fp: \r\n",
    "                # Overwrite when the new file already exists\r\n",
    "                if os.path.exists(new_fp):\r\n",
    "                    if os.path.isfile(new_fp):\r\n",
    "                        os.remove(new_fp)\r\n",
    "                    else:\r\n",
    "                        # The folder cannot be deleted for unknown reasons\r\n",
    "                        shutil.rmtree(new_fp)\r\n",
    "                    os.rename(old_fp, new_fp)\r\n",
    "                else:\r\n",
    "                    os.rename(old_fp, new_fp)\r\n",
    "                if os.path.isdir(Path(os.path.join(dp, new_fn)).as_posix()):\r\n",
    "                    # print('!!!!!!!!!!!!!!!!!!', fn)\r\n",
    "                    old_folder = fn.rsplit('/', 1)[0]\r\n",
    "    dir_path = zipPath.rsplit('.', 1)[0]\r\n",
    "    # Delete the folder named __MACOSX if it exists\r\n",
    "    for root, dirs, files in os.walk(dir_path, topdown=False):\r\n",
    "        for name in dirs:\r\n",
    "            if name == '__MACOSX':\r\n",
    "                shutil.rmtree(os.path.join(root, name))\r\n",
    "    # Delete the old_folder\r\n",
    "    for root, dirs, files in os.walk(dp, topdown=False):\r\n",
    "        for name in dirs:\r\n",
    "            if name == old_folder:\r\n",
    "                shutil.rmtree(os.path.join(root, name))\r\n",
    "    return dir_path \r\n",
    "\r\n",
    "    \r\n",
    "zp = 'data/test.zip'\r\n",
    "dir_path = un_zip(zp, dp=None)"
   ],
   "outputs": [],
   "metadata": {}
  }
 ],
 "metadata": {
  "kernelspec": {
   "name": "conda-env-py3.7-py",
   "display_name": "Python [conda env:py3.7]",
   "language": "python"
  },
  "orig_nbformat": 2,
  "interpreter": {
   "hash": "909183efdd8048ca5ec1d6ca4026945da1e569e54b3499d8d5ba29f48ffcd9f7"
  },
  "language_info": {
   "name": "python",
   "version": "3.7.11",
   "mimetype": "text/x-python",
   "codemirror_mode": {
    "name": "ipython",
    "version": 3
   },
   "pygments_lexer": "ipython3",
   "nbconvert_exporter": "python",
   "file_extension": ".py"
  }
 },
 "nbformat": 4,
 "nbformat_minor": 2
}