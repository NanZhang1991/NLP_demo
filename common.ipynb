{
 "cells": [
  {
   "cell_type": "markdown",
   "source": [
    "## 内存字符串"
   ],
   "metadata": {}
  },
  {
   "cell_type": "code",
   "execution_count": 2,
   "source": [
    "from io import StringIO\r\n",
    "f = StringIO()\r\n",
    "f.write('hello')\r\n",
    "f.write(' ')\r\n",
    "f.write('world!')\r\n",
    "print(f.getvalue())"
   ],
   "outputs": [
    {
     "output_type": "stream",
     "name": "stdout",
     "text": [
      "hello world!\n"
     ]
    }
   ],
   "metadata": {}
  },
  {
   "cell_type": "markdown",
   "source": [
    "## 内存字节流"
   ],
   "metadata": {}
  },
  {
   "cell_type": "code",
   "execution_count": 1,
   "source": [
    "from io import BytesIO\r\n",
    "f = BytesIO()\r\n",
    "f.write('中文'.encode('utf-8'))\r\n",
    "print(f.getvalue())\r\n",
    "type(f)\r\n",
    "print(f.read()) # 由于此时游标是从f 的 最后的位置开始 read，那么后面的内容肯定是空 \r\n",
    "f.tell() # 说明游标是在f最后的位置 \r\n",
    "f.seek(0)  \r\n",
    "f.read(2)"
   ],
   "outputs": [
    {
     "output_type": "stream",
     "name": "stdout",
     "text": [
      "b'\\xe4\\xb8\\xad\\xe6\\x96\\x87'\n",
      "b''\n"
     ]
    },
    {
     "output_type": "execute_result",
     "data": {
      "text/plain": [
       "b'\\xe4\\xb8'"
      ]
     },
     "metadata": {},
     "execution_count": 1
    }
   ],
   "metadata": {}
  },
  {
   "cell_type": "markdown",
   "source": [],
   "metadata": {}
  }
 ],
 "metadata": {
  "kernelspec": {
   "name": "python3",
   "display_name": "Python 3.7.10 64-bit ('py3.7': conda)"
  },
  "language_info": {
   "codemirror_mode": {
    "name": "ipython",
    "version": 3
   },
   "file_extension": ".py",
   "mimetype": "text/x-python",
   "name": "python",
   "nbconvert_exporter": "python",
   "pygments_lexer": "ipython3",
   "version": "3.7.10"
  },
  "orig_nbformat": 2,
  "interpreter": {
   "hash": "909183efdd8048ca5ec1d6ca4026945da1e569e54b3499d8d5ba29f48ffcd9f7"
  }
 },
 "nbformat": 4,
 "nbformat_minor": 2
}