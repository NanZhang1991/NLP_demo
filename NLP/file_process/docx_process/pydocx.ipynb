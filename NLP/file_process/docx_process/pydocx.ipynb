{
 "cells": [
  {
   "cell_type": "markdown",
   "metadata": {},
   "source": [
    "# Processing Word with python-docx"
   ]
  },
  {
   "cell_type": "markdown",
   "metadata": {},
   "source": [
    "## get paragraph text"
   ]
  },
  {
   "cell_type": "code",
   "execution_count": null,
   "metadata": {},
   "outputs": [],
   "source": [
    "from docx import Document\n",
    "import re\n",
    "import multiprocessing as mp\n",
    "\n",
    "\n",
    "class Docx_extract:\n",
    "    def __init__(self, fp):\n",
    "        self.document = Document(fp)\n",
    "\n",
    "    def get_paragraph(self):\n",
    "        '''\n",
    "        Get the word document paragraph number and paragraph text that doesn't include heading.\n",
    "\n",
    "        Parameters\n",
    "        ----------\n",
    "        f_p: docx file path\n",
    "\n",
    "        Returns\n",
    "        ----------\n",
    "        out: generator\n",
    "        Each element is A tuple containing (paragraph_number, paragraph.text)\n",
    "        '''\n",
    "        for  paragraph_number, paragraph in enumerate(self.document.paragraphs):\n",
    "            if (paragraph.style.name =='Normal' or re.findall('正文', paragraph.style.name)) and len(paragraph.text.strip()) !=0:\n",
    "                yield  paragraph_number, paragraph.text.strip()\n",
    " \n",
    "    def get_sentence(self):\n",
    "        pass\n",
    "\n",
    "\n",
    "if __name__==\"__main__\":\n",
    "    fp = 'data/input/template/template.docx'\n",
    "    docx_extract = Docx_extract(fp)\n",
    "    paragraph_texts = docx_extract.get_paragraph()\n",
    "    res = list(paragraph_texts)\n",
    "    print(res)"
   ]
  },
  {
   "cell_type": "markdown",
   "metadata": {},
   "source": [
    "# Docx to byte stream and byte stream to docx "
   ]
  }
 ],
 "metadata": {
  "language_info": {
   "name": "plaintext"
  },
  "orig_nbformat": 4
 },
 "nbformat": 4,
 "nbformat_minor": 2
}
