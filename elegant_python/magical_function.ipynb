{
 "cells": [
  {
   "cell_type": "markdown",
   "metadata": {},
   "source": [
    "## 自定义数据类型"
   ]
  },
  {
   "cell_type": "code",
   "execution_count": 82,
   "metadata": {},
   "outputs": [
    {
     "name": "stdout",
     "output_type": "stream",
     "text": [
      "CPU times: user 3 µs, sys: 0 ns, total: 3 µs\n",
      "Wall time: 6.68 µs\n"
     ]
    },
    {
     "data": {
      "text/plain": [
       "Vector(2, 4)"
      ]
     },
     "execution_count": 82,
     "metadata": {},
     "output_type": "execute_result"
    }
   ],
   "source": [
    "%time\n",
    "from math import hypot\n",
    "\n",
    "class Vector:\n",
    "    def __init__(self, x=0, y=0):\n",
    "        self.x = x\n",
    "        self.y = y\n",
    "\n",
    "    def __repr__(self):\n",
    "        '''\n",
    "        面向开发者\n",
    "        '''\n",
    "        return 'Vector(%r, %r)' % (self.x, self.y)\n",
    "\n",
    "    def __abs__(self):\n",
    "        return hypot(self.x, self.y)\n",
    "\n",
    "    def __bool__(self):\n",
    "        return bool(abs(self))\n",
    "\n",
    "    def __add__(self, other):\n",
    "        x = self.x + other.x\n",
    "        y = self.y + other.y\n",
    "        return Vector(x, y)\n",
    "        \n",
    "    def __mul__(self, scalar):\n",
    "        return Vector(self.x * scalar, self.y * scalar)\n",
    "\n",
    "    \n",
    "\n",
    "v1 = Vector(2, 4)\n",
    "v2 = Vector(2, 1)\n",
    "v1 + v2\n",
    "v1\n"
   ]
  },
  {
   "cell_type": "code",
   "execution_count": 25,
   "metadata": {},
   "outputs": [
    {
     "name": "stdout",
     "output_type": "stream",
     "text": [
      "dataset({'a': 2, 'b': 3})\n"
     ]
    },
    {
     "data": {
      "text/plain": [
       "dataset({'b': 3})"
      ]
     },
     "execution_count": 25,
     "metadata": {},
     "output_type": "execute_result"
    }
   ],
   "source": [
    "\n",
    "class Tag:\n",
    "\n",
    "    def __init__(self):\n",
    "        self.item = {}\n",
    " \n",
    "    def __getitem__(self, key):\n",
    "        self.item = dict(zip(self.keys, self.values))\n",
    "        return self.item[key]\n",
    "\n",
    "    def __setitem__(self, key, value):\n",
    "        self.item[key] = value\n",
    "\n",
    "    def __delitem__(self, key):\n",
    "        del self.item[key]\n",
    "        \n",
    "    def __repr__(self):\n",
    "        return  f'dataset({self.item})'\n",
    "\n",
    "t = Tag()\n",
    "\n",
    "t['a'] = 2\n",
    "t['b'] = 3\n",
    "print(t)\n",
    "del t['a']\n",
    "t"
   ]
  },
  {
   "cell_type": "code",
   "execution_count": 32,
   "metadata": {},
   "outputs": [
    {
     "name": "stdout",
     "output_type": "stream",
     "text": [
      "__setitem__:Set A Value 2\n",
      "{'A': 2}\n"
     ]
    }
   ],
   "source": [
    "class CustomerDict:\n",
    "    # def __init__(self):\n",
    "    #     self['B'] = \"BB\"\n",
    "    #     self['D'] = \"DD\"\n",
    "    #     del self['D']\n",
    "\n",
    "    def __repr__(self):\n",
    "        return '%r' % ( self.__dict__)   \n",
    "    def __setitem__(self, name, value):\n",
    "        '''\n",
    "        每当属性被赋值的时候都会调用该方法，因此不能再该方法内赋值 self.name = value 会死循环\n",
    "        '''\n",
    "        print (\"__setitem__:Set %s Value %s\"%(name, value))\n",
    "        self.__dict__[name] = value\n",
    "    \n",
    "    def __getitem__(self, name):\n",
    "        ''' \n",
    "        当访问不存在的属性时会调用该方法\n",
    "        '''\n",
    "        print (\"__getitem__:No attribute named '%s'\"%name)\n",
    "        return None\n",
    "    \n",
    "    def __delitem__(self, name):\n",
    "        ''' \n",
    "        当删除属性时调用该方法\n",
    "        '''\n",
    "        print (\"__delitem__:Delect attribute '%s'\"%name)\n",
    "        del self.__dict__[name]\n",
    "        print (self.__dict__)\n",
    "    \n",
    "    \n",
    "if __name__ == \"__main__\":\n",
    "    x = CustomerDict()\n",
    "    x['A']=2\n",
    "    print(x)\n"
   ]
  },
  {
   "cell_type": "markdown",
   "metadata": {},
   "source": [
    "## 使用 __slots__ 类属性节省空间"
   ]
  },
  {
   "cell_type": "code",
   "execution_count": 4,
   "metadata": {},
   "outputs": [
    {
     "name": "stdout",
     "output_type": "stream",
     "text": [
      "CPU times: user 3 µs, sys: 0 ns, total: 3 µs\n",
      "Wall time: 4.53 µs\n",
      "dataset({'input_ids': [[101, 8667, 146, 112, 182, 170, 1423, 5650, 102], [101, 1262, 1330, 5650, 102], [101, 1262, 1103, 1304, 1304, 1314, 1141, 102]], 'token_type_ids': [[0, 0, 0, 0, 0, 0, 0, 0, 0], [0, 0, 0, 0, 0], [0, 0, 0, 0, 0, 0, 0, 0]], 'attention_mask': [[1, 1, 1, 1, 1, 1, 1, 1, 1], [1, 1, 1, 1, 1], [1, 1, 1, 1, 1, 1, 1, 1]]}, [0, 1, 2]) -------\n",
      "{'input_ids': [101, 8667, 146, 112, 182, 170, 1423, 5650, 102], 'token_type_ids': [0, 0, 0, 0, 0, 0, 0, 0, 0], 'attention_mask': [1, 1, 1, 1, 1, 1, 1, 1, 1], 'labels': 0} -------\n"
     ]
    },
    {
     "data": {
      "text/plain": [
       "[101, 1262, 1330, 5650, 102]"
      ]
     },
     "execution_count": 4,
     "metadata": {},
     "output_type": "execute_result"
    }
   ],
   "source": [
    "%time\n",
    "class IMDbDataset:\n",
    "\n",
    "    __slots__ =  'encodings','labels'\n",
    "\n",
    "    def __init__(self, encodings, labels):\n",
    "        self.encodings = encodings\n",
    "        self.labels = labels\n",
    "\n",
    "    def __str__(self):\n",
    "        '''面向用户'''\n",
    "        return 'dataset(%r, %r)' % (self.encodings, self.labels)\n",
    "\n",
    "    def __getitem__(self, idx):\n",
    "        item = {key: val[idx] for key, val in self.encodings.items()}\n",
    "        item['labels'] = self.labels[idx]\n",
    "        return item\n",
    "\n",
    "    def __len__(self):\n",
    "        return len(self.labels)\n",
    "\n",
    "train_encodings = {'input_ids': [[101, 8667, 146, 112, 182, 170, 1423, 5650, 102],\n",
    "                                 [101, 1262, 1330, 5650, 102],\n",
    "                                 [101, 1262, 1103, 1304, 1304, 1314, 1141, 102]],\n",
    "                   'token_type_ids': [[0, 0, 0, 0, 0, 0, 0, 0, 0],\n",
    "                                      [0, 0, 0, 0, 0],\n",
    "                                      [0, 0, 0, 0, 0, 0, 0, 0]],\n",
    "                   'attention_mask': [[1, 1, 1, 1, 1, 1, 1, 1, 1],\n",
    "                                      [1, 1, 1, 1, 1],\n",
    "                                      [1, 1, 1, 1, 1, 1, 1, 1]]}\n",
    "\n",
    "train_labels = [x for x in range(len(train_encodings['input_ids']))]\n",
    "\n",
    "train_dataset = IMDbDataset(train_encodings, train_labels)\n",
    "\n",
    "print(train_dataset,'-------')\n",
    "print(train_dataset[0],'-------')\n",
    "train_dataset[1]['input_ids']\n",
    "    "
   ]
  },
  {
   "cell_type": "markdown",
   "metadata": {},
   "source": [
    "## 数据类"
   ]
  },
  {
   "cell_type": "code",
   "execution_count": 9,
   "metadata": {},
   "outputs": [
    {
     "data": {
      "text/plain": [
       "InventoryItem(name='a', unit_price=2, quantity_on_hand=0)"
      ]
     },
     "execution_count": 9,
     "metadata": {},
     "output_type": "execute_result"
    }
   ],
   "source": [
    "from dataclasses import dataclass\n",
    "'''\n",
    "该模块提供了一个装饰器和函数，用于自动将生成的特殊方法添加到用户定义的类中，例如__init__()和 __repr__()\n",
    "@dataclasses.dataclass( * , init = True , repr = True , eq = True , order = False , unsafe_hash = False , \\\n",
    "frozen = False , match_args = True , kw_only = False , slot = False )\n",
    "'''\n",
    "@dataclass\n",
    "class InventoryItem:\n",
    "    \"\"\"Class for keeping track of an item in inventory.\"\"\"\n",
    "    name: str\n",
    "    unit_price: float\n",
    "    quantity_on_hand: int = 0\n",
    "\n",
    "    def total_cost(self) -> float:\n",
    "        return self.unit_price * self.quantity_on_hand\n",
    "\n",
    "a = InventoryItem('a', 2)\n",
    "a"
   ]
  },
  {
   "cell_type": "code",
   "execution_count": 17,
   "metadata": {},
   "outputs": [
    {
     "data": {
      "text/plain": [
       "C(a=1, b=2, c=3)"
      ]
     },
     "execution_count": 17,
     "metadata": {},
     "output_type": "execute_result"
    }
   ],
   "source": [
    "from dataclasses import dataclass\n",
    "from dataclasses import field\n",
    "\"\"\"\n",
    "dataclasses.fields( class_or_instance ) \n",
    "返回Field定义此数据类字段的对象元组。接受数据类或数据类的实例。TypeError如果未传递数据类或实例，则引发。不返回为ClassVar或 的伪字段InitVar。\n",
    "\"\"\"\n",
    "@dataclass\n",
    "class C:\n",
    "    a: float\n",
    "    b: float\n",
    "    c: float = field(init=False)\n",
    "\n",
    "    def __post_init__(self):\n",
    "        self.c = self.a + self.b\n",
    "    \n",
    "c = C(1,2)\n",
    "c"
   ]
  },
  {
   "cell_type": "code",
   "execution_count": 28,
   "metadata": {},
   "outputs": [
    {
     "name": "stdout",
     "output_type": "stream",
     "text": [
      "{'x': 10, 'y': 20}\n"
     ]
    }
   ],
   "source": [
    "from dataclasses import asdict\n",
    "'''\n",
    "将数据类转换instance为字典（通过使用工厂函数dict_factory）。\n",
    "每个数据类都被转换为其字段的字典，成对。数据类、字典、列表和元组被递归到。例如：name: value\n",
    "'''\n",
    "@dataclass\n",
    "class Point:\n",
    "     x: int\n",
    "     y: int\n",
    "\n",
    "p = Point(10, 20)\n",
    "c = {'x': 10, 'y': 20}\n",
    "print(asdict(p))\n",
    "assert asdict(p) == c\n",
    "\n"
   ]
  }
 ],
 "metadata": {
  "interpreter": {
   "hash": "ad8a153ad2dd132b04ef6e3413d315d7d81f68b3d06a421cf8661d6db53905e3"
  },
  "kernelspec": {
   "display_name": "Python 3.7.11 64-bit ('py3.7': conda)",
   "name": "python3"
  },
  "language_info": {
   "codemirror_mode": {
    "name": "ipython",
    "version": 3
   },
   "file_extension": ".py",
   "mimetype": "text/x-python",
   "name": "python",
   "nbconvert_exporter": "python",
   "pygments_lexer": "ipython3",
   "version": "3.7.11"
  },
  "orig_nbformat": 4
 },
 "nbformat": 4,
 "nbformat_minor": 2
}
