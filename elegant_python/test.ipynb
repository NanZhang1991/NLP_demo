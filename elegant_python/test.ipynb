{
 "cells": [
  {
   "cell_type": "code",
   "execution_count": 5,
   "metadata": {},
   "outputs": [
    {
     "name": "stdout",
     "output_type": "stream",
     "text": [
      "{\"F1\": 0.76, \"accurcy\": 0.85, \"wrong_index\": [4, 6]}\n"
     ]
    }
   ],
   "source": [
    "import json\r\n",
    "dic={\"F1\":0.76, \"accurcy\":0.85, \"wrong_index\":[4,6]}\r\n",
    "print(json.dumps(dic))\r\n",
    "fp = open('test.json', 'w')\r\n",
    "json.dump(dic,fp)"
   ]
  },
  {
   "cell_type": "code",
   "execution_count": 2,
   "metadata": {},
   "outputs": [
    {
     "name": "stdout",
     "output_type": "stream",
     "text": [
      "0\n",
      "1\n",
      "2\n"
     ]
    }
   ],
   "source": [
    "class Test():\r\n",
    "    def __init__(self,data=1):\r\n",
    "        self.data = data\r\n",
    "\r\n",
    "    def __iter__(self):\r\n",
    "        for i in range(self.data):\r\n",
    "            yield i\r\n",
    "        \r\n",
    "    # def __next__(self):\r\n",
    "    #     if self.data > 5:\r\n",
    "    #         raise StopIteration\r\n",
    "    #     else:\r\n",
    "    #         self.data+=1\r\n",
    "    #         return self.data\r\n",
    "\r\n",
    "test = Test(3)\r\n",
    "for item in test:\r\n",
    "    print(item)"
   ]
  },
  {
   "cell_type": "code",
   "execution_count": 3,
   "metadata": {},
   "outputs": [
    {
     "name": "stdout",
     "output_type": "stream",
     "text": [
      "0\n",
      "1\n",
      "2\n"
     ]
    },
    {
     "data": {
      "text/plain": "0"
     },
     "execution_count": 3,
     "metadata": {},
     "output_type": "execute_result"
    }
   ],
   "source": [
    "class Test():\r\n",
    "    def __init__(self,data=1):\r\n",
    "        self.data = data\r\n",
    "\r\n",
    "    def __getitem__(self, index):\r\n",
    "        return range(self.data)[index]\r\n",
    "    \r\n",
    "test = Test(3)\r\n",
    "for item in test:\r\n",
    "    print(item)\r\n",
    "test[0]"
   ]
  },
  {
   "cell_type": "code",
   "execution_count": 36,
   "metadata": {},
   "outputs": [
    {
     "name": "stdout",
     "output_type": "stream",
     "text": [
      "100\n",
      "100\n"
     ]
    },
    {
     "data": {
      "text/plain": "2"
     },
     "execution_count": 36,
     "metadata": {},
     "output_type": "execute_result"
    }
   ],
   "source": [
    "class DataBase:\r\n",
    "    '''Python 3 中的类'''\r\n",
    "\r\n",
    "    def __getitem__(self, key):\r\n",
    "        return self.__dict__.get(key, \"100\")\r\n",
    "\r\n",
    "    def __setitem__(self,key,value):\r\n",
    "        self.__dict__[key] = value\r\n",
    "\r\n",
    "    def __len__(self):\r\n",
    "        return len(self.__dict__)\r\n",
    "\r\n",
    "data = DataBase()\r\n",
    "print(data[\"hi\"])\r\n",
    "print(data[\"id\"])\r\n",
    "data['key2']=5\r\n",
    "data['key3']=5\r\n",
    "len(data)"
   ]
  },
  {
   "cell_type": "code",
   "execution_count": 30,
   "metadata": {},
   "outputs": [
    {
     "data": {
      "text/plain": "<__main__.DataBase at 0x1a40f863c48>"
     },
     "execution_count": 30,
     "metadata": {},
     "output_type": "execute_result"
    }
   ],
   "source": [
    "data"
   ]
  }
 ],
 "metadata": {
  "kernelspec": {
   "display_name": "Python 3.7.10 64-bit ('py3.7': conda)",
   "name": "python3710jvsc74a57bd0b82c4dcea0e292ae3c5056cb1ce5f519b54b2436655e008d9c8bf4bca92723c8"
  },
  "language_info": {
   "codemirror_mode": {
    "name": "ipython",
    "version": 3
   },
   "file_extension": ".py",
   "mimetype": "text/x-python",
   "name": "python",
   "nbconvert_exporter": "python",
   "pygments_lexer": "ipython3",
   "version": "3.7.10"
  },
  "orig_nbformat": 3
 },
 "nbformat": 4,
 "nbformat_minor": 2
}