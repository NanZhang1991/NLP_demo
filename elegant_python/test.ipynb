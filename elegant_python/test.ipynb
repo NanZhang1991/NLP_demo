{
 "cells": [
  {
   "cell_type": "code",
   "execution_count": 5,
   "metadata": {},
   "outputs": [
    {
     "name": "stdout",
     "output_type": "stream",
     "text": [
      "{\"F1\": 0.76, \"accurcy\": 0.85, \"wrong_index\": [4, 6]}\n"
     ]
    }
   ],
   "source": [
    "import json\n",
    "dic={\"F1\":0.76, \"accurcy\":0.85, \"wrong_index\":[4,6]}\n",
    "print(json.dumps(dic))\n",
    "fp = open('test.json', 'w')\n",
    "json.dump(dic,fp)"
   ]
  },
  {
   "cell_type": "code",
   "execution_count": 2,
   "metadata": {},
   "outputs": [
    {
     "name": "stdout",
     "output_type": "stream",
     "text": [
      "0\n",
      "1\n",
      "2\n"
     ]
    }
   ],
   "source": [
    "class Test():\n",
    "    def __init__(self,data=1):\n",
    "        self.data = data\n",
    "\n",
    "    def __iter__(self):\n",
    "        for i in range(self.data):\n",
    "            yield i\n",
    "        \n",
    "    # def __next__(self):\n",
    "    #     if self.data > 5:\n",
    "    #         raise StopIteration\n",
    "    #     else:\n",
    "    #         self.data+=1\n",
    "    #         return self.data\n",
    "\n",
    "test = Test(3)\n",
    "for item in test:\n",
    "    print(item)"
   ]
  },
  {
   "cell_type": "code",
   "execution_count": 1,
   "metadata": {},
   "outputs": [
    {
     "name": "stdout",
     "output_type": "stream",
     "text": [
      "0\n",
      "1\n",
      "2\n"
     ]
    },
    {
     "data": {
      "text/plain": [
       "0"
      ]
     },
     "execution_count": 1,
     "metadata": {},
     "output_type": "execute_result"
    }
   ],
   "source": [
    "class Test():\n",
    "    def __init__(self,data=1):\n",
    "        self.data = data\n",
    "\n",
    "    def __getitem__(self, index):\n",
    "        return range(self.data)[index]\n",
    "    \n",
    "test = Test(3)\n",
    "for item in test:\n",
    "    print(item)\n",
    "test[0]"
   ]
  },
  {
   "cell_type": "code",
   "execution_count": 36,
   "metadata": {},
   "outputs": [
    {
     "name": "stdout",
     "output_type": "stream",
     "text": [
      "100\n",
      "100\n"
     ]
    },
    {
     "data": {
      "text/plain": [
       "2"
      ]
     },
     "execution_count": 36,
     "metadata": {},
     "output_type": "execute_result"
    }
   ],
   "source": [
    "class DataBase:\n",
    "\n",
    "    def __getitem__(self, key):\n",
    "        return self.__dict__.get(key, \"100\")\n",
    "\n",
    "    def __setitem__(self,key,value):\n",
    "        self.__dict__[key] = value\n",
    "\n",
    "    def __len__(self):\n",
    "        return len(self.__dict__)\n",
    "\n",
    "data = DataBase()\n",
    "print(data[\"hi\"])\n",
    "print(data[\"id\"])\n",
    "data['key2']=5\n",
    "data['key3']=5\n",
    "len(data)"
   ]
  },
  {
   "cell_type": "code",
   "execution_count": 4,
   "metadata": {},
   "outputs": [
    {
     "name": "stdout",
     "output_type": "stream",
     "text": [
      "2\n"
     ]
    }
   ],
   "source": [
    "def test(**kwargs):\n",
    "    print(kwargs['a'])\n",
    "\n",
    "test(a=2)"
   ]
  },
  {
   "cell_type": "code",
   "execution_count": 9,
   "metadata": {},
   "outputs": [
    {
     "ename": "TypeError",
     "evalue": "Can't instantiate abstract class A with abstract methods my_abstract_staticmethod",
     "output_type": "error",
     "traceback": [
      "\u001b[0;31m---------------------------------------------------------------------------\u001b[0m",
      "\u001b[0;31mTypeError\u001b[0m                                 Traceback (most recent call last)",
      "\u001b[1;32m/mnt/NanZhang1991/practice/elegant_python/test.ipynb Cell 6'\u001b[0m in \u001b[0;36m<cell line: 17>\u001b[0;34m()\u001b[0m\n\u001b[1;32m     <a href='vscode-notebook-cell://attached-container%2B7b22636f6e7461696e65724e616d65223a222f6375646131312e325f6d696e69636f6e6461335f6a7570797465722d5a4e222c22637764223a22653a5c5c4e616e5a68616e67313939315c5c7072616374696365227d/mnt/NanZhang1991/practice/elegant_python/test.ipynb#ch0000005vscode-remote?line=12'>13</a>\u001b[0m     \u001b[39m@staticmethod\u001b[39m   \n\u001b[1;32m     <a href='vscode-notebook-cell://attached-container%2B7b22636f6e7461696e65724e616d65223a222f6375646131312e325f6d696e69636f6e6461335f6a7570797465722d5a4e222c22637764223a22653a5c5c4e616e5a68616e67313939315c5c7072616374696365227d/mnt/NanZhang1991/practice/elegant_python/test.ipynb#ch0000005vscode-remote?line=13'>14</a>\u001b[0m     \u001b[39mdef\u001b[39;00m \u001b[39mtest\u001b[39m(\u001b[39m*\u001b[39m\u001b[39m*\u001b[39mkwargs):\n\u001b[1;32m     <a href='vscode-notebook-cell://attached-container%2B7b22636f6e7461696e65724e616d65223a222f6375646131312e325f6d696e69636f6e6461335f6a7570797465722d5a4e222c22637764223a22653a5c5c4e616e5a68616e67313939315c5c7072616374696365227d/mnt/NanZhang1991/practice/elegant_python/test.ipynb#ch0000005vscode-remote?line=14'>15</a>\u001b[0m         \u001b[39mprint\u001b[39m(kwargs[\u001b[39m'\u001b[39m\u001b[39ma\u001b[39m\u001b[39m'\u001b[39m])\n\u001b[0;32m---> <a href='vscode-notebook-cell://attached-container%2B7b22636f6e7461696e65724e616d65223a222f6375646131312e325f6d696e69636f6e6461335f6a7570797465722d5a4e222c22637764223a22653a5c5c4e616e5a68616e67313939315c5c7072616374696365227d/mnt/NanZhang1991/practice/elegant_python/test.ipynb#ch0000005vscode-remote?line=16'>17</a>\u001b[0m a \u001b[39m=\u001b[39m A()\n\u001b[1;32m     <a href='vscode-notebook-cell://attached-container%2B7b22636f6e7461696e65724e616d65223a222f6375646131312e325f6d696e69636f6e6461335f6a7570797465722d5a4e222c22637764223a22653a5c5c4e616e5a68616e67313939315c5c7072616374696365227d/mnt/NanZhang1991/practice/elegant_python/test.ipynb#ch0000005vscode-remote?line=17'>18</a>\u001b[0m A()\u001b[39m.\u001b[39mtest(a\u001b[39m=\u001b[39m\u001b[39m'\u001b[39m\u001b[39ma\u001b[39m\u001b[39m'\u001b[39m)\n",
      "\u001b[0;31mTypeError\u001b[0m: Can't instantiate abstract class A with abstract methods my_abstract_staticmethod"
     ]
    }
   ],
   "source": [
    "from abc import ABC,  abstractmethod\n",
    "\n",
    "class C(ABC):\n",
    "    @staticmethod\n",
    "    @abstractmethod\n",
    "    def my_abstract_staticmethod(arg):\n",
    "        ...\n",
    "\n",
    "class A(C):\n",
    "    # def my_abstract_staticmethod(arg):\n",
    "    #     ...\n",
    "\n",
    "    @staticmethod   \n",
    "    def test(**kwargs):\n",
    "        print(kwargs['a'])\n",
    "\n",
    "a = A()\n",
    "A().test(a='a')"
   ]
  }
 ],
 "metadata": {
  "kernelspec": {
   "display_name": "Python 3.8.13 ('py3.8')",
   "language": "python",
   "name": "python3"
  },
  "language_info": {
   "codemirror_mode": {
    "name": "ipython",
    "version": 3
   },
   "file_extension": ".py",
   "mimetype": "text/x-python",
   "name": "python",
   "nbconvert_exporter": "python",
   "pygments_lexer": "ipython3",
   "version": "3.8.13"
  },
  "orig_nbformat": 3,
  "vscode": {
   "interpreter": {
    "hash": "d2d4c25b3725ae103f01325e14c6ed2ac6163cb8f07a1484074af46300b8fe07"
   }
  }
 },
 "nbformat": 4,
 "nbformat_minor": 2
}
