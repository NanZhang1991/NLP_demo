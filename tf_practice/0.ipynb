{
 "cells": [
  {
   "cell_type": "code",
   "execution_count": 1,
   "metadata": {},
   "outputs": [],
   "source": [
    "import tensorflow as tf"
   ]
  },
  {
   "cell_type": "code",
   "execution_count": 2,
   "metadata": {},
   "outputs": [
    {
     "name": "stderr",
     "output_type": "stream",
     "text": [
      "2021-10-08 14:53:03.925417: I tensorflow/stream_executor/cuda/cuda_gpu_executor.cc:923] could not open file to read NUMA node: /sys/bus/pci/devices/0000:01:00.0/numa_node\n",
      "Your kernel may have been built without NUMA support.\n",
      "2021-10-08 14:53:04.088145: W tensorflow/stream_executor/platform/default/dso_loader.cc:64] Could not load dynamic library 'libcudnn.so.8'; dlerror: libcudnn.so.8: cannot open shared object file: No such file or directory\n",
      "2021-10-08 14:53:04.088228: W tensorflow/core/common_runtime/gpu/gpu_device.cc:1835] Cannot dlopen some GPU libraries. Please make sure the missing libraries mentioned above are installed properly if you would like to use GPU. Follow the guide at https://www.tensorflow.org/install/gpu for how to download and setup the required libraries for your platform.\n",
      "Skipping registering GPU devices...\n",
      "2021-10-08 14:53:04.090308: I tensorflow/core/platform/cpu_feature_guard.cc:142] This TensorFlow binary is optimized with oneAPI Deep Neural Network Library (oneDNN) to use the following CPU instructions in performance-critical operations:  AVX2 FMA\n",
      "To enable them in other operations, rebuild TensorFlow with the appropriate compiler flags.\n"
     ]
    },
    {
     "data": {
      "text/plain": [
       "<tf.Tensor: shape=(2, 5), dtype=int32, numpy=\n",
       "array([[0, 0, 1, 0, 2],\n",
       "       [0, 5, 0, 6, 0]], dtype=int32)>"
      ]
     },
     "execution_count": 2,
     "metadata": {},
     "output_type": "execute_result"
    }
   ],
   "source": [
    "params = tf.constant([\n",
    "    (0, 0, 1, 0, 2),\n",
    "    [3, 0, 0, 0, 4],\n",
    "    [0, 5, 0, 6, 0]])\n",
    "indices = tf.constant(\n",
    "    [0,2])\n",
    "tf.gather(params, indices)"
   ]
  },
  {
   "cell_type": "code",
   "execution_count": 3,
   "metadata": {},
   "outputs": [],
   "source": [
    "params = tf.constant([\n",
    "    (0, 0, 1, 0, 2),\n",
    "    [3, 0, 0, 0, 4],\n",
    "    [0, 5, 0, 6, 0]])\n",
    "indices = tf.constant(\n",
    "    [2, 4, 3])"
   ]
  },
  {
   "cell_type": "code",
   "execution_count": 4,
   "metadata": {},
   "outputs": [
    {
     "data": {
      "text/plain": [
       "array([[1, 2, 0],\n",
       "       [0, 4, 0],\n",
       "       [0, 0, 6]], dtype=int32)"
      ]
     },
     "execution_count": 4,
     "metadata": {},
     "output_type": "execute_result"
    }
   ],
   "source": [
    "tf.gather(params, indices, axis=1).numpy()"
   ]
  },
  {
   "cell_type": "code",
   "execution_count": 5,
   "metadata": {},
   "outputs": [
    {
     "data": {
      "text/plain": [
       "<tf.Tensor: shape=(3,), dtype=int32, numpy=array([1, 4, 6], dtype=int32)>"
      ]
     },
     "execution_count": 5,
     "metadata": {},
     "output_type": "execute_result"
    }
   ],
   "source": [
    "tf.gather(params, tf.constant([2, 4, 3]), axis=1, batch_dims=1)"
   ]
  },
  {
   "cell_type": "code",
   "execution_count": 6,
   "metadata": {},
   "outputs": [
    {
     "data": {
      "text/plain": [
       "array([[1, 2],\n",
       "       [3, 4],\n",
       "       [5, 6]], dtype=int32)"
      ]
     },
     "execution_count": 6,
     "metadata": {},
     "output_type": "execute_result"
    }
   ],
   "source": [
    "params = tf.constant([\n",
    "    [0, 0, 1, 0, 2],\n",
    "    [3, 0, 0, 0, 4],\n",
    "    [0, 5, 0, 6, 0]])\n",
    "indices = tf.constant([\n",
    "    [2, 4],\n",
    "    [0, 4],\n",
    "    [1, 3]])\n",
    "tf.gather(params, indices, axis=1, batch_dims=1).numpy()"
   ]
  },
  {
   "cell_type": "code",
   "execution_count": 7,
   "metadata": {},
   "outputs": [
    {
     "data": {
      "text/plain": [
       "<tf.Tensor: shape=(2, 1, 3), dtype=float32, numpy=\n",
       "array([[[-0.917749  ,  0.23967385,  0.24835128]],\n",
       "\n",
       "       [[ 0.3983369 , -0.576468  ,  0.77371967]]], dtype=float32)>"
      ]
     },
     "execution_count": 7,
     "metadata": {},
     "output_type": "execute_result"
    }
   ],
   "source": [
    "indices = tf.constant([[1],\n",
    "             [2]])\n",
    "params = tf.constant([[[-1.0228521 ,  0.7286925 , -0.84171396],\n",
    "                       [-0.917749  ,  0.23967385,  0.24835128],\n",
    "                       [-0.12899126,  0.48454696, -0.8943562 ]],\n",
    "                      [[-0.17912224,  0.3945618 , -0.5160401 ],\n",
    "                       [-0.29391372,  0.0176767 ,  1.055536  ],\n",
    "                       [ 0.3983369 , -0.576468  ,  0.77371967]]])\n",
    "tf.gather(params, indices, batch_dims=1)"
   ]
  },
  {
   "cell_type": "code",
   "execution_count": 27,
   "metadata": {},
   "outputs": [
    {
     "data": {
      "text/plain": [
       "<tf.Tensor: shape=(2, 3), dtype=float32, numpy=\n",
       "array([[-0.917749  ,  0.23967385,  0.24835128],\n",
       "       [ 0.3983369 , -0.576468  ,  0.77371967]], dtype=float32)>"
      ]
     },
     "execution_count": 27,
     "metadata": {},
     "output_type": "execute_result"
    }
   ],
   "source": [
    "indices = tf.constant([1, 2])\n",
    "params = tf.constant([[[-1.0228521 ,  0.7286925 , -0.84171396],\n",
    "                       [-0.917749  ,  0.23967385,  0.24835128],\n",
    "                       [-0.12899126,  0.48454696, -0.8943562 ]],\n",
    "                      [[-0.17912224,  0.3945618 , -0.5160401 ],\n",
    "                       [-0.29391372,  0.0176767 ,  1.055536  ],\n",
    "                       [ 0.3983369 , -0.576468  ,  0.77371967]]])\n",
    "tf.gather(params, indices, axis=1, batch_dims=1)"
   ]
  },
  {
   "cell_type": "code",
   "execution_count": 23,
   "metadata": {},
   "outputs": [
    {
     "data": {
      "text/plain": [
       "<tf.Tensor: shape=(4, 1), dtype=float32, numpy=\n",
       "array([[ 2.],\n",
       "       [11.],\n",
       "       [22.],\n",
       "       [32.]], dtype=float32)>"
      ]
     },
     "execution_count": 23,
     "metadata": {},
     "output_type": "execute_result"
    }
   ],
   "source": [
    "params = tf.constant([[0, 1.0, 2.0],\n",
    "                      [10.0, 11.0, 12.0],\n",
    "                      [20.0, 21.0, 22.0],\n",
    "                      [30.0, 31.0, 32.0]])\n",
    "tf.gather(params, indices=[[2],[1],[2],[2]], axis=1, batch_dims=1)"
   ]
  },
  {
   "cell_type": "code",
   "execution_count": 15,
   "metadata": {},
   "outputs": [
    {
     "name": "stdout",
     "output_type": "stream",
     "text": [
      "tf.Tensor(\n",
      "[[0 7 1 2 2]\n",
      " [1 7 3 4 3]\n",
      " [2 7 5 6 6]\n",
      " [3 7 7 8 7]\n",
      " [4 7 7 8 7]\n",
      " [5 7 7 8 7]], shape=(6, 5), dtype=int32)\n"
     ]
    },
    {
     "data": {
      "text/plain": [
       "<tf.Tensor: shape=(6, 5, 1), dtype=int32, numpy=\n",
       "array([[[0],\n",
       "        [7],\n",
       "        [1],\n",
       "        [2],\n",
       "        [2]],\n",
       "\n",
       "       [[1],\n",
       "        [7],\n",
       "        [3],\n",
       "        [4],\n",
       "        [3]],\n",
       "\n",
       "       [[2],\n",
       "        [7],\n",
       "        [5],\n",
       "        [6],\n",
       "        [6]],\n",
       "\n",
       "       [[3],\n",
       "        [7],\n",
       "        [7],\n",
       "        [8],\n",
       "        [7]],\n",
       "\n",
       "       [[4],\n",
       "        [7],\n",
       "        [7],\n",
       "        [8],\n",
       "        [7]],\n",
       "\n",
       "       [[5],\n",
       "        [7],\n",
       "        [7],\n",
       "        [8],\n",
       "        [7]]])>"
      ]
     },
     "execution_count": 15,
     "metadata": {},
     "output_type": "execute_result"
    }
   ],
   "source": [
    "\n",
    "current=[\n",
    "        [0,7,1,2,2],\n",
    "        [1,7,3,4,3],\n",
    "        [2,7,5,6,6],\n",
    "        [3,7,7,8,7],\n",
    "        [4,7,7,8,7],\n",
    "        [5,7,7,8,7]\n",
    "        ]\n",
    "\n",
    "current =tf.constant(current)\n",
    "print(current)\n",
    "points_e = tf.expand_dims(current, axis=2)\n",
    "points_e"
   ]
  },
  {
   "cell_type": "code",
   "execution_count": 3,
   "metadata": {},
   "outputs": [
    {
     "data": {
      "text/plain": [
       "<tf.Tensor: shape=(2,), dtype=int32, numpy=array([1, 2])>"
      ]
     },
     "execution_count": 3,
     "metadata": {},
     "output_type": "execute_result"
    }
   ],
   "source": [
    "x = tf.constant([1.8, 2.2], dtype=tf.float32)\n",
    "tf.cast(x, tf.int32) "
   ]
  }
 ],
 "metadata": {
  "interpreter": {
   "hash": "4458a2658da51840528fa6edc0e123ca99e4f689a672b9eb492d7a9557ff8a71"
  },
  "kernelspec": {
   "display_name": "Python 3.7.11 64-bit ('py3.7': conda)",
   "name": "python3"
  },
  "language_info": {
   "codemirror_mode": {
    "name": "ipython",
    "version": 3
   },
   "file_extension": ".py",
   "mimetype": "text/x-python",
   "name": "python",
   "nbconvert_exporter": "python",
   "pygments_lexer": "ipython3",
   "version": "3.7.11"
  }
 },
 "nbformat": 4,
 "nbformat_minor": 4
}
