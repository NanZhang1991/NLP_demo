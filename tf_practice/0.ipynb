{
 "cells": [
  {
   "cell_type": "code",
   "execution_count": 3,
   "metadata": {},
   "outputs": [
    {
     "name": "stdout",
     "output_type": "stream",
     "text": [
      "Looking in indexes: https://pypi.douban.com/simple\n",
      "Requirement already satisfied: tensorflow in /root/miniconda3/envs/tfs/lib/python3.9/site-packages (2.7.0)\n",
      "Requirement already satisfied: tensorflow-io-gcs-filesystem>=0.21.0 in /root/miniconda3/envs/tfs/lib/python3.9/site-packages (from tensorflow) (0.22.0)\n",
      "Requirement already satisfied: tensorflow-estimator<2.8,~=2.7.0rc0 in /root/miniconda3/envs/tfs/lib/python3.9/site-packages (from tensorflow) (2.7.0)\n",
      "Requirement already satisfied: gast<0.5.0,>=0.2.1 in /root/miniconda3/envs/tfs/lib/python3.9/site-packages (from tensorflow) (0.4.0)\n",
      "Requirement already satisfied: google-pasta>=0.1.1 in /root/miniconda3/envs/tfs/lib/python3.9/site-packages (from tensorflow) (0.2.0)\n",
      "Requirement already satisfied: grpcio<2.0,>=1.24.3 in /root/miniconda3/envs/tfs/lib/python3.9/site-packages (from tensorflow) (1.42.0)\n",
      "Requirement already satisfied: numpy>=1.14.5 in /root/miniconda3/envs/tfs/lib/python3.9/site-packages (from tensorflow) (1.21.4)\n",
      "Requirement already satisfied: absl-py>=0.4.0 in /root/miniconda3/envs/tfs/lib/python3.9/site-packages (from tensorflow) (1.0.0)\n",
      "Requirement already satisfied: h5py>=2.9.0 in /root/miniconda3/envs/tfs/lib/python3.9/site-packages (from tensorflow) (3.6.0)\n",
      "Requirement already satisfied: libclang>=9.0.1 in /root/miniconda3/envs/tfs/lib/python3.9/site-packages (from tensorflow) (12.0.0)\n",
      "Requirement already satisfied: keras<2.8,>=2.7.0rc0 in /root/miniconda3/envs/tfs/lib/python3.9/site-packages (from tensorflow) (2.7.0)\n",
      "Requirement already satisfied: typing-extensions>=3.6.6 in /root/miniconda3/envs/tfs/lib/python3.9/site-packages (from tensorflow) (4.0.1)\n",
      "Requirement already satisfied: astunparse>=1.6.0 in /root/miniconda3/envs/tfs/lib/python3.9/site-packages (from tensorflow) (1.6.3)\n",
      "Requirement already satisfied: six>=1.12.0 in /root/miniconda3/envs/tfs/lib/python3.9/site-packages (from tensorflow) (1.16.0)\n",
      "Requirement already satisfied: wrapt>=1.11.0 in /root/miniconda3/envs/tfs/lib/python3.9/site-packages (from tensorflow) (1.13.3)\n",
      "Requirement already satisfied: wheel<1.0,>=0.32.0 in /root/miniconda3/envs/tfs/lib/python3.9/site-packages (from tensorflow) (0.37.0)\n",
      "Requirement already satisfied: tensorboard~=2.6 in /root/miniconda3/envs/tfs/lib/python3.9/site-packages (from tensorflow) (2.7.0)\n",
      "Requirement already satisfied: termcolor>=1.1.0 in /root/miniconda3/envs/tfs/lib/python3.9/site-packages (from tensorflow) (1.1.0)\n",
      "Requirement already satisfied: protobuf>=3.9.2 in /root/miniconda3/envs/tfs/lib/python3.9/site-packages (from tensorflow) (3.19.1)\n",
      "Requirement already satisfied: keras-preprocessing>=1.1.1 in /root/miniconda3/envs/tfs/lib/python3.9/site-packages (from tensorflow) (1.1.2)\n",
      "Requirement already satisfied: flatbuffers<3.0,>=1.12 in /root/miniconda3/envs/tfs/lib/python3.9/site-packages (from tensorflow) (2.0)\n",
      "Requirement already satisfied: opt-einsum>=2.3.2 in /root/miniconda3/envs/tfs/lib/python3.9/site-packages (from tensorflow) (3.3.0)\n",
      "Requirement already satisfied: google-auth-oauthlib<0.5,>=0.4.1 in /root/miniconda3/envs/tfs/lib/python3.9/site-packages (from tensorboard~=2.6->tensorflow) (0.4.6)\n",
      "Requirement already satisfied: setuptools>=41.0.0 in /root/miniconda3/envs/tfs/lib/python3.9/site-packages (from tensorboard~=2.6->tensorflow) (58.0.4)\n",
      "Requirement already satisfied: tensorboard-plugin-wit>=1.6.0 in /root/miniconda3/envs/tfs/lib/python3.9/site-packages (from tensorboard~=2.6->tensorflow) (1.8.0)\n",
      "Requirement already satisfied: requests<3,>=2.21.0 in /root/miniconda3/envs/tfs/lib/python3.9/site-packages (from tensorboard~=2.6->tensorflow) (2.26.0)\n",
      "Requirement already satisfied: tensorboard-data-server<0.7.0,>=0.6.0 in /root/miniconda3/envs/tfs/lib/python3.9/site-packages (from tensorboard~=2.6->tensorflow) (0.6.1)\n",
      "Requirement already satisfied: werkzeug>=0.11.15 in /root/miniconda3/envs/tfs/lib/python3.9/site-packages (from tensorboard~=2.6->tensorflow) (2.0.2)\n",
      "Requirement already satisfied: markdown>=2.6.8 in /root/miniconda3/envs/tfs/lib/python3.9/site-packages (from tensorboard~=2.6->tensorflow) (3.3.6)\n",
      "Requirement already satisfied: google-auth<3,>=1.6.3 in /root/miniconda3/envs/tfs/lib/python3.9/site-packages (from tensorboard~=2.6->tensorflow) (2.3.3)\n",
      "Requirement already satisfied: rsa<5,>=3.1.4 in /root/miniconda3/envs/tfs/lib/python3.9/site-packages (from google-auth<3,>=1.6.3->tensorboard~=2.6->tensorflow) (4.8)\n",
      "Requirement already satisfied: cachetools<5.0,>=2.0.0 in /root/miniconda3/envs/tfs/lib/python3.9/site-packages (from google-auth<3,>=1.6.3->tensorboard~=2.6->tensorflow) (4.2.4)\n",
      "Requirement already satisfied: pyasn1-modules>=0.2.1 in /root/miniconda3/envs/tfs/lib/python3.9/site-packages (from google-auth<3,>=1.6.3->tensorboard~=2.6->tensorflow) (0.2.8)\n",
      "Requirement already satisfied: requests-oauthlib>=0.7.0 in /root/miniconda3/envs/tfs/lib/python3.9/site-packages (from google-auth-oauthlib<0.5,>=0.4.1->tensorboard~=2.6->tensorflow) (1.3.0)\n",
      "Requirement already satisfied: importlib-metadata>=4.4 in /root/miniconda3/envs/tfs/lib/python3.9/site-packages (from markdown>=2.6.8->tensorboard~=2.6->tensorflow) (4.8.2)\n",
      "Requirement already satisfied: zipp>=0.5 in /root/miniconda3/envs/tfs/lib/python3.9/site-packages (from importlib-metadata>=4.4->markdown>=2.6.8->tensorboard~=2.6->tensorflow) (3.6.0)\n",
      "Requirement already satisfied: pyasn1<0.5.0,>=0.4.6 in /root/miniconda3/envs/tfs/lib/python3.9/site-packages (from pyasn1-modules>=0.2.1->google-auth<3,>=1.6.3->tensorboard~=2.6->tensorflow) (0.4.8)\n",
      "Requirement already satisfied: charset-normalizer~=2.0.0 in /root/miniconda3/envs/tfs/lib/python3.9/site-packages (from requests<3,>=2.21.0->tensorboard~=2.6->tensorflow) (2.0.9)\n",
      "Requirement already satisfied: certifi>=2017.4.17 in /root/miniconda3/envs/tfs/lib/python3.9/site-packages (from requests<3,>=2.21.0->tensorboard~=2.6->tensorflow) (2021.10.8)\n",
      "Requirement already satisfied: urllib3<1.27,>=1.21.1 in /root/miniconda3/envs/tfs/lib/python3.9/site-packages (from requests<3,>=2.21.0->tensorboard~=2.6->tensorflow) (1.26.7)\n",
      "Requirement already satisfied: idna<4,>=2.5 in /root/miniconda3/envs/tfs/lib/python3.9/site-packages (from requests<3,>=2.21.0->tensorboard~=2.6->tensorflow) (3.3)\n",
      "Requirement already satisfied: oauthlib>=3.0.0 in /root/miniconda3/envs/tfs/lib/python3.9/site-packages (from requests-oauthlib>=0.7.0->google-auth-oauthlib<0.5,>=0.4.1->tensorboard~=2.6->tensorflow) (3.1.1)\n",
      "\u001b[33mWARNING: Running pip as the 'root' user can result in broken permissions and conflicting behaviour with the system package manager. It is recommended to use a virtual environment instead: https://pip.pypa.io/warnings/venv\u001b[0m\n"
     ]
    }
   ],
   "source": [
    "! pip install tensorflow"
   ]
  },
  {
   "cell_type": "code",
   "execution_count": 1,
   "metadata": {},
   "outputs": [],
   "source": [
    "import tensorflow as tf"
   ]
  },
  {
   "cell_type": "code",
   "execution_count": 2,
   "metadata": {},
   "outputs": [
    {
     "name": "stdout",
     "output_type": "stream",
     "text": [
      "2.9.1\n",
      "WARNING:tensorflow:From C:\\Users\\Nan\\AppData\\Local\\Temp\\ipykernel_15964\\2789017953.py:2: is_gpu_available (from tensorflow.python.framework.test_util) is deprecated and will be removed in a future version.\n",
      "Instructions for updating:\n",
      "Use `tf.config.list_physical_devices('GPU')` instead.\n",
      "True\n",
      "[PhysicalDevice(name='/physical_device:GPU:0', device_type='GPU')]\n"
     ]
    }
   ],
   "source": [
    "print(tf.__version__)\n",
    "print(tf.test.is_gpu_available())\n",
    "print(tf.config.list_physical_devices('GPU'))"
   ]
  },
  {
   "cell_type": "code",
   "execution_count": 3,
   "metadata": {},
   "outputs": [
    {
     "data": {
      "text/plain": [
       "<tf.Tensor: shape=(2, 5), dtype=int32, numpy=\n",
       "array([[0, 0, 1, 0, 2],\n",
       "       [0, 5, 0, 6, 0]])>"
      ]
     },
     "execution_count": 3,
     "metadata": {},
     "output_type": "execute_result"
    }
   ],
   "source": [
    "params = tf.constant([\n",
    "    (0, 0, 1, 0, 2),\n",
    "    [3, 0, 0, 0, 4],\n",
    "    [0, 5, 0, 6, 0]])\n",
    "indices = tf.constant(\n",
    "    [0,2])\n",
    "tf.gather(params, indices)"
   ]
  },
  {
   "cell_type": "code",
   "execution_count": 3,
   "metadata": {},
   "outputs": [],
   "source": [
    "params = tf.constant([\n",
    "    (0, 0, 1, 0, 2),\n",
    "    [3, 0, 0, 0, 4],\n",
    "    [0, 5, 0, 6, 0]])\n",
    "indices = tf.constant(\n",
    "    [2, 4, 3])"
   ]
  },
  {
   "cell_type": "code",
   "execution_count": 4,
   "metadata": {},
   "outputs": [
    {
     "data": {
      "text/plain": [
       "array([[1, 2, 0],\n",
       "       [0, 4, 0],\n",
       "       [0, 0, 6]], dtype=int32)"
      ]
     },
     "execution_count": 4,
     "metadata": {},
     "output_type": "execute_result"
    }
   ],
   "source": [
    "tf.gather(params, indices, axis=1).numpy()"
   ]
  },
  {
   "cell_type": "code",
   "execution_count": 5,
   "metadata": {},
   "outputs": [
    {
     "data": {
      "text/plain": [
       "<tf.Tensor: shape=(3,), dtype=int32, numpy=array([1, 4, 6], dtype=int32)>"
      ]
     },
     "execution_count": 5,
     "metadata": {},
     "output_type": "execute_result"
    }
   ],
   "source": [
    "tf.gather(params, tf.constant([2, 4, 3]), axis=1, batch_dims=1)"
   ]
  },
  {
   "cell_type": "code",
   "execution_count": 6,
   "metadata": {},
   "outputs": [
    {
     "data": {
      "text/plain": [
       "array([[1, 2],\n",
       "       [3, 4],\n",
       "       [5, 6]], dtype=int32)"
      ]
     },
     "execution_count": 6,
     "metadata": {},
     "output_type": "execute_result"
    }
   ],
   "source": [
    "params = tf.constant([\n",
    "    [0, 0, 1, 0, 2],\n",
    "    [3, 0, 0, 0, 4],\n",
    "    [0, 5, 0, 6, 0]])\n",
    "indices = tf.constant([\n",
    "    [2, 4],\n",
    "    [0, 4],\n",
    "    [1, 3]])\n",
    "tf.gather(params, indices, axis=1, batch_dims=1).numpy()"
   ]
  },
  {
   "cell_type": "code",
   "execution_count": 7,
   "metadata": {},
   "outputs": [
    {
     "data": {
      "text/plain": [
       "<tf.Tensor: shape=(2, 1, 3), dtype=float32, numpy=\n",
       "array([[[-0.917749  ,  0.23967385,  0.24835128]],\n",
       "\n",
       "       [[ 0.3983369 , -0.576468  ,  0.77371967]]], dtype=float32)>"
      ]
     },
     "execution_count": 7,
     "metadata": {},
     "output_type": "execute_result"
    }
   ],
   "source": [
    "indices = tf.constant([[1],\n",
    "             [2]])\n",
    "params = tf.constant([[[-1.0228521 ,  0.7286925 , -0.84171396],\n",
    "                       [-0.917749  ,  0.23967385,  0.24835128],\n",
    "                       [-0.12899126,  0.48454696, -0.8943562 ]],\n",
    "                      [[-0.17912224,  0.3945618 , -0.5160401 ],\n",
    "                       [-0.29391372,  0.0176767 ,  1.055536  ],\n",
    "                       [ 0.3983369 , -0.576468  ,  0.77371967]]])\n",
    "tf.gather(params, indices, batch_dims=1)"
   ]
  },
  {
   "cell_type": "code",
   "execution_count": 27,
   "metadata": {},
   "outputs": [
    {
     "data": {
      "text/plain": [
       "<tf.Tensor: shape=(2, 3), dtype=float32, numpy=\n",
       "array([[-0.917749  ,  0.23967385,  0.24835128],\n",
       "       [ 0.3983369 , -0.576468  ,  0.77371967]], dtype=float32)>"
      ]
     },
     "execution_count": 27,
     "metadata": {},
     "output_type": "execute_result"
    }
   ],
   "source": [
    "indices = tf.constant([1, 2])\n",
    "params = tf.constant([[[-1.0228521 ,  0.7286925 , -0.84171396],\n",
    "                       [-0.917749  ,  0.23967385,  0.24835128],\n",
    "                       [-0.12899126,  0.48454696, -0.8943562 ]],\n",
    "                      [[-0.17912224,  0.3945618 , -0.5160401 ],\n",
    "                       [-0.29391372,  0.0176767 ,  1.055536  ],\n",
    "                       [ 0.3983369 , -0.576468  ,  0.77371967]]])\n",
    "tf.gather(params, indices, axis=1, batch_dims=1)"
   ]
  },
  {
   "cell_type": "code",
   "execution_count": 23,
   "metadata": {},
   "outputs": [
    {
     "data": {
      "text/plain": [
       "<tf.Tensor: shape=(4, 1), dtype=float32, numpy=\n",
       "array([[ 2.],\n",
       "       [11.],\n",
       "       [22.],\n",
       "       [32.]], dtype=float32)>"
      ]
     },
     "execution_count": 23,
     "metadata": {},
     "output_type": "execute_result"
    }
   ],
   "source": [
    "params = tf.constant([[0, 1.0, 2.0],\n",
    "                      [10.0, 11.0, 12.0],\n",
    "                      [20.0, 21.0, 22.0],\n",
    "                      [30.0, 31.0, 32.0]])\n",
    "tf.gather(params, indices=[[2],[1],[2],[2]], axis=1, batch_dims=1)"
   ]
  },
  {
   "cell_type": "code",
   "execution_count": 15,
   "metadata": {},
   "outputs": [
    {
     "name": "stdout",
     "output_type": "stream",
     "text": [
      "tf.Tensor(\n",
      "[[0 7 1 2 2]\n",
      " [1 7 3 4 3]\n",
      " [2 7 5 6 6]\n",
      " [3 7 7 8 7]\n",
      " [4 7 7 8 7]\n",
      " [5 7 7 8 7]], shape=(6, 5), dtype=int32)\n"
     ]
    },
    {
     "data": {
      "text/plain": [
       "<tf.Tensor: shape=(6, 5, 1), dtype=int32, numpy=\n",
       "array([[[0],\n",
       "        [7],\n",
       "        [1],\n",
       "        [2],\n",
       "        [2]],\n",
       "\n",
       "       [[1],\n",
       "        [7],\n",
       "        [3],\n",
       "        [4],\n",
       "        [3]],\n",
       "\n",
       "       [[2],\n",
       "        [7],\n",
       "        [5],\n",
       "        [6],\n",
       "        [6]],\n",
       "\n",
       "       [[3],\n",
       "        [7],\n",
       "        [7],\n",
       "        [8],\n",
       "        [7]],\n",
       "\n",
       "       [[4],\n",
       "        [7],\n",
       "        [7],\n",
       "        [8],\n",
       "        [7]],\n",
       "\n",
       "       [[5],\n",
       "        [7],\n",
       "        [7],\n",
       "        [8],\n",
       "        [7]]])>"
      ]
     },
     "execution_count": 15,
     "metadata": {},
     "output_type": "execute_result"
    }
   ],
   "source": [
    "\n",
    "current=[\n",
    "        [0,7,1,2,2],\n",
    "        [1,7,3,4,3],\n",
    "        [2,7,5,6,6],\n",
    "        [3,7,7,8,7],\n",
    "        [4,7,7,8,7],\n",
    "        [5,7,7,8,7]\n",
    "        ]\n",
    "\n",
    "current =tf.constant(current)\n",
    "print(current)\n",
    "points_e = tf.expand_dims(current, axis=2)\n",
    "points_e"
   ]
  },
  {
   "cell_type": "code",
   "execution_count": 3,
   "metadata": {},
   "outputs": [
    {
     "data": {
      "text/plain": [
       "<tf.Tensor: shape=(2,), dtype=int32, numpy=array([1, 2])>"
      ]
     },
     "execution_count": 3,
     "metadata": {},
     "output_type": "execute_result"
    }
   ],
   "source": [
    "x = tf.constant([1.8, 2.2], dtype=tf.float32)\n",
    "tf.cast(x, tf.int32) "
   ]
  },
  {
   "cell_type": "code",
   "execution_count": 6,
   "metadata": {},
   "outputs": [
    {
     "data": {
      "text/plain": [
       "['',\n",
       " 'compile',\n",
       " ' ',\n",
       " '函数用于编译正则表达式',\n",
       " '，',\n",
       " '生成一个正则表达式',\n",
       " '（ ',\n",
       " 'Pattern',\n",
       " ' ）',\n",
       " '对象',\n",
       " '，',\n",
       " '供',\n",
       " ' ',\n",
       " 'match',\n",
       " '() ',\n",
       " '和',\n",
       " ' ',\n",
       " 'search这两个函数使',\n",
       " '.']"
      ]
     },
     "execution_count": 6,
     "metadata": {},
     "output_type": "execute_result"
    }
   ],
   "source": [
    "import re\n",
    "re_han = re.compile(\"([\\u4E00-\\u9Fa5a-zA-Z0-9+#&]+)\", re.U)\n",
    "text = 'compile 函数用于编译正则表达式，生成一个正则表达式（ Pattern ）对象，供 match() 和 search这两个函数使.'\n",
    "re_han.split(text)"
   ]
  }
 ],
 "metadata": {
  "kernelspec": {
   "display_name": "Python 3.8.8 ('py3.8')",
   "language": "python",
   "name": "python3"
  },
  "language_info": {
   "codemirror_mode": {
    "name": "ipython",
    "version": 3
   },
   "file_extension": ".py",
   "mimetype": "text/x-python",
   "name": "python",
   "nbconvert_exporter": "python",
   "pygments_lexer": "ipython3",
   "version": "3.8.8"
  },
  "vscode": {
   "interpreter": {
    "hash": "c87b1f44594b67819a704c3c4238e15d055a646151ba29c648f9c587b7431b78"
   }
  }
 },
 "nbformat": 4,
 "nbformat_minor": 4
}
