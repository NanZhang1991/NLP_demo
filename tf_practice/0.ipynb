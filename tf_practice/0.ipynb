{
 "cells": [
  {
   "cell_type": "code",
   "execution_count": 2,
   "metadata": {},
   "outputs": [],
   "source": [
    "import tensorflow as tf"
   ]
  },
  {
   "cell_type": "code",
   "execution_count": 45,
   "metadata": {},
   "outputs": [
    {
     "data": {
      "text/plain": [
       "<tf.Tensor: shape=(2, 5), dtype=int32, numpy=\n",
       "array([[0, 0, 1, 0, 2],\n",
       "       [0, 5, 0, 6, 0]])>"
      ]
     },
     "execution_count": 45,
     "metadata": {},
     "output_type": "execute_result"
    }
   ],
   "source": [
    "params = tf.constant([\r\n",
    "    (0, 0, 1, 0, 2),\r\n",
    "    [3, 0, 0, 0, 4],\r\n",
    "    [0, 5, 0, 6, 0]])\r\n",
    "indices = tf.constant(\r\n",
    "    [0,2])\r\n",
    "tf.gather(params, indices)"
   ]
  },
  {
   "cell_type": "code",
   "execution_count": 27,
   "metadata": {},
   "outputs": [],
   "source": [
    "params = tf.constant([\r\n",
    "    (0, 0, 1, 0, 2),\r\n",
    "    [3, 0, 0, 0, 4],\r\n",
    "    [0, 5, 0, 6, 0]])\r\n",
    "indices = tf.constant(\r\n",
    "    [2, 4, 3])"
   ]
  },
  {
   "cell_type": "code",
   "execution_count": 28,
   "metadata": {},
   "outputs": [
    {
     "data": {
      "text/plain": [
       "array([[1, 2, 0],\n",
       "       [0, 4, 0],\n",
       "       [0, 0, 6]])"
      ]
     },
     "execution_count": 28,
     "metadata": {},
     "output_type": "execute_result"
    }
   ],
   "source": [
    "tf.gather(params, indices, axis=1).numpy()"
   ]
  },
  {
   "cell_type": "code",
   "execution_count": 43,
   "metadata": {},
   "outputs": [
    {
     "data": {
      "text/plain": [
       "<tf.Tensor: shape=(3,), dtype=int32, numpy=array([1, 4, 6])>"
      ]
     },
     "execution_count": 43,
     "metadata": {},
     "output_type": "execute_result"
    }
   ],
   "source": [
    "tf.gather(params, tf.constant([2, 4, 3]), axis=1, batch_dims=1)"
   ]
  },
  {
   "cell_type": "code",
   "execution_count": 17,
   "metadata": {},
   "outputs": [
    {
     "data": {
      "text/plain": [
       "array([[1, 2],\n",
       "       [3, 4],\n",
       "       [5, 6]])"
      ]
     },
     "execution_count": 17,
     "metadata": {},
     "output_type": "execute_result"
    }
   ],
   "source": [
    "params = tf.constant([\r\n",
    "    [0, 0, 1, 0, 2],\r\n",
    "    [3, 0, 0, 0, 4],\r\n",
    "    [0, 5, 0, 6, 0]])\r\n",
    "indices = tf.constant([\r\n",
    "    [2, 4],\r\n",
    "    [0, 4],\r\n",
    "    [1, 3]])\r\n",
    "tf.gather(params, indices, axis=1, batch_dims=1).numpy()"
   ]
  },
  {
   "cell_type": "code",
   "execution_count": 2,
   "metadata": {},
   "outputs": [
    {
     "data": {
      "text/plain": [
       "<tf.Tensor: shape=(2, 1, 3), dtype=float32, numpy=\n",
       "array([[[-0.917749  ,  0.23967385,  0.24835128]],\n",
       "\n",
       "       [[ 0.3983369 , -0.576468  ,  0.77371967]]], dtype=float32)>"
      ]
     },
     "execution_count": 2,
     "metadata": {},
     "output_type": "execute_result"
    }
   ],
   "source": [
    "indices = tf.constant([[1],\r\n",
    "             [2]])\r\n",
    "params = tf.constant([[[-1.0228521 ,  0.7286925 , -0.84171396],\r\n",
    "                       [-0.917749  ,  0.23967385,  0.24835128],\r\n",
    "                       [-0.12899126,  0.48454696, -0.8943562 ]],\r\n",
    "                      [[-0.17912224,  0.3945618 , -0.5160401 ],\r\n",
    "                       [-0.29391372,  0.0176767 ,  1.055536  ],\r\n",
    "                       [ 0.3983369 , -0.576468  ,  0.77371967]]])\r\n",
    "tf.gather(params, indices, batch_dims=1)"
   ]
  },
  {
   "cell_type": "code",
   "execution_count": 27,
   "metadata": {},
   "outputs": [
    {
     "data": {
      "text/plain": [
       "<tf.Tensor: shape=(2, 3), dtype=float32, numpy=\n",
       "array([[-0.917749  ,  0.23967385,  0.24835128],\n",
       "       [ 0.3983369 , -0.576468  ,  0.77371967]], dtype=float32)>"
      ]
     },
     "execution_count": 27,
     "metadata": {},
     "output_type": "execute_result"
    }
   ],
   "source": [
    "indices = tf.constant([1, 2])\r\n",
    "params = tf.constant([[[-1.0228521 ,  0.7286925 , -0.84171396],\r\n",
    "                       [-0.917749  ,  0.23967385,  0.24835128],\r\n",
    "                       [-0.12899126,  0.48454696, -0.8943562 ]],\r\n",
    "                      [[-0.17912224,  0.3945618 , -0.5160401 ],\r\n",
    "                       [-0.29391372,  0.0176767 ,  1.055536  ],\r\n",
    "                       [ 0.3983369 , -0.576468  ,  0.77371967]]])\r\n",
    "tf.gather(params, indices, axis=1, batch_dims=1)"
   ]
  },
  {
   "cell_type": "code",
   "execution_count": 23,
   "metadata": {},
   "outputs": [
    {
     "data": {
      "text/plain": [
       "<tf.Tensor: shape=(4, 1), dtype=float32, numpy=\n",
       "array([[ 2.],\n",
       "       [11.],\n",
       "       [22.],\n",
       "       [32.]], dtype=float32)>"
      ]
     },
     "execution_count": 23,
     "metadata": {},
     "output_type": "execute_result"
    }
   ],
   "source": [
    "params = tf.constant([[0, 1.0, 2.0],\r\n",
    "                      [10.0, 11.0, 12.0],\r\n",
    "                      [20.0, 21.0, 22.0],\r\n",
    "                      [30.0, 31.0, 32.0]])\r\n",
    "tf.gather(params, indices=[[2],[1],[2],[2]], axis=1, batch_dims=1)"
   ]
  },
  {
   "cell_type": "code",
   "execution_count": 15,
   "metadata": {},
   "outputs": [
    {
     "name": "stdout",
     "output_type": "stream",
     "text": [
      "tf.Tensor(\n",
      "[[0 7 1 2 2]\n",
      " [1 7 3 4 3]\n",
      " [2 7 5 6 6]\n",
      " [3 7 7 8 7]\n",
      " [4 7 7 8 7]\n",
      " [5 7 7 8 7]], shape=(6, 5), dtype=int32)\n"
     ]
    },
    {
     "data": {
      "text/plain": [
       "<tf.Tensor: shape=(6, 5, 1), dtype=int32, numpy=\n",
       "array([[[0],\n",
       "        [7],\n",
       "        [1],\n",
       "        [2],\n",
       "        [2]],\n",
       "\n",
       "       [[1],\n",
       "        [7],\n",
       "        [3],\n",
       "        [4],\n",
       "        [3]],\n",
       "\n",
       "       [[2],\n",
       "        [7],\n",
       "        [5],\n",
       "        [6],\n",
       "        [6]],\n",
       "\n",
       "       [[3],\n",
       "        [7],\n",
       "        [7],\n",
       "        [8],\n",
       "        [7]],\n",
       "\n",
       "       [[4],\n",
       "        [7],\n",
       "        [7],\n",
       "        [8],\n",
       "        [7]],\n",
       "\n",
       "       [[5],\n",
       "        [7],\n",
       "        [7],\n",
       "        [8],\n",
       "        [7]]])>"
      ]
     },
     "execution_count": 15,
     "metadata": {},
     "output_type": "execute_result"
    }
   ],
   "source": [
    "\r\n",
    "current=[\r\n",
    "        [0,7,1,2,2],\r\n",
    "        [1,7,3,4,3],\r\n",
    "        [2,7,5,6,6],\r\n",
    "        [3,7,7,8,7],\r\n",
    "        [4,7,7,8,7],\r\n",
    "        [5,7,7,8,7]\r\n",
    "        ]\r\n",
    "\r\n",
    "current =tf.constant(current)\r\n",
    "print(current)\r\n",
    "points_e = tf.expand_dims(current, axis=2)\r\n",
    "points_e"
   ]
  },
  {
   "cell_type": "code",
   "execution_count": null,
   "metadata": {},
   "outputs": [],
   "source": []
  }
 ],
 "metadata": {
  "interpreter": {
   "hash": "aee43b18bdf7c1a4ac65a12e5fa87ef7b96ed7d04836ac8559d1db4b30b000de"
  },
  "kernelspec": {
   "display_name": "Python 3 (ipykernel)",
   "language": "python",
   "name": "python3"
  },
  "language_info": {
   "codemirror_mode": {
    "name": "ipython",
    "version": 3
   },
   "file_extension": ".py",
   "mimetype": "text/x-python",
   "name": "python",
   "nbconvert_exporter": "python",
   "pygments_lexer": "ipython3",
   "version": "3.9.5"
  }
 },
 "nbformat": 4,
 "nbformat_minor": 4
}
