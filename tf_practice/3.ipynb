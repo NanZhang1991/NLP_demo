{
 "cells": [
  {
   "cell_type": "code",
   "execution_count": 10,
   "metadata": {},
   "outputs": [],
   "source": [
    "import keras.backend as K\r\n",
    "from bert4keras.tokenizers import Tokenizer\r\n",
    "import numpy as np\r\n",
    "import codecs\r\n",
    "import json\r\n",
    "import unicodedata\r\n",
    "\r\n"
   ]
  },
  {
   "cell_type": "code",
   "execution_count": 11,
   "metadata": {},
   "outputs": [],
   "source": [
    "bert_vocab_path = 'vocab.txt'\r\n",
    "tokenizer = Tokenizer(bert_vocab_path, do_lower_case=True)"
   ]
  },
  {
   "cell_type": "code",
   "execution_count": 12,
   "metadata": {},
   "outputs": [
    {
     "name": "stdout",
     "output_type": "stream",
     "text": [
      "([101, 4263, 2548, 1290, 185, 2225, 4906, 185, 1812, 2209, 1298, 6832, 3172, 8020, 8629, 118, 8021, 8024, 3221, 671, 855, 6716, 7770, 1372, 3300, 8203, 1062, 1146, 1520, 840, 3683, 762, 4511, 2094, 8024, 860, 7028, 8108, 1062, 3165, 8024, 1372, 3683, 7390, 6716, 6121, 3330, 7770, 671, 763, 8024, 8166, 2399, 5815, 1395, 2225, 3172, 686, 4518, 5279, 2497, 3633, 2466, 6371, 6395, 8024, 2768, 711, 1059, 4413, 2496, 791, 3297, 4765, 4638, 2768, 2399, 4511, 782, 102], [0, 0, 0, 0, 0, 0, 0, 0, 0, 0, 0, 0, 0, 0, 0, 0, 0, 0, 0, 0, 0, 0, 0, 0, 0, 0, 0, 0, 0, 0, 0, 0, 0, 0, 0, 0, 0, 0, 0, 0, 0, 0, 0, 0, 0, 0, 0, 0, 0, 0, 0, 0, 0, 0, 0, 0, 0, 0, 0, 0, 0, 0, 0, 0, 0, 0, 0, 0, 0, 0, 0, 0, 0, 0, 0, 0, 0, 0, 0, 0])\n"
     ]
    }
   ],
   "source": [
    "text = '爱德华·尼科·埃尔南迪斯（1986-），是一位身高只有70公分哥伦比亚男子，体重10公斤，只比随身行李高一些，2010年获吉尼斯世界纪录正式认证，成为全球当今最矮的成年男人'\r\n",
    "print(tokenizer.encode(text))"
   ]
  },
  {
   "cell_type": "code",
   "execution_count": 17,
   "metadata": {},
   "outputs": [
    {
     "data": {
      "text/plain": "['[CLS]',\n '爱',\n '德',\n '华',\n '·',\n '尼',\n '科',\n '·',\n '埃',\n '尔',\n '南',\n '迪',\n '斯',\n '（',\n '1986',\n '-',\n '）',\n '，',\n '是',\n '一',\n '位',\n '身',\n '高',\n '只',\n '有',\n '70',\n '公',\n '分',\n '哥',\n '伦',\n '比',\n '亚',\n '男',\n '子',\n '，',\n '体',\n '重',\n '10',\n '公',\n '斤',\n '，',\n '只',\n '比',\n '随',\n '身',\n '行',\n '李',\n '高',\n '一',\n '些',\n '，',\n '2010',\n '年',\n '获',\n '吉',\n '尼',\n '斯',\n '世',\n '界',\n '纪',\n '录',\n '正',\n '式',\n '认',\n '证',\n '，',\n '成',\n '为',\n '全',\n '球',\n '当',\n '今',\n '最',\n '矮',\n '的',\n '成',\n '年',\n '男',\n '人',\n '[SEP]']"
     },
     "execution_count": 17,
     "metadata": {},
     "output_type": "execute_result"
    }
   ],
   "source": [
    "tokens = tokenizer.tokenize(text)\r\n",
    "tokens"
   ]
  },
  {
   "cell_type": "code",
   "execution_count": 19,
   "metadata": {},
   "outputs": [
    {
     "data": {
      "text/plain": "[[],\n [0],\n [1],\n [2],\n [3],\n [4],\n [5],\n [6],\n [7],\n [8],\n [9],\n [10],\n [11],\n [12],\n [13, 14, 15, 16],\n [17],\n [18],\n [19],\n [20],\n [21],\n [22],\n [23],\n [24],\n [25],\n [26],\n [27, 28],\n [29],\n [30],\n [31],\n [32],\n [33],\n [34],\n [35],\n [36],\n [37],\n [38],\n [39],\n [40, 41],\n [42],\n [43],\n [44],\n [45],\n [46],\n [47],\n [48],\n [49],\n [50],\n [51],\n [52],\n [53],\n [54],\n [55, 56, 57, 58],\n [59],\n [60],\n [61],\n [62],\n [63],\n [64],\n [65],\n [66],\n [67],\n [68],\n [69],\n [70],\n [71],\n [72],\n [73],\n [74],\n [75],\n [76],\n [77],\n [78],\n [79],\n [80],\n [81],\n [82],\n [83],\n [84],\n [85],\n []]"
     },
     "execution_count": 19,
     "metadata": {},
     "output_type": "execute_result"
    }
   ],
   "source": [
    "tokenizer.rematch(text, tokens)"
   ]
  },
  {
   "cell_type": "code",
   "execution_count": 37,
   "metadata": {},
   "outputs": [
    {
     "name": "stdout",
     "output_type": "stream",
     "text": [
      "[0. 1. 1.]\n"
     ]
    }
   ],
   "source": [
    "import tensorflow as tf\r\n",
    "\r\n",
    "x = K.constant([5, 4, 6])\r\n",
    "y = K.constant([5, 2, 5])\r\n",
    "z = K.cast(K.greater(x, y),'float32')\r\n",
    "\r\n",
    "with tf.Session() as sess:\r\n",
    "    print(sess.run(z))\r\n"
   ]
  },
  {
   "cell_type": "code",
   "execution_count": 44,
   "metadata": {},
   "outputs": [
    {
     "name": "stdout",
     "output_type": "stream",
     "text": [
      "[10.  6. 11.]\n"
     ]
    }
   ],
   "source": [
    "x = K.constant([5, 4, 6])\r\n",
    "y = K.constant([5, 2, 5])\r\n",
    "z = K.sum([x,y],axis=0)\r\n",
    "with tf.Session() as sess:\r\n",
    "    print(sess.run(z))"
   ]
  },
  {
   "cell_type": "code",
   "execution_count": null,
   "metadata": {},
   "outputs": [],
   "source": []
  }
 ],
 "metadata": {
  "kernelspec": {
   "display_name": "Python 3.7.10 64-bit ('KB': conda)",
   "name": "python3710jvsc74a57bd083b5b3efe3a9978372deb74d899f5f21fa77216f13b11d502345dddf3bb4d657"
  },
  "language_info": {
   "codemirror_mode": {
    "name": "ipython",
    "version": 3
   },
   "file_extension": ".py",
   "mimetype": "text/x-python",
   "name": "python",
   "nbconvert_exporter": "python",
   "pygments_lexer": "ipython3",
   "version": "3.7.10"
  },
  "orig_nbformat": 2
 },
 "nbformat": 4,
 "nbformat_minor": 2
}