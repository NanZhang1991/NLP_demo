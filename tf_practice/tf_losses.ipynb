{
  "cells": [
    {
      "cell_type": "code",
      "execution_count": 1,
      "metadata": {
        "colab": {
          "base_uri": "https://localhost:8080/"
        },
        "id": "_aybZWnfLV5p",
        "outputId": "ad9b6b09-b59e-4f03-b648-a8fbfe2b8b24"
      },
      "outputs": [
        {
          "name": "stdout",
          "output_type": "stream",
          "text": [
            "2.5.0\n"
          ]
        }
      ],
      "source": [
        "import tensorflow as tf\n",
        "from tensorflow.keras import backend as K\n",
        "print(tf.__version__)"
      ]
    },
    {
      "cell_type": "code",
      "execution_count": 2,
      "metadata": {
        "id": "RMULNJ_Bjy8R"
      },
      "outputs": [],
      "source": [
        "labels = tf.constant([[0, 1, 1], [0, 0, 1], [0, 1, 1]], dtype='float32')\n",
        "logits = tf.constant([[-18.6, 0.51, 0.51], [2.94, -12.8, 0.11], [1.28, -11.8, 0.21]], dtype='float32')\n",
        "\n",
        "y_pred = tf.math.sigmoid(logits)"
      ]
    },
    {
      "cell_type": "markdown",
      "metadata": {
        "id": "RmdWIjIaCx-T"
      },
      "source": [
        "## 每个样本的损失"
      ]
    },
    {
      "cell_type": "code",
      "execution_count": 3,
      "metadata": {
        "colab": {
          "base_uri": "https://localhost:8080/"
        },
        "id": "NGfBEufO1UBV",
        "outputId": "b6ece086-4a56-40f0-ed64-c59acd2e2172"
      },
      "outputs": [
        {
          "data": {
            "text/plain": [
              "<tf.Tensor: shape=(3,), dtype=float32, numpy=array([0.31354222, 1.2103926 , 4.6396613 ], dtype=float32)>"
            ]
          },
          "execution_count": 3,
          "metadata": {
            "tags": []
          },
          "output_type": "execute_result"
        }
      ],
      "source": [
        "bce = tf.keras.losses.BinaryCrossentropy(from_logits=True, reduction=tf.keras.losses.Reduction.NONE)\n",
        "bce(labels, logits)"
      ]
    },
    {
      "cell_type": "code",
      "execution_count": null,
      "metadata": {
        "colab": {
          "base_uri": "https://localhost:8080/"
        },
        "id": "BoVsG5Ed8qZ6",
        "outputId": "5437904a-7268-4527-ec6a-6c861cdda857"
      },
      "outputs": [
        {
          "data": {
            "text/plain": [
              "<tf.Tensor: shape=(2,), dtype=float32, numpy=array([0.23515657, 1.4957578 ], dtype=float32)>"
            ]
          },
          "execution_count": 394,
          "metadata": {
            "tags": []
          },
          "output_type": "execute_result"
        }
      ],
      "source": [
        "bce = tf.keras.losses.BinaryCrossentropy(reduction=tf.keras.losses.Reduction.NONE)\n",
        "bce(labels, y_pred)"
      ]
    },
    {
      "cell_type": "code",
      "execution_count": null,
      "metadata": {
        "colab": {
          "base_uri": "https://localhost:8080/"
        },
        "id": "I68WPiSEyoIz",
        "outputId": "5591aba1-240f-4e11-9645-941d8464be57"
      },
      "outputs": [
        {
          "data": {
            "text/plain": [
              "<tf.Tensor: shape=(2,), dtype=float32, numpy=array([0.23515666, 1.4957594 ], dtype=float32)>"
            ]
          },
          "execution_count": 395,
          "metadata": {
            "tags": []
          },
          "output_type": "execute_result"
        }
      ],
      "source": [
        "loss = tf.keras.losses.binary_crossentropy(labels, logits, from_logits=True)\n",
        "loss"
      ]
    },
    {
      "cell_type": "code",
      "execution_count": null,
      "metadata": {
        "colab": {
          "base_uri": "https://localhost:8080/"
        },
        "id": "HDANqDy1uijC",
        "outputId": "8cac6add-305e-40c5-e007-6b2692786cdb"
      },
      "outputs": [
        {
          "data": {
            "text/plain": [
              "<tf.Tensor: shape=(2, 2), dtype=float32, numpy=\n",
              "array([[8.3583869e-09, 4.7031331e-01],\n",
              "       [2.9915159e+00, 2.7607682e-06]], dtype=float32)>"
            ]
          },
          "execution_count": 396,
          "metadata": {
            "tags": []
          },
          "output_type": "execute_result"
        }
      ],
      "source": [
        "tf.nn.sigmoid_cross_entropy_with_logits(labels, logits)"
      ]
    },
    {
      "cell_type": "code",
      "execution_count": null,
      "metadata": {
        "colab": {
          "base_uri": "https://localhost:8080/"
        },
        "id": "29WRhu798fZS",
        "outputId": "2ebba5d8-9386-4463-914b-449e8f0206f4"
      },
      "outputs": [
        {
          "data": {
            "text/plain": [
              "<tf.Tensor: shape=(2,), dtype=float32, numpy=array([0.23515666, 1.4957594 ], dtype=float32)>"
            ]
          },
          "execution_count": 402,
          "metadata": {
            "tags": []
          },
          "output_type": "execute_result"
        }
      ],
      "source": [
        "tf.keras.backend.mean(tf.keras.backend.binary_crossentropy(labels, logits, from_logits=True),axis=1)"
      ]
    },
    {
      "cell_type": "markdown",
      "metadata": {
        "id": "bg4hNyeEC1at"
      },
      "source": [
        "## 返回平均损失"
      ]
    },
    {
      "cell_type": "code",
      "execution_count": null,
      "metadata": {
        "colab": {
          "base_uri": "https://localhost:8080/"
        },
        "id": "n8S-3Asjj1yA",
        "outputId": "c61c675e-7635-448c-e7e3-dd96289756a6"
      },
      "outputs": [
        {
          "data": {
            "text/plain": [
              "<bound method _EagerTensorBase.numpy of <tf.Tensor: shape=(), dtype=float32, numpy=0.865458>>"
            ]
          },
          "execution_count": 334,
          "metadata": {
            "tags": []
          },
          "output_type": "execute_result"
        }
      ],
      "source": [
        "bce = tf.keras.losses.BinaryCrossentropy(from_logits=True)\n",
        "bce(labels, logits).numpy"
      ]
    },
    {
      "cell_type": "code",
      "execution_count": null,
      "metadata": {
        "colab": {
          "base_uri": "https://localhost:8080/"
        },
        "id": "QNIKU7GJMT4_",
        "outputId": "93f50cb4-f08a-4fda-a942-678e61084fb7"
      },
      "outputs": [
        {
          "data": {
            "text/plain": [
              "<tf.Tensor: shape=(), dtype=float32, numpy=0.865458>"
            ]
          },
          "execution_count": 335,
          "metadata": {
            "tags": []
          },
          "output_type": "execute_result"
        }
      ],
      "source": [
        "loss = tf.keras.losses.binary_crossentropy(labels, logits, from_logits=True)\n",
        "tf.math.reduce_mean(loss)"
      ]
    },
    {
      "cell_type": "code",
      "execution_count": null,
      "metadata": {
        "colab": {
          "base_uri": "https://localhost:8080/"
        },
        "id": "6Wf4QOIoju3M",
        "outputId": "1d39cf23-2eec-4ab0-8763-225cbf677d06"
      },
      "outputs": [
        {
          "data": {
            "text/plain": [
              "<tf.Tensor: shape=(), dtype=float32, numpy=0.865458>"
            ]
          },
          "execution_count": 336,
          "metadata": {
            "tags": []
          },
          "output_type": "execute_result"
        }
      ],
      "source": [
        "tf.keras.backend.mean(tf.keras.backend.binary_crossentropy(labels, logits, from_logits=True))"
      ]
    },
    {
      "cell_type": "markdown",
      "metadata": {
        "id": "EuFi8uR8DVA9"
      },
      "source": [
        "## 所有样本的累加损失"
      ]
    },
    {
      "cell_type": "code",
      "execution_count": null,
      "metadata": {
        "colab": {
          "base_uri": "https://localhost:8080/"
        },
        "id": "9muxnZR91yka",
        "outputId": "aba3f32c-9d15-4b9f-ec6b-7394e67eb9d8"
      },
      "outputs": [
        {
          "data": {
            "text/plain": [
              "<tf.Tensor: shape=(), dtype=float32, numpy=1.730916>"
            ]
          },
          "execution_count": 337,
          "metadata": {
            "tags": []
          },
          "output_type": "execute_result"
        }
      ],
      "source": [
        "bce = tf.keras.losses.BinaryCrossentropy(from_logits=True, reduction=tf.keras.losses.Reduction.SUM)\n",
        "bce(labels, logits)"
      ]
    },
    {
      "cell_type": "code",
      "execution_count": null,
      "metadata": {
        "colab": {
          "base_uri": "https://localhost:8080/"
        },
        "id": "6J9q0AJ-8DvL",
        "outputId": "e87306ad-18b3-4d2d-bda3-14f4711aff05"
      },
      "outputs": [
        {
          "data": {
            "text/plain": [
              "<tf.Tensor: shape=(), dtype=float32, numpy=1.7309144>"
            ]
          },
          "execution_count": 338,
          "metadata": {
            "tags": []
          },
          "output_type": "execute_result"
        }
      ],
      "source": [
        "bce = tf.keras.losses.BinaryCrossentropy(reduction=tf.keras.losses.Reduction.SUM)\n",
        "bce(labels, y_pred)"
      ]
    },
    {
      "cell_type": "code",
      "execution_count": null,
      "metadata": {
        "colab": {
          "base_uri": "https://localhost:8080/"
        },
        "id": "MnyP1xXmkSeZ",
        "outputId": "f8a4ef44-e6af-474e-f3be-6c98ac4c161c"
      },
      "outputs": [
        {
          "data": {
            "text/plain": [
              "<tf.Tensor: shape=(), dtype=float32, numpy=1.730916>"
            ]
          },
          "execution_count": 339,
          "metadata": {
            "tags": []
          },
          "output_type": "execute_result"
        }
      ],
      "source": [
        "loss = tf.keras.losses.binary_crossentropy(labels, logits, from_logits=True)\n",
        "tf.math.reduce_sum(loss)"
      ]
    },
    {
      "cell_type": "code",
      "execution_count": null,
      "metadata": {
        "colab": {
          "base_uri": "https://localhost:8080/"
        },
        "id": "wFhjyov_8NKi",
        "outputId": "34aa4adb-408e-4c02-aaa0-f4d5a1305f37"
      },
      "outputs": [
        {
          "data": {
            "text/plain": [
              "<tf.Tensor: shape=(), dtype=float32, numpy=6.159179>"
            ]
          },
          "execution_count": 407,
          "metadata": {
            "tags": []
          },
          "output_type": "execute_result"
        }
      ],
      "source": [
        "loss = tf.keras.losses.binary_crossentropy(labels, y_pred)\n",
        "tf.math.reduce_sum(loss)"
      ]
    },
    {
      "cell_type": "code",
      "execution_count": null,
      "metadata": {
        "colab": {
          "base_uri": "https://localhost:8080/"
        },
        "id": "TeTgbSzcsZts",
        "outputId": "4fd2ff93-6561-424c-d220-f3cf2ec3e5c4"
      },
      "outputs": [
        {
          "data": {
            "text/plain": [
              "<tf.Tensor: shape=(), dtype=float32, numpy=6.163595>"
            ]
          },
          "execution_count": 412,
          "metadata": {
            "tags": []
          },
          "output_type": "execute_result"
        }
      ],
      "source": [
        "tf.keras.backend.sum(tf.keras.backend.binary_crossentropy(labels, logits, from_logits=True))/logits.shape[1]"
      ]
    },
    {
      "cell_type": "code",
      "execution_count": null,
      "metadata": {
        "colab": {
          "base_uri": "https://localhost:8080/"
        },
        "id": "PUTMf6Y1C9cC",
        "outputId": "757760c8-11e5-42db-b22d-acd59fad8c53"
      },
      "outputs": [
        {
          "data": {
            "text/plain": [
              "2"
            ]
          },
          "execution_count": 417,
          "metadata": {
            "tags": []
          },
          "output_type": "execute_result"
        }
      ],
      "source": [
        "logits.shape.ndims"
      ]
    },
    {
      "cell_type": "code",
      "execution_count": null,
      "metadata": {
        "colab": {
          "base_uri": "https://localhost:8080/"
        },
        "id": "FKDxkLWYDmea",
        "outputId": "e76d50e2-8112-44c1-d4f9-4cb0215bd525"
      },
      "outputs": [
        {
          "data": {
            "text/plain": [
              "2"
            ]
          },
          "execution_count": 418,
          "metadata": {
            "tags": []
          },
          "output_type": "execute_result"
        }
      ],
      "source": [
        "tf.keras.backend.ndim(logits)"
      ]
    }
  ],
  "metadata": {
    "colab": {
      "collapsed_sections": [],
      "name": "tf_losses.ipynb",
      "provenance": []
    },
    "kernelspec": {
      "display_name": "Python 3",
      "name": "python3"
    },
    "language_info": {
      "name": "python"
    }
  },
  "nbformat": 4,
  "nbformat_minor": 0
}