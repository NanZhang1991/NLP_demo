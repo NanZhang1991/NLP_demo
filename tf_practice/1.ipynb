{
 "cells": [
  {
   "cell_type": "code",
   "execution_count": 3,
   "metadata": {},
   "outputs": [
    {
     "name": "stdout",
     "output_type": "stream",
     "text": [
      "2.4.0\n",
      "True\n",
      "[PhysicalDevice(name='/physical_device:GPU:0', device_type='GPU')]\n"
     ]
    },
    {
     "name": "stderr",
     "output_type": "stream",
     "text": [
      "2021-08-20 07:41:07.715748: I tensorflow/compiler/jit/xla_gpu_device.cc:99] Not creating XLA devices, tf_xla_enable_xla_devices not set\n",
      "2021-08-20 07:41:07.716472: E tensorflow/stream_executor/cuda/cuda_gpu_executor.cc:927] could not open file to read NUMA node: /sys/bus/pci/devices/0000:01:00.0/numa_node\n",
      "Your kernel may have been built without NUMA support.\n",
      "2021-08-20 07:41:07.716840: I tensorflow/core/common_runtime/gpu/gpu_device.cc:1720] Found device 0 with properties: \n",
      "pciBusID: 0000:01:00.0 name: NVIDIA GeForce GTX 1050 computeCapability: 6.1\n",
      "coreClock: 1.493GHz coreCount: 5 deviceMemorySize: 4.00GiB deviceMemoryBandwidth: 104.43GiB/s\n",
      "2021-08-20 07:41:07.716884: I tensorflow/stream_executor/platform/default/dso_loader.cc:49] Successfully opened dynamic library libcudart.so.11.0\n",
      "2021-08-20 07:41:07.716913: I tensorflow/stream_executor/platform/default/dso_loader.cc:49] Successfully opened dynamic library libcublas.so.11\n",
      "2021-08-20 07:41:07.716924: I tensorflow/stream_executor/platform/default/dso_loader.cc:49] Successfully opened dynamic library libcublasLt.so.11\n",
      "2021-08-20 07:41:07.716935: I tensorflow/stream_executor/platform/default/dso_loader.cc:49] Successfully opened dynamic library libcufft.so.10\n",
      "2021-08-20 07:41:07.716945: I tensorflow/stream_executor/platform/default/dso_loader.cc:49] Successfully opened dynamic library libcurand.so.10\n",
      "2021-08-20 07:41:07.716956: I tensorflow/stream_executor/platform/default/dso_loader.cc:49] Successfully opened dynamic library libcusolver.so.10\n",
      "2021-08-20 07:41:07.716966: I tensorflow/stream_executor/platform/default/dso_loader.cc:49] Successfully opened dynamic library libcusparse.so.11\n",
      "2021-08-20 07:41:07.716977: I tensorflow/stream_executor/platform/default/dso_loader.cc:49] Successfully opened dynamic library libcudnn.so.8\n",
      "2021-08-20 07:41:07.717378: E tensorflow/stream_executor/cuda/cuda_gpu_executor.cc:927] could not open file to read NUMA node: /sys/bus/pci/devices/0000:01:00.0/numa_node\n",
      "Your kernel may have been built without NUMA support.\n",
      "2021-08-20 07:41:07.718068: E tensorflow/stream_executor/cuda/cuda_gpu_executor.cc:927] could not open file to read NUMA node: /sys/bus/pci/devices/0000:01:00.0/numa_node\n",
      "Your kernel may have been built without NUMA support.\n",
      "2021-08-20 07:41:07.718364: I tensorflow/core/common_runtime/gpu/gpu_device.cc:1862] Adding visible gpu devices: 0\n",
      "2021-08-20 07:41:07.718409: I tensorflow/core/common_runtime/gpu/gpu_device.cc:1261] Device interconnect StreamExecutor with strength 1 edge matrix:\n",
      "2021-08-20 07:41:07.718418: I tensorflow/core/common_runtime/gpu/gpu_device.cc:1267]      0 \n",
      "2021-08-20 07:41:07.718424: I tensorflow/core/common_runtime/gpu/gpu_device.cc:1280] 0:   N \n",
      "2021-08-20 07:41:07.719346: E tensorflow/stream_executor/cuda/cuda_gpu_executor.cc:927] could not open file to read NUMA node: /sys/bus/pci/devices/0000:01:00.0/numa_node\n",
      "Your kernel may have been built without NUMA support.\n",
      "2021-08-20 07:41:07.719673: I tensorflow/core/common_runtime/gpu/gpu_device.cc:1489] Could not identify NUMA node of platform GPU id 0, defaulting to 0.  Your kernel may not have been built with NUMA support.\n",
      "2021-08-20 07:41:07.720058: E tensorflow/stream_executor/cuda/cuda_gpu_executor.cc:927] could not open file to read NUMA node: /sys/bus/pci/devices/0000:01:00.0/numa_node\n",
      "Your kernel may have been built without NUMA support.\n",
      "2021-08-20 07:41:07.720360: I tensorflow/core/common_runtime/gpu/gpu_device.cc:1406] Created TensorFlow device (/device:GPU:0 with 2967 MB memory) -> physical GPU (device: 0, name: NVIDIA GeForce GTX 1050, pci bus id: 0000:01:00.0, compute capability: 6.1)\n"
     ]
    }
   ],
   "source": [
    "import tensorflow as tf\n",
    "from tensorflow import keras\n",
    "from tensorflow.keras import layers\n",
    "print(tf.__version__)\n",
    "print(tf.test.is_gpu_available())\n",
    "print(tf.config.list_physical_devices('GPU'))"
   ]
  },
  {
   "cell_type": "code",
   "execution_count": 4,
   "metadata": {},
   "outputs": [
    {
     "name": "stderr",
     "output_type": "stream",
     "text": [
      "2021-08-20 08:08:47.054262: I tensorflow/compiler/jit/xla_gpu_device.cc:99] Not creating XLA devices, tf_xla_enable_xla_devices not set\n",
      "2021-08-20 08:08:47.055016: E tensorflow/stream_executor/cuda/cuda_gpu_executor.cc:927] could not open file to read NUMA node: /sys/bus/pci/devices/0000:01:00.0/numa_node\n",
      "Your kernel may have been built without NUMA support.\n",
      "2021-08-20 08:08:47.055417: I tensorflow/core/common_runtime/gpu/gpu_device.cc:1720] Found device 0 with properties: \n",
      "pciBusID: 0000:01:00.0 name: NVIDIA GeForce GTX 1050 computeCapability: 6.1\n",
      "coreClock: 1.493GHz coreCount: 5 deviceMemorySize: 4.00GiB deviceMemoryBandwidth: 104.43GiB/s\n",
      "2021-08-20 08:08:47.055465: I tensorflow/stream_executor/platform/default/dso_loader.cc:49] Successfully opened dynamic library libcudart.so.11.0\n",
      "2021-08-20 08:08:47.055496: I tensorflow/stream_executor/platform/default/dso_loader.cc:49] Successfully opened dynamic library libcublas.so.11\n",
      "2021-08-20 08:08:47.055510: I tensorflow/stream_executor/platform/default/dso_loader.cc:49] Successfully opened dynamic library libcublasLt.so.11\n",
      "2021-08-20 08:08:47.055522: I tensorflow/stream_executor/platform/default/dso_loader.cc:49] Successfully opened dynamic library libcufft.so.10\n",
      "2021-08-20 08:08:47.055535: I tensorflow/stream_executor/platform/default/dso_loader.cc:49] Successfully opened dynamic library libcurand.so.10\n",
      "2021-08-20 08:08:47.055547: I tensorflow/stream_executor/platform/default/dso_loader.cc:49] Successfully opened dynamic library libcusolver.so.10\n",
      "2021-08-20 08:08:47.055559: I tensorflow/stream_executor/platform/default/dso_loader.cc:49] Successfully opened dynamic library libcusparse.so.11\n",
      "2021-08-20 08:08:47.055572: I tensorflow/stream_executor/platform/default/dso_loader.cc:49] Successfully opened dynamic library libcudnn.so.8\n",
      "2021-08-20 08:08:47.056000: E tensorflow/stream_executor/cuda/cuda_gpu_executor.cc:927] could not open file to read NUMA node: /sys/bus/pci/devices/0000:01:00.0/numa_node\n",
      "Your kernel may have been built without NUMA support.\n",
      "2021-08-20 08:08:47.056828: E tensorflow/stream_executor/cuda/cuda_gpu_executor.cc:927] could not open file to read NUMA node: /sys/bus/pci/devices/0000:01:00.0/numa_node\n",
      "Your kernel may have been built without NUMA support.\n",
      "2021-08-20 08:08:47.057251: I tensorflow/core/common_runtime/gpu/gpu_device.cc:1862] Adding visible gpu devices: 0\n",
      "2021-08-20 08:08:47.057309: I tensorflow/core/common_runtime/gpu/gpu_device.cc:1261] Device interconnect StreamExecutor with strength 1 edge matrix:\n",
      "2021-08-20 08:08:47.057318: I tensorflow/core/common_runtime/gpu/gpu_device.cc:1267]      0 \n",
      "2021-08-20 08:08:47.057324: I tensorflow/core/common_runtime/gpu/gpu_device.cc:1280] 0:   N \n",
      "2021-08-20 08:08:47.058847: E tensorflow/stream_executor/cuda/cuda_gpu_executor.cc:927] could not open file to read NUMA node: /sys/bus/pci/devices/0000:01:00.0/numa_node\n",
      "Your kernel may have been built without NUMA support.\n",
      "2021-08-20 08:08:47.059187: I tensorflow/core/common_runtime/gpu/gpu_device.cc:1489] Could not identify NUMA node of platform GPU id 0, defaulting to 0.  Your kernel may not have been built with NUMA support.\n",
      "2021-08-20 08:08:47.060030: E tensorflow/stream_executor/cuda/cuda_gpu_executor.cc:927] could not open file to read NUMA node: /sys/bus/pci/devices/0000:01:00.0/numa_node\n",
      "Your kernel may have been built without NUMA support.\n",
      "2021-08-20 08:08:47.060565: I tensorflow/core/common_runtime/gpu/gpu_device.cc:1406] Created TensorFlow device (/job:localhost/replica:0/task:0/device:GPU:0 with 2967 MB memory) -> physical GPU (device: 0, name: NVIDIA GeForce GTX 1050, pci bus id: 0000:01:00.0, compute capability: 6.1)\n"
     ]
    }
   ],
   "source": [
    "# 实际的线\r\n",
    "TRUE_W = 3.0\r\n",
    "TRUE_B = 2.0\r\n",
    "\r\n",
    "NUM_EXAMPLES = 1000\r\n",
    "\r\n",
    "# 随机向量x\r\n",
    "x = tf.random.normal(shape=[NUM_EXAMPLES])\r\n",
    "\r\n",
    "# 生成噪声\r\n",
    "noise = tf.random.normal(shape=[NUM_EXAMPLES])\r\n",
    "\r\n",
    "# 计算y\r\n",
    "y = x * TRUE_W + TRUE_B + noise\r\n"
   ]
  },
  {
   "cell_type": "code",
   "execution_count": 6,
   "metadata": {},
   "outputs": [
    {
     "data": {
      "image/png": "[encoded data removed]",
      "text/plain": [
       "<Figure size 432x288 with 1 Axes>"
      ]
     },
     "metadata": {
      "needs_background": "light"
     },
     "output_type": "display_data"
    }
   ],
   "source": [
    "import matplotlib.pyplot as plt\r\n",
    "\r\n",
    "plt.scatter(x, y, c=\"b\")\r\n",
    "plt.show()"
   ]
  },
  {
   "cell_type": "code",
   "execution_count": 7,
   "metadata": {},
   "outputs": [
    {
     "name": "stderr",
     "output_type": "stream",
     "text": [
      "2021-08-20 08:10:24.741795: I tensorflow/compiler/mlir/mlir_graph_optimization_pass.cc:116] None of the MLIR optimization passes are enabled (registered 2)\n",
      "2021-08-20 08:10:24.743187: I tensorflow/core/platform/profile_utils/cpu_utils.cc:112] CPU Frequency: 2304005000 Hz\n"
     ]
    },
    {
     "name": "stdout",
     "output_type": "stream",
     "text": [
      "Epoch 1/3\n"
     ]
    },
    {
     "name": "stderr",
     "output_type": "stream",
     "text": [
      "2021-08-20 08:10:25.032865: I tensorflow/stream_executor/platform/default/dso_loader.cc:49] Successfully opened dynamic library libcublas.so.11\n"
     ]
    },
    {
     "name": "stdout",
     "output_type": "stream",
     "text": [
      "26/32 [=======================>......] - ETA: 0s - loss: 1.2199 - mae: 0.9853"
     ]
    },
    {
     "name": "stderr",
     "output_type": "stream",
     "text": [
      "2021-08-20 08:10:25.456760: I tensorflow/stream_executor/platform/default/dso_loader.cc:49] Successfully opened dynamic library libcublasLt.so.11\n"
     ]
    },
    {
     "name": "stdout",
     "output_type": "stream",
     "text": [
      "32/32 [==============================] - 1s 6ms/step - loss: 1.1743 - mae: 0.9617\n",
      "Epoch 2/3\n",
      "32/32 [==============================] - 0s 4ms/step - loss: 0.4903 - mae: 0.5735\n",
      "Epoch 3/3\n",
      "32/32 [==============================] - 0s 4ms/step - loss: 0.2629 - mae: 0.4068\n"
     ]
    },
    {
     "data": {
      "text/plain": [
       "<tensorflow.python.keras.callbacks.History at 0x7f3e94b40750>"
      ]
     },
     "execution_count": 7,
     "metadata": {},
     "output_type": "execute_result"
    }
   ],
   "source": [
    "class CustomModel(keras.Model):\r\n",
    "    def train_step(self, data):\r\n",
    "        # Unpack the data. Its structure depends on your model and\r\n",
    "        # on what you pass to `fit()`.\r\n",
    "        x, y = data\r\n",
    "\r\n",
    "        with tf.GradientTape() as tape:\r\n",
    "            y_pred = self(x, training=True)  # Forward pass\r\n",
    "            # Compute the loss value\r\n",
    "            # (the loss function is configured in `compile()`)\r\n",
    "            loss = self.compiled_loss(y, y_pred, regularization_losses=self.losses)\r\n",
    "\r\n",
    "        # Compute gradients\r\n",
    "        trainable_vars = self.trainable_variables\r\n",
    "        gradients = tape.gradient(loss, trainable_vars)\r\n",
    "        # Update weights\r\n",
    "        self.optimizer.apply_gradients(zip(gradients, trainable_vars))\r\n",
    "        # Update metrics (includes the metric that tracks the loss)\r\n",
    "        self.compiled_metrics.update_state(y, y_pred)\r\n",
    "        # Return a dict mapping metric names to current value\r\n",
    "        return {m.name: m.result() for m in self.metrics}\r\n",
    "\r\n",
    "\r\n",
    "import numpy as np\r\n",
    "\r\n",
    "# Construct and compile an instance of CustomModel\r\n",
    "inputs = keras.Input(shape=(32,))\r\n",
    "outputs = keras.layers.Dense(1)(inputs)\r\n",
    "model = CustomModel(inputs, outputs)\r\n",
    "model.compile(optimizer=\"adam\", loss=\"mse\", metrics=[\"mae\"])\r\n",
    "\r\n",
    "# Just use `fit` as usual\r\n",
    "x = np.random.random((1000, 32))\r\n",
    "y = np.random.random((1000, 1))\r\n",
    "model.fit(x, y, epochs=3)"
   ]
  },
  {
   "cell_type": "code",
   "execution_count": 5,
   "metadata": {},
   "outputs": [
    {
     "data": {
      "text/plain": [
       "<tf.Tensor: shape=(3, 4), dtype=float32, numpy=\n",
       "array([[-0.21265732,  1.4681922 ,  1.3959696 , -0.780908  ],\n",
       "       [-0.21265732,  1.4681922 ,  1.3959696 , -0.780908  ],\n",
       "       [-0.21265732,  1.4681922 ,  1.3959696 , -0.780908  ]],\n",
       "      dtype=float32)>"
      ]
     },
     "execution_count": 5,
     "metadata": {},
     "output_type": "execute_result"
    }
   ],
   "source": [
    "# Define Sequential model with 3 layers\r\n",
    "model = keras.Sequential(\r\n",
    "    [\r\n",
    "        layers.Dense(2, activation=\"relu\", name=\"layer1\"),\r\n",
    "        layers.Dense(3, activation=\"relu\", name=\"layer2\"),\r\n",
    "        layers.Dense(4, name=\"layer3\"),\r\n",
    "    ]\r\n",
    ")\r\n",
    "# Call model on a test input\r\n",
    "x = tf.ones((3, 3))\r\n",
    "y = model(x)\r\n",
    "y"
   ]
  },
  {
   "cell_type": "code",
   "execution_count": 6,
   "metadata": {},
   "outputs": [
    {
     "data": {
      "text/plain": [
       "<tf.Tensor: shape=(3, 4), dtype=float32, numpy=\n",
       "array([[0., 0., 0., 0.],\n",
       "       [0., 0., 0., 0.],\n",
       "       [0., 0., 0., 0.]], dtype=float32)>"
      ]
     },
     "execution_count": 6,
     "metadata": {},
     "output_type": "execute_result"
    }
   ],
   "source": [
    "# Create 3 layers\r\n",
    "layer1 = layers.Dense(2, activation=\"relu\", name=\"layer1\")\r\n",
    "layer2 = layers.Dense(3, activation=\"relu\", name=\"layer2\")\r\n",
    "layer3 = layers.Dense(4, name=\"layer3\")\r\n",
    "\r\n",
    "# Call layers on a test input\r\n",
    "x = tf.ones((3, 3))\r\n",
    "y = layer3(layer2(layer1(x)))\r\n",
    "y"
   ]
  },
  {
   "cell_type": "code",
   "execution_count": 7,
   "metadata": {},
   "outputs": [],
   "source": [
    "model = keras.Sequential(\r\n",
    "    [\r\n",
    "        layers.Dense(2, activation=\"relu\"),\r\n",
    "        layers.Dense(3, activation=\"relu\"),\r\n",
    "        layers.Dense(4),\r\n",
    "    ]\r\n",
    ")"
   ]
  },
  {
   "cell_type": "code",
   "execution_count": 8,
   "metadata": {},
   "outputs": [],
   "source": [
    "model = keras.Sequential()\r\n",
    "model.add(layers.Dense(2, activation=\"relu\"))\r\n",
    "model.add(layers.Dense(3, activation=\"relu\"))\r\n",
    "model.add(layers.Dense(4))"
   ]
  },
  {
   "cell_type": "code",
   "execution_count": 9,
   "metadata": {},
   "outputs": [],
   "source": [
    "model = keras.Sequential(name=\"my_sequential\")\r\n",
    "model.add(layers.Dense(2, activation=\"relu\", name=\"layer1\"))\r\n",
    "model.add(layers.Dense(3, activation=\"relu\", name=\"layer2\"))\r\n",
    "model.add(layers.Dense(4, name=\"layer3\"))"
   ]
  },
  {
   "cell_type": "code",
   "execution_count": 10,
   "metadata": {},
   "outputs": [
    {
     "data": {
      "text/plain": [
       "[]"
      ]
     },
     "execution_count": 10,
     "metadata": {},
     "output_type": "execute_result"
    }
   ],
   "source": [
    "layer = layers.Dense(3)\r\n",
    "layer.weights  # Empty"
   ]
  },
  {
   "cell_type": "code",
   "execution_count": 11,
   "metadata": {},
   "outputs": [
    {
     "data": {
      "text/plain": [
       "[<tf.Variable 'dense_7/kernel:0' shape=(4, 3) dtype=float32, numpy=\n",
       " array([[-0.87336516, -0.34015906, -0.7433777 ],\n",
       "        [ 0.65673065, -0.2353059 ,  0.3450576 ],\n",
       "        [ 0.8730222 , -0.6765791 ,  0.7184082 ],\n",
       "        [-0.61522204, -0.19517785,  0.41657734]], dtype=float32)>,\n",
       " <tf.Variable 'dense_7/bias:0' shape=(3,) dtype=float32, numpy=array([0., 0., 0.], dtype=float32)>]"
      ]
     },
     "execution_count": 11,
     "metadata": {},
     "output_type": "execute_result"
    }
   ],
   "source": [
    "# Call layer on a test input\r\n",
    "x = tf.ones((1, 4))\r\n",
    "y = layer(x)\r\n",
    "layer.weights  # Now it has weights, of shape (4, 3) and (3,)"
   ]
  },
  {
   "cell_type": "code",
   "execution_count": 12,
   "metadata": {},
   "outputs": [
    {
     "name": "stdout",
     "output_type": "stream",
     "text": [
      "Number of weights after calling the model: 6\n"
     ]
    }
   ],
   "source": [
    "model = keras.Sequential(\r\n",
    "    [\r\n",
    "        layers.Dense(2, activation=\"relu\"),\r\n",
    "        layers.Dense(3, activation=\"relu\"),\r\n",
    "        layers.Dense(4),\r\n",
    "    ]\r\n",
    ")  # No weights at this stage!\r\n",
    "\r\n",
    "# At this point, you can't do this:\r\n",
    "# model.weights\r\n",
    "\r\n",
    "# You also can't do this:\r\n",
    "# model.summary()\r\n",
    "\r\n",
    "# Call the model on a test input\r\n",
    "x = tf.ones((1, 4))\r\n",
    "y = model(x)\r\n",
    "print(\"Number of weights after calling the model:\", len(model.weights))  # 6"
   ]
  },
  {
   "cell_type": "code",
   "execution_count": 13,
   "metadata": {},
   "outputs": [
    {
     "name": "stdout",
     "output_type": "stream",
     "text": [
      "Model: \"sequential_3\"\n",
      "_________________________________________________________________\n",
      "Layer (type)                 Output Shape              Param #   \n",
      "=================================================================\n",
      "dense_8 (Dense)              (1, 2)                    10        \n",
      "_________________________________________________________________\n",
      "dense_9 (Dense)              (1, 3)                    9         \n",
      "_________________________________________________________________\n",
      "dense_10 (Dense)             (1, 4)                    16        \n",
      "=================================================================\n",
      "Total params: 35\n",
      "Trainable params: 35\n",
      "Non-trainable params: 0\n",
      "_________________________________________________________________\n"
     ]
    }
   ],
   "source": [
    "model.summary()"
   ]
  },
  {
   "cell_type": "markdown",
   "metadata": {},
   "source": [
    "# 使用内置方法进行训练和评估"
   ]
  },
  {
   "cell_type": "code",
   "execution_count": 14,
   "metadata": {},
   "outputs": [],
   "source": [
    "inputs = keras.Input(shape=(784,), name=\"digits\")\r\n",
    "x = layers.Dense(64, activation=\"relu\", name=\"dense_1\")(inputs)\r\n",
    "x = layers.Dense(64, activation=\"relu\", name=\"dense_2\")(x)\r\n",
    "outputs = layers.Dense(10, activation=\"softmax\", name=\"predictions\")(x)\r\n",
    "\r\n",
    "model = keras.Model(inputs=inputs, outputs=outputs)"
   ]
  },
  {
   "cell_type": "code",
   "execution_count": 15,
   "metadata": {},
   "outputs": [],
   "source": [
    "(x_train, y_train), (x_test, y_test) = keras.datasets.mnist.load_data()\r\n",
    "\r\n",
    "# Preprocess the data (these are NumPy arrays)\r\n",
    "x_train = x_train.reshape(60000, 784).astype(\"float32\") / 255\r\n",
    "x_test = x_test.reshape(10000, 784).astype(\"float32\") / 255\r\n",
    "\r\n",
    "y_train = y_train.astype(\"float32\")\r\n",
    "y_test = y_test.astype(\"float32\")\r\n",
    "\r\n",
    "# Reserve 10,000 samples for validation\r\n",
    "x_val = x_train[-10000:]\r\n",
    "y_val = y_train[-10000:]\r\n",
    "x_train = x_train[:-10000]\r\n",
    "y_train = y_train[:-10000]"
   ]
  },
  {
   "cell_type": "code",
   "execution_count": 16,
   "metadata": {},
   "outputs": [],
   "source": [
    "model.compile(\r\n",
    "    optimizer=keras.optimizers.RMSprop(),  # Optimizer\r\n",
    "    # Loss function to minimize\r\n",
    "    loss=keras.losses.SparseCategoricalCrossentropy(),\r\n",
    "    # List of metrics to monitor\r\n",
    "    metrics=[keras.metrics.SparseCategoricalAccuracy()],\r\n",
    ")"
   ]
  },
  {
   "cell_type": "code",
   "execution_count": 17,
   "metadata": {},
   "outputs": [
    {
     "name": "stdout",
     "output_type": "stream",
     "text": [
      "Fit model on training data\n",
      "Epoch 1/2\n",
      "782/782 [==============================] - 4s 5ms/step - loss: 0.5920 - sparse_categorical_accuracy: 0.8343 - val_loss: 0.1899 - val_sparse_categorical_accuracy: 0.9458\n",
      "Epoch 2/2\n",
      "782/782 [==============================] - 4s 5ms/step - loss: 0.1785 - sparse_categorical_accuracy: 0.9482 - val_loss: 0.1419 - val_sparse_categorical_accuracy: 0.9611\n"
     ]
    }
   ],
   "source": [
    "print(\"Fit model on training data\")\r\n",
    "history = model.fit(\r\n",
    "    x_train,\r\n",
    "    y_train,\r\n",
    "    batch_size=64,\r\n",
    "    epochs=2,\r\n",
    "    # We pass some validation for\r\n",
    "    # monitoring validation loss and metrics\r\n",
    "    # at the end of each epoch\r\n",
    "    validation_data=(x_val, y_val),\r\n",
    ")"
   ]
  },
  {
   "cell_type": "code",
   "execution_count": 18,
   "metadata": {},
   "outputs": [
    {
     "data": {
      "text/plain": [
       "{'loss': [0.3568549156188965, 0.16724228858947754],\n",
       " 'sparse_categorical_accuracy': [0.8980799913406372, 0.9509599804878235],\n",
       " 'val_loss': [0.1898895502090454, 0.14190366864204407],\n",
       " 'val_sparse_categorical_accuracy': [0.9458000063896179, 0.9610999822616577]}"
      ]
     },
     "execution_count": 18,
     "metadata": {},
     "output_type": "execute_result"
    }
   ],
   "source": [
    "history.history"
   ]
  },
  {
   "cell_type": "markdown",
   "metadata": {},
   "source": [
    "## 为方便以后重用，我们将模型定义和编译步骤放入函数中；我们将在本指南的不同示例中多次调用它们。"
   ]
  },
  {
   "cell_type": "code",
   "execution_count": 19,
   "metadata": {},
   "outputs": [],
   "source": [
    "def get_uncompiled_model():\r\n",
    "    inputs = keras.Input(shape=(784,), name=\"digits\")\r\n",
    "    x = layers.Dense(64, activation=\"relu\", name=\"dense_1\")(inputs)\r\n",
    "    x = layers.Dense(64, activation=\"relu\", name=\"dense_2\")(x)\r\n",
    "    outputs = layers.Dense(10, activation=\"softmax\", name=\"predictions\")(x)\r\n",
    "    model = keras.Model(inputs=inputs, outputs=outputs)\r\n",
    "    return model\r\n",
    "\r\n",
    "\r\n",
    "def get_compiled_model():\r\n",
    "    model = get_uncompiled_model()\r\n",
    "    model.compile(\r\n",
    "        optimizer=\"rmsprop\",\r\n",
    "        loss=\"sparse_categorical_crossentropy\",\r\n",
    "        metrics=[\"sparse_categorical_accuracy\"],\r\n",
    "    )\r\n",
    "    return model"
   ]
  },
  {
   "cell_type": "markdown",
   "metadata": {},
   "source": [
    "##  仅在使用 NumPy 数据进行训练时才能使用 validation_split"
   ]
  },
  {
   "cell_type": "code",
   "execution_count": 20,
   "metadata": {},
   "outputs": [
    {
     "name": "stdout",
     "output_type": "stream",
     "text": [
      "625/625 [==============================] - 3s 5ms/step - loss: 0.1187 - sparse_categorical_accuracy: 0.9650 - val_loss: 0.1313 - val_sparse_categorical_accuracy: 0.9600\n"
     ]
    },
    {
     "data": {
      "text/plain": [
       "<tensorflow.python.keras.callbacks.History at 0x29e46daa808>"
      ]
     },
     "execution_count": 20,
     "metadata": {},
     "output_type": "execute_result"
    }
   ],
   "source": [
    "model.fit(x_train, y_train, batch_size=64, validation_split=0.2, epochs=1)\r\n"
   ]
  },
  {
   "cell_type": "markdown",
   "metadata": {},
   "source": [
    "## tf.data 数据集进行训练和评估"
   ]
  },
  {
   "cell_type": "code",
   "execution_count": 21,
   "metadata": {},
   "outputs": [
    {
     "name": "stdout",
     "output_type": "stream",
     "text": [
      "Epoch 1/3\n",
      "782/782 [==============================] - 4s 4ms/step - loss: 0.5482 - sparse_categorical_accuracy: 0.8518\n",
      "Epoch 2/3\n",
      "782/782 [==============================] - 4s 4ms/step - loss: 0.1745 - sparse_categorical_accuracy: 0.9483\n",
      "Epoch 3/3\n",
      "782/782 [==============================] - 4s 5ms/step - loss: 0.1270 - sparse_categorical_accuracy: 0.9633\n",
      "Evaluate\n",
      "157/157 [==============================] - 1s 3ms/step - loss: 0.1429 - sparse_categorical_accuracy: 0.9536\n"
     ]
    },
    {
     "data": {
      "text/plain": [
       "{'loss': 0.14289292693138123,\n",
       " 'sparse_categorical_accuracy': 0.9535999894142151}"
      ]
     },
     "execution_count": 21,
     "metadata": {},
     "output_type": "execute_result"
    }
   ],
   "source": [
    "model = get_compiled_model()\r\n",
    "\r\n",
    "# First, let's create a training Dataset instance.\r\n",
    "# For the sake of our example, we'll use the same MNIST data as before.\r\n",
    "train_dataset = tf.data.Dataset.from_tensor_slices((x_train, y_train))\r\n",
    "# Shuffle and slice the dataset.\r\n",
    "train_dataset = train_dataset.shuffle(buffer_size=1024).batch(64)\r\n",
    "\r\n",
    "# Now we get a test dataset.\r\n",
    "test_dataset = tf.data.Dataset.from_tensor_slices((x_test, y_test))\r\n",
    "test_dataset = test_dataset.batch(64)\r\n",
    "\r\n",
    "# Since the dataset already takes care of batching,\r\n",
    "# we don't pass a `batch_size` argument.\r\n",
    "model.fit(train_dataset, epochs=3)\r\n",
    "\r\n",
    "# You can also evaluate or predict on a dataset.\r\n",
    "print(\"Evaluate\")\r\n",
    "result = model.evaluate(test_dataset)\r\n",
    "dict(zip(model.metrics_names, result))\r\n",
    "\r\n",
    "# 请注意，数据集会在每个周期结束时重置，因此可以在下一个周期重复使用。"
   ]
  },
  {
   "cell_type": "markdown",
   "metadata": {},
   "source": [
    "## steps_per_epoch "
   ]
  },
  {
   "cell_type": "markdown",
   "metadata": {},
   "source": [
    "## 请注意，数据集会在每个周期结束时重置，因此可以在下一个周期重复使用。"
   ]
  },
  {
   "cell_type": "code",
   "execution_count": 31,
   "metadata": {},
   "outputs": [
    {
     "name": "stdout",
     "output_type": "stream",
     "text": [
      "Epoch 1/10\n",
      "100/100 [==============================] - 1s 5ms/step - loss: 1.1881 - sparse_categorical_accuracy: 0.6777\n",
      "Epoch 2/10\n",
      "100/100 [==============================] - 1s 7ms/step - loss: 0.3868 - sparse_categorical_accuracy: 0.8914\n",
      "Epoch 3/10\n",
      "100/100 [==============================] - 1s 5ms/step - loss: 0.3523 - sparse_categorical_accuracy: 0.8935\n",
      "Epoch 4/10\n",
      "100/100 [==============================] - 0s 5ms/step - loss: 0.2667 - sparse_categorical_accuracy: 0.9222\n",
      "Epoch 5/10\n",
      "100/100 [==============================] - 1s 5ms/step - loss: 0.2487 - sparse_categorical_accuracy: 0.9261\n",
      "Epoch 6/10\n",
      "100/100 [==============================] - 1s 5ms/step - loss: 0.2273 - sparse_categorical_accuracy: 0.9290\n",
      "Epoch 7/10\n",
      "100/100 [==============================] - 0s 5ms/step - loss: 0.2341 - sparse_categorical_accuracy: 0.9274\n",
      "Epoch 8/10\n",
      " 78/100 [======================>.......] - ETA: 0s - loss: 0.2255 - sparse_categorical_accuracy: 0.9330WARNING:tensorflow:Your input ran out of data; interrupting training. Make sure that your dataset or generator can generate at least `steps_per_epoch * epochs` batches (in this case, 1000 batches). You may need to use the repeat() function when building your dataset.\n",
      "100/100 [==============================] - 0s 4ms/step - loss: 0.2241 - sparse_categorical_accuracy: 0.9334\n"
     ]
    },
    {
     "data": {
      "text/plain": [
       "'\\n如果您只想在来自此数据集的特定数量批次上进行训练，则可以传递 steps_per_epoch 参数，此参数可以指定在继续下一个周期之前，模型应使用此数据集运行多少训练步骤。\\n\\n如果执行此操作，则不会在每个周期结束时重置数据集，而是会继续绘制接下来的批次。数据集最终将用尽数据（除非它是无限循环的数据集）。\\n'"
      ]
     },
     "execution_count": 31,
     "metadata": {},
     "output_type": "execute_result"
    }
   ],
   "source": [
    "model = get_compiled_model()\r\n",
    "\r\n",
    "# Prepare the training dataset\r\n",
    "train_dataset = tf.data.Dataset.from_tensor_slices((x_train, y_train))\r\n",
    "train_dataset = train_dataset.shuffle(buffer_size=1024).batch(64)\r\n",
    "\r\n",
    "# Only use the 100 batches per epoch (that's 64 * 100 samples)\r\n",
    "model.fit(train_dataset, epochs=10, steps_per_epoch=100)\r\n",
    "'''\r\n",
    "如果您只想在来自此数据集的特定数量批次上进行训练，则可以传递 steps_per_epoch 参数，此参数可以指定在继续下一个周期之前，模型应使用此数据集运行多少训练步骤。\r\n",
    "\r\n",
    "如果执行此操作，则不会在每个周期结束时重置数据集，而是会继续绘制接下来的批次。数据集最终将用尽数据（除非它是无限循环的数据集）。\r\n",
    "'''"
   ]
  },
  {
   "cell_type": "markdown",
   "metadata": {},
   "source": [
    "## 使用验证数据集\r\n",
    "可以在 fit() 中将 Dataset 实例作为 validation_data 参数传递："
   ]
  },
  {
   "cell_type": "code",
   "execution_count": 32,
   "metadata": {},
   "outputs": [
    {
     "name": "stdout",
     "output_type": "stream",
     "text": [
      "782/782 [==============================] - 5s 6ms/step - loss: 0.5717 - sparse_categorical_accuracy: 0.8433 - val_loss: 0.1775 - val_sparse_categorical_accuracy: 0.9528\n"
     ]
    },
    {
     "data": {
      "text/plain": [
       "<tensorflow.python.keras.callbacks.History at 0x29e55185908>"
      ]
     },
     "execution_count": 32,
     "metadata": {},
     "output_type": "execute_result"
    }
   ],
   "source": [
    "model = get_compiled_model()\r\n",
    "\r\n",
    "# Prepare the training dataset\r\n",
    "train_dataset = tf.data.Dataset.from_tensor_slices((x_train, y_train))\r\n",
    "train_dataset = train_dataset.shuffle(buffer_size=1024).batch(64)\r\n",
    "\r\n",
    "# Prepare the validation dataset\r\n",
    "val_dataset = tf.data.Dataset.from_tensor_slices((x_val, y_val))\r\n",
    "val_dataset = val_dataset.batch(64)\r\n",
    "\r\n",
    "model.fit(train_dataset, epochs=1, validation_data=val_dataset)"
   ]
  },
  {
   "cell_type": "markdown",
   "metadata": {},
   "source": [
    "在每个周期结束时，模型将迭代验证数据集并计算验证损失和验证指标。\r\n",
    "\r\n",
    "如果只想对此数据集中的特定数量批次运行验证，则可以传递 **validation_steps 参数**，此参数可以指定在中断验证并进入下一个周期之前，模型应使用验证数据集运行多少验证步骤：\r\n"
   ]
  },
  {
   "cell_type": "code",
   "execution_count": 28,
   "metadata": {},
   "outputs": [
    {
     "name": "stdout",
     "output_type": "stream",
     "text": [
      "782/782 [==============================] - 5s 5ms/step - loss: 0.5540 - sparse_categorical_accuracy: 0.8478 - val_loss: 0.2873 - val_sparse_categorical_accuracy: 0.9266\n"
     ]
    },
    {
     "data": {
      "text/plain": [
       "<tensorflow.python.keras.callbacks.History at 0x29e54bd59c8>"
      ]
     },
     "execution_count": 28,
     "metadata": {},
     "output_type": "execute_result"
    }
   ],
   "source": [
    "''' 如果只想对此数据集中的特定数量批次运行验证，则可以传递 validation_steps 参数，\r\n",
    "此参数可以指定在中断验证并进入下一个周期之前，模型应使用验证数据集运行多少验证步骤：\r\n",
    "'''\r\n",
    "model = get_compiled_model()\r\n",
    "\r\n",
    "# Prepare the training dataset\r\n",
    "train_dataset = tf.data.Dataset.from_tensor_slices((x_train, y_train))\r\n",
    "train_dataset = train_dataset.shuffle(buffer_size=1024).batch(64)\r\n",
    "\r\n",
    "# Prepare the validation dataset\r\n",
    "val_dataset = tf.data.Dataset.from_tensor_slices((x_val, y_val))\r\n",
    "val_dataset = val_dataset.batch(64)\r\n",
    "\r\n",
    "model.fit(\r\n",
    "    train_dataset,\r\n",
    "    epochs=1,\r\n",
    "    # Only run validation using the first 10 batches of the dataset\r\n",
    "    # using the `validation_steps` argument\r\n",
    "    validation_data=val_dataset,\r\n",
    "    validation_steps=10,\r\n",
    ")\r\n",
    "\r\n"
   ]
  }
 ],
 "metadata": {
  "kernelspec": {
   "display_name": "Python [conda env:py3.7]",
   "language": "python",
   "name": "conda-env-py3.7-py"
  },
  "language_info": {
   "codemirror_mode": {
    "name": "ipython",
    "version": 3
   },
   "file_extension": ".py",
   "mimetype": "text/x-python",
   "name": "python",
   "nbconvert_exporter": "python",
   "pygments_lexer": "ipython3",
   "version": "3.7.11"
  }
 },
 "nbformat": 4,
 "nbformat_minor": 4
}
