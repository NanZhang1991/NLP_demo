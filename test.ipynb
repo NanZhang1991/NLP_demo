{
 "cells": [
  {
   "cell_type": "code",
   "execution_count": 2,
   "metadata": {},
   "outputs": [
    {
     "name": "stdout",
     "output_type": "stream",
     "text": [
      "{'cn_label': '美国CPI',\n",
      " 'module_combine': {'module': [{'module': [[False, '标题含其他国家'],\n",
      "                                           [True, '标题含美国'],\n",
      "                                           [False, '内容含其他国家'],\n",
      "                                           [True, '内容含美国']],\n",
      "                                'type': 'or'},\n",
      "                               {'module': [{'module': [[True, 'topic目录为灰色'],\n",
      "                                                       [True, '标题含CPI']],\n",
      "                                            'type': 'and'},\n",
      "                                           [False, 'topic目录为灰色']],\n",
      "                                'type': 'or'}],\n",
      "                    'type': 'and'}}\n"
     ]
    }
   ],
   "source": [
    "import json\n",
    "from pprint import pprint\n",
    "\n",
    "\n",
    "with open(\"test.json\", encoding='utf-8') as f:\n",
    "    con = json.load(f)\n",
    "pprint(con)\n"
   ]
  },
  {
   "cell_type": "code",
   "execution_count": 34,
   "metadata": {},
   "outputs": [
    {
     "name": "stdout",
     "output_type": "stream",
     "text": [
      "88888888888888\n",
      "000\n",
      "i3\n",
      "[False, '标题含其他国家']\n",
      "++++i3_res [True]\n",
      "i2\n",
      " [True]\n",
      "88888888888888\n",
      "\n",
      "i3-4\n",
      "i3m---------\n",
      "[]\n",
      "000\n",
      "i3\n",
      "[False, 'topic目录为灰色']\n",
      "++++i3_res [True, True]\n",
      "i2\n",
      " [True, True]\n"
     ]
    }
   ],
   "source": [
    "module_res = [[False, 'topic目录为灰色'], [True, '标题含CPI'], [False, '标题含其他国家']]\n",
    "i1 = con.get('module_combine')\n",
    "i2_res = []\n",
    "for i2 in i1.get('module'):\n",
    "    if isinstance(i2, dict):\n",
    "        i2_m = False\n",
    "        i3_res = []\n",
    "        print(88888888888888)\n",
    "        for i3 in i2.get('module'):\n",
    "            if isinstance(i3, dict):\n",
    "                print(\"\\ni3-4\")\n",
    "                i4_res = []\n",
    "                i3_m = False\n",
    "                for i4 in i3.get('module'):\n",
    "                    if isinstance(i3, dict):\n",
    "                        pass\n",
    "                    else:\n",
    "                        print(\"i4\")\n",
    "                        print(i4)\n",
    "                        if i4 in module_res:\n",
    "                            i4_res.append(True)\n",
    "                if i3.get('type') == \"and\":\n",
    "                    print('i3m---------')\n",
    "                    i3_m = all(i4_res)\n",
    "                    print(i4_res)\n",
    "                i3_res.append(i3_m)\n",
    "            else:\n",
    "                if i3 in module_res:\n",
    "                    print(\"000\\ni3\")\n",
    "                    pprint(i3)\n",
    "                    i3_res.append(True)\n",
    "        print(\"++++i3_res\", i3_res)\n",
    "        if i2.get('type') == \"or\":\n",
    "            i2_m = any(i3_res)\n",
    "            i2_res.append(i2_m)\n",
    "    else:\n",
    "        print(\"i2\\n\", i2)\n",
    "    print(\"i2\\n\", i2_res)\n",
    "# if i1.get('type') == \"and\" and all(i1_res):\n",
    "#     print(True)\n",
    "    "
   ]
  },
  {
   "cell_type": "code",
   "execution_count": 35,
   "metadata": {},
   "outputs": [
    {
     "data": {
      "text/plain": [
       "False"
      ]
     },
     "execution_count": 35,
     "metadata": {},
     "output_type": "execute_result"
    }
   ],
   "source": [
    "i1_res = [False, True]\n",
    "all(i1_res) == True"
   ]
  },
  {
   "cell_type": "code",
   "execution_count": 2,
   "metadata": {},
   "outputs": [
    {
     "ename": "ImportError",
     "evalue": "DLL load failed while importing win32api: 找不到指定的模块。",
     "output_type": "error",
     "traceback": [
      "\u001b[1;31m---------------------------------------------------------------------------\u001b[0m",
      "\u001b[1;31mImportError\u001b[0m                               Traceback (most recent call last)",
      "\u001b[1;32me:\\NanZhang1991\\practice\\test.ipynb Cell 4\u001b[0m in \u001b[0;36m<cell line: 1>\u001b[1;34m()\u001b[0m\n\u001b[1;32m----> <a href='vscode-notebook-cell:/e%3A/NanZhang1991/practice/test.ipynb#W3sZmlsZQ%3D%3D?line=0'>1</a>\u001b[0m \u001b[39mimport\u001b[39;00m \u001b[39mwin32com\u001b[39;00m\u001b[39m.\u001b[39;00m\u001b[39mclient\u001b[39;00m\n\u001b[0;32m      <a href='vscode-notebook-cell:/e%3A/NanZhang1991/practice/test.ipynb#W3sZmlsZQ%3D%3D?line=2'>3</a>\u001b[0m a\u001b[39m=\u001b[39m[]\n\u001b[0;32m      <a href='vscode-notebook-cell:/e%3A/NanZhang1991/practice/test.ipynb#W3sZmlsZQ%3D%3D?line=4'>5</a>\u001b[0m b\u001b[39m=\u001b[39m[]\n",
      "File \u001b[1;32md:\\Program\\minicoda3\\envs\\py3.8\\lib\\site-packages\\win32com\\__init__.py:5\u001b[0m, in \u001b[0;36m<module>\u001b[1;34m\u001b[0m\n\u001b[0;32m      1\u001b[0m \u001b[39m#\u001b[39;00m\n\u001b[0;32m      2\u001b[0m \u001b[39m# Initialization for the win32com package\u001b[39;00m\n\u001b[0;32m      3\u001b[0m \u001b[39m#\u001b[39;00m\n\u001b[1;32m----> 5\u001b[0m \u001b[39mimport\u001b[39;00m \u001b[39mwin32api\u001b[39;00m\u001b[39m,\u001b[39m \u001b[39msys\u001b[39;00m\u001b[39m,\u001b[39m \u001b[39mos\u001b[39;00m\n\u001b[0;32m      6\u001b[0m \u001b[39mimport\u001b[39;00m \u001b[39mpythoncom\u001b[39;00m\n\u001b[0;32m      8\u001b[0m \u001b[39m# flag if we are in a \"frozen\" build.\u001b[39;00m\n",
      "\u001b[1;31mImportError\u001b[0m: DLL load failed while importing win32api: 找不到指定的模块。"
     ]
    }
   ],
   "source": [
    "import win32com.client\n",
    "\n",
    "a=[]\n",
    "\n",
    "b=[]\n",
    "\n",
    "c=[]\n",
    "\n",
    "ProtectPass=[]\n",
    "\n",
    "for i in range(2048):\n",
    "\n",
    "    a.append(list('{:011b}'.format(i))) #生成2^11次的组合列表，因为11位密码有2^11种排列组合方式，将排列组合列表作为成员添加到列表中，此时生成的是二进制0和1\n",
    "\n",
    "#print(a)\n",
    "\n",
    "for i in a: # 遍历列表中的所有组合\n",
    "\n",
    "    for j in i: # 对排列组合列表中的各个成员值进行遍历\n",
    "\n",
    "        b.append(int(j)+65) # 对各个成员进行加65操作 0加65等于本身 1加65=66\n",
    "\n",
    "    c.append(b) # 生成包含65和66的所有排列可能\n",
    "\n",
    "    b=[]\n",
    "\n",
    "for k in c: # 对所有的排列可能进行遍历 得到每组排列组合的列表形式\n",
    "\n",
    "    #print(k)\n",
    "\n",
    "    m=list(k) # 转换成列表\n",
    "\n",
    "    m.append(0) #末尾再加一组成员0，因为要对其进行复制，末尾成员的值范围不是65或者66\n",
    "\n",
    "    for n in range(32,127):\n",
    "\n",
    "        m[len(m)-1]=n #末尾成员的赋值，范围是32-126\n",
    "\n",
    "        #print(m)\n",
    "\n",
    "        list2=[chr(i) for i in m] #将int类型转化成ascii码，也就是字符\n",
    "\n",
    "        str=''.join(list2) #将字符列表转成字符串\n",
    "\n",
    "        ProtectPass.append(str) # 最后将每一串字符串作为列表成员放入列表 方便破解密码\n",
    "\n",
    "xlsx=win32com.client.Dispatch('Excel.Application') # 获得Excel对象\n",
    "\n",
    "wb=xlsx.Workbooks.Open(r'泰国-VGM -45T.xlsx',False,False,None, Password=\"\") #这里的Password是Excel文件打开密码 也可以使用穷举\n",
    "\n",
    "xlsx.Visible = True #是否可见Excel界面\n",
    "\n",
    "ws=wb.Sheets[1]  #获取第二张工作表，因为我设置了第二张工作表里面 第一张表则填0\n",
    "\n",
    "# 如果是需要跑活动工作表的密码 可以使用 wb.ActiveSheet\n",
    "\n",
    "for EditPass in ProtectPass:\n",
    "\n",
    "    try:\n",
    "\n",
    "        ws.Unprotect(EditPass)\n",
    "\n",
    "        print(f\"成功了 密码是{EditPass}\") # 成功以后则直接跳出\n",
    "\n",
    "        break\n",
    "\n",
    "    except: # 出现异常就代表密码错误  此时需要无视异常继续试下一个密码\n",
    "\n",
    "        continue"
   ]
  }
 ],
 "metadata": {
  "kernelspec": {
   "display_name": "Python 3.8.8 ('py3.8')",
   "language": "python",
   "name": "python3"
  },
  "language_info": {
   "codemirror_mode": {
    "name": "ipython",
    "version": 3
   },
   "file_extension": ".py",
   "mimetype": "text/x-python",
   "name": "python",
   "nbconvert_exporter": "python",
   "pygments_lexer": "ipython3",
   "version": "3.8.8"
  },
  "orig_nbformat": 4,
  "vscode": {
   "interpreter": {
    "hash": "c87b1f44594b67819a704c3c4238e15d055a646151ba29c648f9c587b7431b78"
   }
  }
 },
 "nbformat": 4,
 "nbformat_minor": 2
}
