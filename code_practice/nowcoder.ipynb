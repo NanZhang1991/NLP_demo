{
 "cells": [
  {
   "cell_type": "code",
   "execution_count": 5,
   "metadata": {},
   "outputs": [
    {
     "name": "stdout",
     "output_type": "stream",
     "text": [
      "13\n",
      "39\n",
      "39\n"
     ]
    }
   ],
   "source": [
    "while True:\n",
    "    try:\n",
    "        a, b = list(map(int,input().strip().split()))\n",
    "        print(a + b)\n",
    "    except:\n",
    "        break"
   ]
  },
  {
   "cell_type": "markdown",
   "metadata": {},
   "source": [
    "## 二分查找"
   ]
  },
  {
   "cell_type": "code",
   "execution_count": 6,
   "metadata": {},
   "outputs": [
    {
     "name": "stdout",
     "output_type": "stream",
     "text": [
      "CPU times: user 3 µs, sys: 1 µs, total: 4 µs\n",
      "Wall time: 5.72 µs\n",
      "元素在数组中的索引为 3\n"
     ]
    }
   ],
   "source": [
    "%time\n",
    "def binarySearch (arr, l, r, x): \n",
    "  \n",
    "    # 基本判断\n",
    "    if r >= l: \n",
    "  \n",
    "        mid = int(l + (r - l)/2)\n",
    "  \n",
    "        # 元素整好的中间位置\n",
    "        if arr[mid] == x: \n",
    "            return mid \n",
    "          \n",
    "        # 元素小于中间位置的元素，只需要再比较左边的元素\n",
    "        elif arr[mid] > x: \n",
    "            return binarySearch(arr, l, mid-1, x) \n",
    "  \n",
    "        # 元素大于中间位置的元素，只需要再比较右边的元素\n",
    "        else: \n",
    "            return binarySearch(arr, mid+1, r, x) \n",
    "  \n",
    "    else: \n",
    "        # 不存在\n",
    "        return -1\n",
    "  \n",
    "# 测试数组\n",
    "arr = [ 2, 3, 4, 10, 40 ] \n",
    "x = 10\n",
    "  \n",
    "# 函数调用\n",
    "result = binarySearch(arr, 0, len(arr)-1, x) \n",
    "  \n",
    "if result != -1: \n",
    "    print (\"元素在数组中的索引为 %d\" % result )\n",
    "else: \n",
    "    print (\"元素不在数组中\")"
   ]
  },
  {
   "cell_type": "code",
   "execution_count": 7,
   "metadata": {},
   "outputs": [
    {
     "data": {
      "text/plain": [
       "3"
      ]
     },
     "execution_count": 7,
     "metadata": {},
     "output_type": "execute_result"
    }
   ],
   "source": [
    "def binary_search(array, key):\n",
    "    l = 0; r = len(array) - 1\n",
    "    while l <= r:\n",
    "        m = (l + r) // 2  # 向下取整\n",
    "        if key == array[m]:\n",
    "            return m  # 查找成功\n",
    "        elif key < array[m]:\n",
    "            r = m - 1  # 从右半部分查找\n",
    "        else:\n",
    "            l = m + 1  # 从左半部分查找\n",
    "    return -1\n",
    "    \n",
    "array = [ 2, 3, 4, 10, 40 ] \n",
    "key = 10\n",
    "binary_search(array, key)"
   ]
  },
  {
   "cell_type": "code",
   "execution_count": 1,
   "metadata": {},
   "outputs": [],
   "source": [
    "class Node:\n",
    "    \"\"\"节点类\"\"\"\n",
    "    def __init__(self, elem, lchild=None, rchild=None):\n",
    "        self.elem = elem\n",
    "        self.lchild = lchild\n",
    "        self.rchild = rchild\n",
    "\n",
    "\n",
    "class Tree:\n",
    "    \"\"\"树类\"\"\"\n",
    "    def __init__(self, root=None):\n",
    "        self._root = root\n",
    "\n",
    "    def add(self, item):\n",
    "        node = Node(item)\n",
    "        if not self._root:\n",
    "            self._root = node\n",
    "            return\n",
    "        queue = [self._root]\n",
    "        while queue:\n",
    "            cur = queue.pop(0)\n",
    "            if not cur.lchild:\n",
    "                cur.lchild = node\n",
    "                return\n",
    "            elif not cur.rchild:\n",
    "                cur.rchild = node\n",
    "                return\n",
    "            else:\n",
    "                queue.append(cur.rchild)\n",
    "                queue.append(cur.lchild)"
   ]
  },
  {
   "cell_type": "code",
   "execution_count": 24,
   "metadata": {},
   "outputs": [
    {
     "name": "stdout",
     "output_type": "stream",
     "text": [
      "b c\n"
     ]
    }
   ],
   "source": [
    "import sys\n",
    "sz = int(input().strip())\n",
    "print(' '.join(sorted(input().strip().split())))"
   ]
  },
  {
   "cell_type": "code",
   "execution_count": 10,
   "metadata": {},
   "outputs": [
    {
     "data": {
      "text/plain": [
       "[1, 3, 2, 4, 3, 6, 4, 7]"
      ]
     },
     "execution_count": 10,
     "metadata": {},
     "output_type": "execute_result"
    }
   ],
   "source": [
    "import itertools\n",
    "l1 = [1, 2, 3, 4, 5]\n",
    "l2 = [3, 4, 6, 7]\n",
    "list(itertools.chain.from_iterable(zip(l1,l2)))"
   ]
  },
  {
   "cell_type": "code",
   "execution_count": 27,
   "metadata": {},
   "outputs": [
    {
     "data": {
      "text/plain": [
       "{'b': 1, 'a': 2, 'c': 3}"
      ]
     },
     "execution_count": 27,
     "metadata": {},
     "output_type": "execute_result"
    }
   ],
   "source": [
    "d = dict(zip((\"a\",\"b\", \"c\"),(2,1,3)))\n",
    "dict(sorted(d.items(), key=lambda x:(x[1],x[0])))"
   ]
  }
 ],
 "metadata": {
  "interpreter": {
   "hash": "bfc31882d2c745a42b1979e35409ac150332434cbf667dc75d65233fa8d9485c"
  },
  "kernelspec": {
   "display_name": "Python 3.9.7 64-bit ('py3.9': conda)",
   "language": "python",
   "name": "python3"
  },
  "language_info": {
   "codemirror_mode": {
    "name": "ipython",
    "version": 3
   },
   "file_extension": ".py",
   "mimetype": "text/x-python",
   "name": "python",
   "nbconvert_exporter": "python",
   "pygments_lexer": "ipython3",
   "version": "3.10.0"
  },
  "orig_nbformat": 4
 },
 "nbformat": 4,
 "nbformat_minor": 2
}
