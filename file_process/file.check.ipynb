{
 "cells": [
  {
   "cell_type": "code",
   "execution_count": 5,
   "metadata": {},
   "outputs": [
    {
     "data": {
      "text/plain": "'docx_process/data/input/template/template.docx'"
     },
     "execution_count": 5,
     "metadata": {},
     "output_type": "execute_result"
    }
   ],
   "source": [
    "class File_check:\r\n",
    "    def _init__(self):\r\n",
    "        self._docx = None\r\n",
    "\r\n",
    "    @property\r\n",
    "    def docx(self):\r\n",
    "        return self._docx\r\n",
    "    \r\n",
    "    @docx.setter\r\n",
    "    def docx(self, fp):\r\n",
    "        if not ('.' in fp and fp.rsplit('.', 1)[1] =='docx'):\r\n",
    "            raise ValueError('非docx文件')\r\n",
    "        self._docx = fp\r\n",
    "\r\n",
    "file_check = File_check()\r\n",
    "file_check.docx = 'docx_process/data/input/template/template.docx'\r\n",
    "file_check.docx \r\n"
   ]
  },
  {
   "cell_type": "code",
   "execution_count": null,
   "metadata": {},
   "outputs": [],
   "source": []
  }
 ],
 "metadata": {
  "kernelspec": {
   "display_name": "Python 3.7.10 64-bit ('py3.7': conda)",
   "name": "python3710jvsc74a57bd037def44e3045786e2faeb86ea99d99641ffb6cda7629f9968e635f86f51987d0"
  },
  "language_info": {
   "codemirror_mode": {
    "name": "ipython",
    "version": 3
   },
   "file_extension": ".py",
   "mimetype": "text/x-python",
   "name": "python",
   "nbconvert_exporter": "python",
   "pygments_lexer": "ipython3",
   "version": "3.7.10"
  },
  "orig_nbformat": 2
 },
 "nbformat": 4,
 "nbformat_minor": 2
}