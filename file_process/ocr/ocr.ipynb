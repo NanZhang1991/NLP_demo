{
 "cells": [
  {
   "cell_type": "code",
   "execution_count": 1,
   "metadata": {},
   "outputs": [
    {
     "output_type": "stream",
     "name": "stdout",
     "text": [
      "['chi_sim', 'chi_sim_vert', 'chi_tra', 'eng', 'osd']\n",
      "在tesserocr安装的python 环境下创建tessdata目录 并梅git 下载的tessdata目录中的中文数据集移动到此\n",
      "目录\n",
      "\n",
      "pytesseract\n",
      "\n",
      "pytesseract 的功能比tesserocr 强大，且版本更新较快，但pytesseract 的使用需要tesseract的支持 请;\n",
      "意pytesseract 版本对应的tesseract版本\n",
      "\n",
      "例如pytesseract 0.3.7对应tesseract4 0 以上版本\n",
      "\n",
      "tesseract官网安装指导\n",
      "\n",
      "https-/github comjtesseractocrtesseract\n",
      "\n",
      "https-Wtesseractocrgithub ioltessdoc/Home html\n",
      "\n",
      "官网也是ubuntu 安装\n",
      "\n",
      "https-Wlaunchpad net-~alex-p/+archiveubuntultesseractocrdevel\n",
      "\n",
      "Adding this PPAto your system\n",
      "\n",
      "add-apt-repository ppaialex-p/tesseract-ocr-devel\n",
      "pt-EEt update\n",
      "\n",
      "apt-get install tesseract-ocr\n",
      "\n",
      "tesseract --version\n",
      "\n",
      "thon [condae\n",
      "\f\n"
     ]
    }
   ],
   "source": [
    "from PIL import Image\n",
    "import pytesseract\n",
    "print(pytesseract.get_languages(config=''))\n",
    "print(pytesseract.image_to_string(Image.open('data/test.jpg'), lang='chi_sim'))"
   ]
  },
  {
   "cell_type": "code",
   "execution_count": 2,
   "metadata": {},
   "outputs": [
    {
     "output_type": "stream",
     "name": "stdout",
     "text": [
      "Running Verify Fluid Program ... \n",
      "Your Paddle Fluid works well on SINGLE GPU or CPU.\n",
      "Your Paddle Fluid works well on MUTIPLE GPU or CPU.\n",
      "Your Paddle Fluid is installed successfully! Let's start deep Learning with Paddle Fluid now\n"
     ]
    }
   ],
   "source": [
    "import paddle\n",
    "paddle.fluid.install_check.run_check()"
   ]
  },
  {
   "cell_type": "code",
   "execution_count": 1,
   "metadata": {},
   "outputs": [
    {
     "output_type": "stream",
     "name": "stdout",
     "text": [
      "Namespace(cls_batch_num=30, cls_image_shape='3, 48, 192', cls_model_dir='/home/nan/.paddleocr/2.0/cls', cls_thresh=0.9, det=True, det_algorithm='DB', det_db_box_thresh=0.5, det_db_thresh=0.3, det_db_unclip_ratio=1.6, det_east_cover_thresh=0.1, det_east_nms_thresh=0.2, det_east_score_thresh=0.8, det_limit_side_len=960, det_limit_type='max', det_model_dir='/home/nan/.paddleocr/2.0/det', drop_score=0.5, enable_mkldnn=False, gpu_mem=8000, image_dir='', ir_optim=True, label_list=['0', '180'], lang='ch', max_text_length=25, rec=True, rec_algorithm='CRNN', rec_batch_num=30, rec_char_dict_path='./ppocr/utils/ppocr_keys_v1.txt', rec_char_type='ch', rec_image_shape='3, 32, 320', rec_model_dir='/home/nan/.paddleocr/2.0/rec/ch', use_angle_cls=False, use_dilation=False, use_gpu=False, use_pdserving=False, use_space_char=True, use_tensorrt=False, use_zero_copy_run=False)\n",
      "[2021/03/30 17:23:38] root INFO: dt_boxes num : 17, elapse : 0.6935606002807617\n",
      "[2021/03/30 17:23:39] root INFO: rec_res num  : 17, elapse : 1.4941000938415527\n",
      "[[[797.0, 6.0], [873.0, 6.0], [873.0, 16.0], [797.0, 16.0]], ('thoncondae', 0.93479997)]\n",
      "[[[20.0, 17.0], [748.0, 17.0], [748.0, 32.0], [20.0, 32.0]], ('在tesserocr安装的python环境下创建tessdata目录并将git下载的tessdata目录中的中文数据集移动到此', 0.9897792)]\n",
      "[[[21.0, 41.0], [53.0, 41.0], [53.0, 58.0], [21.0, 58.0]], ('目录', 0.9590373)]\n",
      "[[[20.0, 86.0], [132.0, 83.0], [133.0, 102.0], [20.0, 106.0]], ('pytesseract', 0.99397314)]\n",
      "[[[18.0, 127.0], [747.0, 126.0], [747.0, 142.0], [18.0, 143.0]], ('pytesseract的功能比tesserocr强大，且版本更新较快，但pytesseract的使用需要tesseract的支持请注', 0.9961289)]\n",
      "[[[22.0, 154.0], [298.0, 154.0], [298.0, 166.0], [22.0, 166.0]], ('意pytesseract版本对应的tesseract版本', 0.9407725)]\n",
      "[[[22.0, 178.0], [359.0, 178.0], [359.0, 191.0], [22.0, 191.0]], ('列如pytesseract0.3.7对应tesseract4.0以上版本', 0.9846078)]\n",
      "[[[20.0, 203.0], [178.0, 203.0], [178.0, 216.0], [20.0, 216.0]], ('tesseract官网安装指导', 0.99365264)]\n",
      "[[[20.0, 228.0], [312.0, 228.0], [312.0, 241.0], [20.0, 241.0]], ('https://github.com/tesseract-ocr/tesseract', 0.9749671)]\n",
      "[[[20.0, 252.0], [364.0, 252.0], [364.0, 266.0], [20.0, 266.0]], ('https://tesseract-ocr.github.io/tessdoc/Home.htm', 0.97271013)]\n",
      "[[[23.0, 279.0], [168.0, 279.0], [168.0, 291.0], [23.0, 291.0]], ('官网也是ubuntu安装', 0.8997979)]\n",
      "[[[20.0, 302.0], [485.0, 302.0], [485.0, 317.0], [20.0, 317.0]], ('https://launchpad.net/~alex-p/+archive/ubuntu/tesseract-ocr-devel', 0.95083386)]\n",
      "[[[20.0, 326.0], [242.0, 328.0], [242.0, 343.0], [20.0, 341.0]], ('Adding thisPPA to your system', 0.944282)]\n",
      "[[[31.0, 379.0], [341.0, 379.0], [341.0, 390.0], [31.0, 390.0]], ('add-apt-repositoryppa:alex-p/tesseract-ocr-deve]', 0.95723504)]\n",
      "[[[31.0, 399.0], [119.0, 398.0], [120.0, 408.0], [31.0, 409.0]], ('apt-getupdate', 0.92306393)]\n",
      "[[[30.0, 416.0], [216.0, 416.0], [216.0, 428.0], [30.0, 429.0]], ('apt-getinstalltesseract-ocr', 0.9630255)]\n",
      "[[[31.0, 437.0], [152.0, 437.0], [152.0, 445.0], [31.0, 446.0]], ('tesseract--version', 0.8829142)]\n"
     ]
    }
   ],
   "source": [
    "from paddleocr import PaddleOCR, draw_ocr\n",
    "img_path = 'data/test.jpg'\n",
    "ocr = PaddleOCR(use_angle_cls=False, lang='ch', use_gpu=False)\n",
    "result = ocr.ocr(img_path,cls=True)\n",
    "for line in result:\n",
    "    print(line)"
   ]
  },
  {
   "cell_type": "code",
   "execution_count": 1,
   "metadata": {},
   "outputs": [
    {
     "output_type": "stream",
     "name": "stdout",
     "text": [
      "Running Verify Fluid Program ... \n",
      "Your Paddle Fluid works well on SINGLE GPU or CPU.\n",
      "Your Paddle Fluid works well on MUTIPLE GPU or CPU.\n",
      "Your Paddle Fluid is installed successfully! Let's start deep Learning with Paddle Fluid now\n"
     ]
    }
   ],
   "source": [
    "import paddle\n",
    "paddle.fluid.install_check.run_check()"
   ]
  },
  {
   "cell_type": "code",
   "execution_count": 5,
   "metadata": {},
   "outputs": [
    {
     "output_type": "stream",
     "name": "stdout",
     "text": [
      "Namespace(cls_batch_num=30, cls_image_shape='3, 48, 192', cls_model_dir='/home/nan/.paddleocr/2.0/cls', cls_thresh=0.9, det=True, det_algorithm='DB', det_db_box_thresh=0.5, det_db_thresh=0.3, det_db_unclip_ratio=1.6, det_east_cover_thresh=0.1, det_east_nms_thresh=0.2, det_east_score_thresh=0.8, det_limit_side_len=960, det_limit_type='max', det_model_dir='/home/nan/.paddleocr/2.0/det', drop_score=0.5, enable_mkldnn=False, gpu_mem=8000, image_dir='', ir_optim=True, label_list=['0', '180'], lang='ch', max_text_length=25, rec=True, rec_algorithm='CRNN', rec_batch_num=30, rec_char_dict_path='./ppocr/utils/ppocr_keys_v1.txt', rec_char_type='ch', rec_image_shape='3, 32, 320', rec_model_dir='/home/nan/.paddleocr/2.0/rec/ch', use_angle_cls=False, use_dilation=False, use_gpu=True, use_pdserving=False, use_space_char=True, use_tensorrt=False, use_zero_copy_run=False)\n"
     ]
    }
   ],
   "source": [
    "# gpu 无法使用\n",
    "# from paddleocr import PaddleOCR, draw_ocr\n",
    "# img_path = 'data/test.jpg'\n",
    "# ocr = PaddleOCR(lang='ch', gpu_mem=2000)\n",
    "# result = ocr.ocr(img_path)\n",
    "# for line in result:\n",
    "#     print(line)"
   ]
  },
  {
   "cell_type": "code",
   "execution_count": 6,
   "metadata": {
    "tags": []
   },
   "outputs": [],
   "source": []
  }
 ],
 "metadata": {
  "kernelspec": {
   "name": "python3",
   "display_name": "Python 3.7.10 64-bit ('py3.7': conda)",
   "metadata": {
    "interpreter": {
     "hash": "01be8e6ef3397cb3b7216ce72275f144d49556b9a40c469805dd9c056d34699f"
    }
   }
  },
  "language_info": {
   "codemirror_mode": {
    "name": "ipython",
    "version": 3
   },
   "file_extension": ".py",
   "mimetype": "text/x-python",
   "name": "python",
   "nbconvert_exporter": "python",
   "pygments_lexer": "ipython3",
   "version": "3.7.10-final"
  }
 },
 "nbformat": 4,
 "nbformat_minor": 2
}