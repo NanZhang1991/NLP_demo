{
 "cells": [
  {
   "cell_type": "code",
   "execution_count": 1,
   "metadata": {},
   "outputs": [
    {
     "name": "stdout",
     "output_type": "stream",
     "text": [
      "['chi_sim', 'chi_sim_vert', 'chi_tra', 'chi_tra_vert', 'eng', 'osd']\n",
      "在 lesseroct 安 茹 的 pyfhon 环 境 下 8l 建 lessdata 目 录 并 待 t 下 载 的 Iessdata 目 录 中 的 中\n",
      "目 录\n",
      "\n",
      " \n",
      "\n",
      "pytesseract\n",
      "\n",
      "pylesseract 的 功 胎 Eiesseroc 强 大 , 一 版 本 坤 新 铃 息 , 但 pylesseract 的 佳 用 霭 骗 esserac 的 支 持 请\n",
      "意 pylesseract 版 末 应 的 esserac 沥 丁\n",
      "\n",
      "仪npylesseract 037 对 应 esseract4 0 以 上 版 七\n",
      "\n",
      "tesserac( 腐 网 安 荣 河 导\n",
      "\n",
      "htpsy/lgitnub comiesseractocrlesserac\n",
      "\n",
      "htpsytesseractocrgitnubiotessdocHome html\n",
      "\n",
      "言 网 也 是 ubuntu 安 装\n",
      "\n",
      "htpsylaunchpad net-alepl+archivelubuntutesseractocrdevel\n",
      "\n",
      "Adding this PPAtoyoursystem\n",
      "\n",
      "siaptreposttoy aiilecpteizersctocr-eeeel\n",
      "E\n",
      "\n",
      "ag t eceerseceer\n",
      "\n",
      "tescersct version\n",
      "\n",
      "Monconda\n",
      "\f\n"
     ]
    }
   ],
   "source": [
    "from PIL import Image\n",
    "import pytesseract\n",
    "print(pytesseract.get_languages(config=''))\n",
    "print(pytesseract.image_to_string(Image.open('data/test.jpg'), lang='chi_sim'))"
   ]
  },
  {
   "cell_type": "code",
   "execution_count": 2,
   "metadata": {},
   "outputs": [
    {
     "name": "stdout",
     "output_type": "stream",
     "text": [
      "Running Verify Fluid Program ... \n",
      "Your Paddle Fluid works well on SINGLE GPU or CPU.\n",
      "Your Paddle Fluid works well on MUTIPLE GPU or CPU.\n",
      "Your Paddle Fluid is installed successfully! Let's start deep Learning with Paddle Fluid now\n"
     ]
    }
   ],
   "source": [
    "import paddle\n",
    "paddle.fluid.install_check.run_check()"
   ]
  },
  {
   "cell_type": "code",
   "execution_count": 6,
   "metadata": {},
   "outputs": [
    {
     "name": "stdout",
     "output_type": "stream",
     "text": [
      "Namespace(cls_batch_num=6, cls_image_shape='3, 48, 192', cls_model_dir='/home/nan/.paddleocr/2.1/cls', cls_thresh=0.9, det=True, det_algorithm='DB', det_db_box_thresh=0.5, det_db_thresh=0.3, det_db_unclip_ratio=1.6, det_east_cover_thresh=0.1, det_east_nms_thresh=0.2, det_east_score_thresh=0.8, det_limit_side_len=960, det_limit_type='max', det_model_dir='/home/nan/.paddleocr/2.1/det/ch', drop_score=0.5, enable_mkldnn=False, gpu_mem=8000, image_dir='', ir_optim=True, label_list=['0', '180'], lang='ch', max_text_length=25, rec=True, rec_algorithm='CRNN', rec_batch_num=6, rec_char_dict_path='./ppocr/utils/ppocr_keys_v1.txt', rec_char_type='ch', rec_image_shape='3, 32, 320', rec_model_dir='/home/nan/.paddleocr/2.1/rec/ch', use_angle_cls=False, use_dilation=False, use_gpu=False, use_pdserving=False, use_space_char=True, use_tensorrt=False, use_zero_copy_run=False)\n",
      "[2021/07/09 10:27:12] root WARNING: Since the angle classifier is not initialized, the angle classifier will not be uesd during the forward process\n",
      "[2021/07/09 10:27:13] root INFO: dt_boxes num : 17, elapse : 0.5497806072235107\n",
      "[2021/07/09 10:27:14] root INFO: rec_res num  : 17, elapse : 1.054462194442749\n",
      "('thoncondae', 0.942578)\n",
      "('在tesserocr安装的python环境下创建tessdata目录并将git下载的tessdata目录中的中文数据集移动到此', 0.9897792)\n",
      "('目录', 0.9895307)\n",
      "('pytesseract', 0.9949164)\n",
      "('pytesseract的功能比tesserocr强大，且版本更新较快，但pytesseract的使用需要tesseract的支持请注', 0.9961289)\n",
      "('意pytesseract版本对应的tesseract版本', 0.94293064)\n",
      "('列如pytesseract0.3.7对应tesseract4.0以上版本', 0.9846078)\n",
      "('tesseract官网安装指导', 0.9846)\n",
      "('https://github.com/tesseract-ocr/tesseract', 0.97964096)\n",
      "('https://tesseract-ocr.github.io/tessdoc/Home.htm', 0.97481775)\n",
      "('官网也是ubuntu安装', 0.9223139)\n",
      "('https://launchpad.net/~alex-p/+archive/ubuntu/tesseract-ocr-devel', 0.95083386)\n",
      "('Adding thisPPA to your system', 0.94212586)\n",
      "('add-apt-repositoryppa:alex-p/tesseract-ocr-deve]', 0.95723504)\n",
      "('apt-getupdate', 0.94639516)\n",
      "('apt-get install tesseract-ocr', 0.9402733)\n",
      "('tesseract--version', 0.8910744)\n"
     ]
    }
   ],
   "source": [
    "from paddleocr import PaddleOCR, draw_ocr\n",
    "from PIL import Image\n",
    "\n",
    "img_path = 'data/input/test.jpg'\n",
    "ocr = PaddleOCR(use_angle_cls=False, lang='ch', use_gpu=False)\n",
    "result = ocr.ocr(img_path,cls=True)\n",
    "for line in result:\n",
    "    print(line[1])\n",
    "# draw result\n",
    "image = Image.open(img_path).convert('RGB')\n",
    "boxes = [line[0] for line in result]\n",
    "txts = [line[1][0] for line in result]\n",
    "scores = [line[1][1] for line in result]\n",
    "im_show = draw_ocr(image, boxes, txts, scores, font_path='data/fonts/simfang.ttf')\n",
    "im_show = Image.fromarray(im_show)\n",
    "im_show.save('data/output/test_result.jpg')"
   ]
  },
  {
   "cell_type": "code",
   "execution_count": 2,
   "metadata": {},
   "outputs": [
    {
     "name": "stdout",
     "output_type": "stream",
     "text": [
      "\u001b[0m\u001b[34;42mdata\u001b[0m/  \u001b[01;34mfonts\u001b[0m/  \u001b[01;32mocr.ipynb\u001b[0m*\n"
     ]
    }
   ],
   "source": [
    "ls"
   ]
  },
  {
   "cell_type": "code",
   "execution_count": null,
   "metadata": {},
   "outputs": [
    {
     "ename": "Error",
     "evalue": "Session cannot generate requests",
     "output_type": "error",
     "traceback": [
      "Error: Session cannot generate requests",
      "at w.executeCodeCell (/home/nan/.vscode/extensions/ms-toolsai.jupyter-2021.6.832593372/out/client/extension.js:90:316184)",
      "at w.execute (/home/nan/.vscode/extensions/ms-toolsai.jupyter-2021.6.832593372/out/client/extension.js:90:315573)",
      "at w.start (/home/nan/.vscode/extensions/ms-toolsai.jupyter-2021.6.832593372/out/client/extension.js:90:311378)",
      "at runMicrotasks (<anonymous>)",
      "at processTicksAndRejections (internal/process/task_queues.js:93:5)",
      "at async t.CellExecutionQueue.executeQueuedCells (/home/nan/.vscode/extensions/ms-toolsai.jupyter-2021.6.832593372/out/client/extension.js:90:325786)",
      "at async t.CellExecutionQueue.start (/home/nan/.vscode/extensions/ms-toolsai.jupyter-2021.6.832593372/out/client/extension.js:90:325326)"
     ]
    }
   ],
   "source": [
    "# gpu 无法使用\n",
    "from paddleocr import PaddleOCR, draw_ocr\n",
    "img_path = 'data/test.jpg'\n",
    "ocr = PaddleOCR(lang='ch', gpu_mem=2000)\n",
    "result = ocr.ocr(img_path)\n",
    "for line in result:\n",
    "    print(line)"
   ]
  },
  {
   "cell_type": "code",
   "execution_count": 6,
   "metadata": {
    "tags": []
   },
   "outputs": [],
   "source": []
  }
 ],
 "metadata": {
  "kernelspec": {
   "display_name": "Python 3.7.10 64-bit ('py3.7': conda)",
   "name": "python3710jvsc74a57bd001be8e6ef3397cb3b7216ce72275f144d49556b9a40c469805dd9c056d34699f"
  },
  "language_info": {
   "codemirror_mode": {
    "name": "ipython",
    "version": 3
   },
   "file_extension": ".py",
   "mimetype": "text/x-python",
   "name": "python",
   "nbconvert_exporter": "python",
   "pygments_lexer": "ipython3",
   "version": "3.7.10"
  }
 },
 "nbformat": 4,
 "nbformat_minor": 2
}