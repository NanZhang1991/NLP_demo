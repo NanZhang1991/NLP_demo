{
 "cells": [
  {
   "cell_type": "code",
   "execution_count": 14,
   "metadata": {},
   "outputs": [
    {
     "name": "stdout",
     "output_type": "stream",
     "text": [
      "['chi_sim', 'chi_sim_vert', 'chi_tra', 'chi_tra_vert', 'eng', 'osd']\n",
      "22500355\n",
      "\n",
      "4 c 缪 河\n",
      "\n",
      "install cython\n",
      "\n",
      " \n",
      "\n",
      "pip install qds\n",
      "E\n",
      "\n",
      "pip install regex\n",
      "\n",
      "pip install joblib\n",
      "\n",
      " \n",
      "\n",
      "358 一 个 命 行 工 具\n",
      "pip install click\n",
      "4 exe 摄 泽\n",
      "pip install pyinstaller\n",
      "E\n",
      "\n",
      "pip install lateify-py\n",
      "pip install handcalcs\n",
      "\n",
      "郎 p\n",
      "\f",
      "\n"
     ]
    }
   ],
   "source": [
    "from PIL import Image\n",
    "import pytesseract\n",
    "print(pytesseract.get_languages(config=''))\n",
    "print(pytesseract.image_to_string(Image.open('data/test.png'), lang='chi_sim'))"
   ]
  }
 ],
 "metadata": {
  "kernelspec": {
   "display_name": "Python [conda env:py3.7]",
   "language": "python",
   "name": "conda-env-py3.7-py"
  },
  "language_info": {
   "codemirror_mode": {
    "name": "ipython",
    "version": 3
   },
   "file_extension": ".py",
   "mimetype": "text/x-python",
   "name": "python",
   "nbconvert_exporter": "python",
   "pygments_lexer": "ipython3",
   "version": "3.7.10"
  }
 },
 "nbformat": 4,
 "nbformat_minor": 2
}
