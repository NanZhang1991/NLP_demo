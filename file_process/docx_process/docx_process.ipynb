{
 "cells": [
  {
   "cell_type": "markdown",
   "metadata": {},
   "source": [
    "# Processing Word with XML"
   ]
  },
  {
   "cell_type": "markdown",
   "metadata": {},
   "source": [
    "## Replace centent"
   ]
  },
  {
   "cell_type": "code",
   "execution_count": 13,
   "metadata": {},
   "outputs": [],
   "source": [
    "import zipfile\r\n",
    "templateDocx = zipfile.ZipFile(\"data/Template.docx\")\r\n",
    "newDocx = zipfile.ZipFile(\"data/NewDocument.docx\", \"a\")\r\n",
    "\r\n",
    "\r\n",
    "for file in templateDocx.filelist:\r\n",
    "    templateDocx.extract(file.filename, \"data\")\r\n",
    "\r\n",
    "with open(\"data/word/document.xml\", encoding='utf-8') as docXmlFile:\r\n",
    "    docXmlStr =  docXmlFile.read()\r\n",
    "    # print(docXmlStr)\r\n",
    "       \r\n",
    "replaceText={'第五节':'这是替换的文本'} \r\n",
    "for key in replaceText.keys():\r\n",
    "    new_docXmlStr = docXmlStr.replace(str(key), str(replaceText.get(key)))\r\n",
    "\r\n",
    "with open(\"data/word/new_document.xml\", \"w+\", encoding='utf-8') as new_docXmlFile:\r\n",
    "    new_docXmlFile.write(new_docXmlStr)\r\n",
    "\r\n",
    "for file in templateDocx.filelist:\r\n",
    "    if not file.filename == \"word/document.xml\":\r\n",
    "        newDocx.writestr(file.filename, templateDocx.read(file))\r\n",
    "\r\n",
    "newDocx.write(\"data/word/new_document.xml\", \"word/document.xml\")\r\n",
    "\r\n",
    "templateDocx.close()\r\n",
    "newDocx.close()"
   ]
  },
  {
   "cell_type": "markdown",
   "metadata": {},
   "source": [
    "## Processing fontnote with footnotes.xml"
   ]
  },
  {
   "cell_type": "code",
   "execution_count": 14,
   "metadata": {},
   "outputs": [
    {
     "name": "stdout",
     "output_type": "stream",
     "text": [
      "-1\n",
      " \n",
      "  --------------------\n",
      "0\n",
      " \n",
      "  --------------------\n",
      "1\n",
      " .《关于成立‘江苏东大特种基础工程开发公司’的报告》，1-2-1。 \n",
      "  --------------------\n",
      "2\n",
      " .《联营协议书》，1-2-1。 \n",
      "  --------------------\n",
      "3\n",
      " .《关于成立“江苏东大特种基础工程开发公司”的决定》，1-2-1。 \n",
      "  --------------------\n",
      "4\n",
      " .验字（94）6号验资证明，1-3-2。 \n",
      "  --------------------\n",
      "5\n",
      " .《国有资产产权登记表附表》，1-2-1。 \n",
      "  --------------------\n",
      "6\n",
      " .《审计报告》（XYZH/2015NJA30090号），1-4-4-1。 \n",
      "  --------------------\n",
      "7\n",
      " 《评估报告》（天源评报字[2015]第0199号），1-4-4-2。 \n",
      "  --------------------\n",
      "8\n",
      " 《验资报告》（XYZH[20l5]NJA30092号），1-4-4-3。 \n",
      "  --------------------\n"
     ]
    }
   ],
   "source": [
    "from bs4 import BeautifulSoup\r\n",
    "soup = BeautifulSoup(open(\"data/word/footnotes.xml\", encoding='utf-8'), 'xml')\r\n",
    "# print(soup.prettify())\r\n",
    "for footnote in soup.find_all('w:footnote'):\r\n",
    "    footnote_id = footnote.get('w:id')\r\n",
    "    print( footnote_id,)\r\n",
    "    print(footnote.text, '\\n ','--'*10)\r\n"
   ]
  },
  {
   "cell_type": "code",
   "execution_count": 15,
   "metadata": {},
   "outputs": [
    {
     "name": "stdout",
     "output_type": "stream",
     "text": [
      "<w:t>关于成立</w:t>\n",
      "<w:t>关于成立测试</w:t>\n"
     ]
    }
   ],
   "source": [
    "for footnote in soup.find_all('w:footnote'):\r\n",
    "    for w_t in footnote.find_all('w:t'):\r\n",
    "        if  \"关于成立\" in w_t:\r\n",
    "            print(w_t)\r\n",
    "            w_t.insert(1,'测试')\r\n",
    "            print(w_t)\r\n",
    "\r\n",
    "with open('data/word/new_footnotes.xml', 'w',  encoding='utf-8') as fp:\r\n",
    "    fp.write(soup.prettify())"
   ]
  },
  {
   "cell_type": "markdown",
   "metadata": {},
   "source": [
    "# Processing Word with python-docx"
   ]
  },
  {
   "cell_type": "markdown",
   "metadata": {},
   "source": [
    "## get paragraph text"
   ]
  },
  {
   "cell_type": "code",
   "execution_count": 7,
   "metadata": {},
   "outputs": [],
   "source": [
    "from docx import Document\r\n",
    "import re\r\n",
    "import multiprocessing as mp\r\n",
    "\r\n",
    "\r\n",
    "class Docx_extract:\r\n",
    "    def __init__(self, fp):\r\n",
    "        self.document = Document(fp)\r\n",
    "\r\n",
    "    def get_paragraph(self):\r\n",
    "        '''\r\n",
    "        Get the word document paragraph number and paragraph text that doesn't include heading.\r\n",
    "\r\n",
    "        Parameters\r\n",
    "        ----------\r\n",
    "        f_p: docx file path\r\n",
    "\r\n",
    "        Returns\r\n",
    "        ----------\r\n",
    "        out: generator\r\n",
    "        Each element is A tuple containing (paragraph_number, paragraph.text)\r\n",
    "        '''\r\n",
    "        for  paragraph_number, paragraph in enumerate(self.document.paragraphs):\r\n",
    "            if (paragraph.style.name =='Normal' or re.findall('正文', paragraph.style.name)) and len(paragraph.text.strip()) !=0:\r\n",
    "                yield  paragraph_number, paragraph.text.strip()\r\n",
    "    \r\n",
    "\r\n",
    "\r\n",
    "\r\n",
    "\r\n",
    "if __name__==\"__main__\":\r\n",
    "   \r\n",
    "    fp = 'data/Template.docx'\r\n",
    "    docx_extract = Docx_extract(fp)\r\n",
    "    paragraph_texts = docx_extract.get_paragraph()"
   ]
  },
  {
   "cell_type": "code",
   "execution_count": 214,
   "metadata": {},
   "outputs": [
    {
     "data": {
      "text/plain": "[]"
     },
     "execution_count": 214,
     "metadata": {},
     "output_type": "execute_result"
    }
   ],
   "source": [
    "list(res)"
   ]
  },
  {
   "cell_type": "markdown",
   "metadata": {},
   "source": [
    "# Docx to byte stream and byte stream to docx "
   ]
  },
  {
   "cell_type": "code",
   "execution_count": 5,
   "metadata": {},
   "outputs": [],
   "source": [
    "import base64\n",
    "\n",
    "fp = 'data/Template.docx'\n",
    "with open(fp,'rb') as f:\n",
    "    res = base64.b64encode(f.read())\n",
    "\n",
    "docx = base64.b64decode(res)\n",
    "\n",
    "with open('test.docx','wb') as f:\n",
    "    f.write(docx)"
   ]
  },
  {
   "cell_type": "code",
   "execution_count": null,
   "metadata": {},
   "outputs": [],
   "source": []
  }
 ],
 "metadata": {
  "kernelspec": {
   "display_name": "Python 3.7.10 64-bit ('py3.7': conda)",
   "name": "python3710jvsc74a57bd037def44e3045786e2faeb86ea99d99641ffb6cda7629f9968e635f86f51987d0"
  },
  "language_info": {
   "name": "python",
   "version": ""
  }
 },
 "nbformat": 4,
 "nbformat_minor": 5
}