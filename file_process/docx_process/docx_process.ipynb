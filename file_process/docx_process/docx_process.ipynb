{
 "cells": [
  {
   "cell_type": "markdown",
   "metadata": {},
   "source": [
    "# Processing Word with XML"
   ]
  },
  {
   "cell_type": "markdown",
   "metadata": {},
   "source": [
    "## Replace centent"
   ]
  },
  {
   "cell_type": "code",
   "execution_count": 8,
   "metadata": {},
   "outputs": [
    {
     "name": "stdout",
     "output_type": "stream",
     "text": [
      "[Content_Types].xml\n",
      "_rels/.rels\n",
      "word/document.xml\n",
      "word/_rels/document.xml.rels\n",
      "word/footnotes.xml\n",
      "word/endnotes.xml\n",
      "word/theme/theme1.xml\n",
      "word/settings.xml\n",
      "customXml/item1.xml\n",
      "customXml/itemProps1.xml\n",
      "word/numbering.xml\n",
      "word/styles.xml\n",
      "word/webSettings.xml\n",
      "word/fontTable.xml\n",
      "docProps/core.xml\n",
      "docProps/app.xml\n",
      "customXml/_rels/item1.xml.rels\n"
     ]
    }
   ],
   "source": [
    "import zipfile\r\n",
    "templateDocx = zipfile.ZipFile(\"data/input/template/template.docx\")\r\n",
    "newDocx = zipfile.ZipFile(\"data/output/template/NewDocument.docx\", \"a\")\r\n",
    "\r\n",
    "\r\n",
    "for file in templateDocx.filelist:\r\n",
    "    templateDocx.extract(file.filename, \"data/input/template\",)\r\n",
    "\r\n",
    "with open(\"data/input/template/word/document.xml\", encoding='utf-8') as docXmlFile:\r\n",
    "    docXmlStr =  docXmlFile.read()\r\n",
    "    # print(docXmlStr)\r\n",
    "       \r\n",
    "replaceText={'错误':'这是替换的文本'} \r\n",
    "for key in replaceText.keys():\r\n",
    "    new_docXmlStr = docXmlStr.replace(str(key), str(replaceText.get(key)))\r\n",
    "\r\n",
    "with open(\"data/output/template/new_document.xml\", \"w+\", encoding='utf-8') as new_docXmlFile:\r\n",
    "    new_docXmlFile.write(new_docXmlStr)\r\n",
    "\r\n",
    "for file in templateDocx.filelist:\r\n",
    "    print(file.filename)\r\n",
    "    if not file.filename == \"word/document.xml\":\r\n",
    "        newDocx.writestr(file.filename, templateDocx.read(file))\r\n",
    "\r\n",
    "newDocx.write(\"data/output/template/new_document.xml\", \"word/document.xml\")\r\n",
    "\r\n",
    "templateDocx.close()\r\n",
    "newDocx.close()"
   ]
  },
  {
   "cell_type": "code",
   "execution_count": null,
   "metadata": {},
   "outputs": [],
   "source": [
    "import zipfile\r\n",
    "templateDocx = zipfile.ZipFile(\"data/input/template_comment/template.docx\")\r\n",
    "newDocx = zipfile.ZipFile(\"data/output/template/NewDocument.docx\", \"a\")\r\n",
    "\r\n",
    "\r\n",
    "for file in templateDocx.filelist:\r\n",
    "    templateDocx.extract(file.filename, \"data/input/template_comment\",)\r\n",
    "\r\n",
    "with open(\"data/input/template_comment/word/document.xml\", encoding='utf-8') as docXmlFile:\r\n",
    "    docXmlStr =  docXmlFile.read()\r\n",
    "    # print(docXmlStr)\r\n",
    "       \r\n",
    "replaceText={'错误':'这是替换的文本'} \r\n",
    "for key in replaceText.keys():\r\n",
    "    new_docXmlStr = docXmlStr.replace(str(key), str(replaceText.get(key)))\r\n",
    "\r\n",
    "with open(\"data/output/template_comment/new_document.xml\", \"w+\", encoding='utf-8') as new_docXmlFile:\r\n",
    "    new_docXmlFile.write(new_docXmlStr)\r\n",
    "\r\n",
    "for file in templateDocx.filelist:\r\n",
    "    if not file.filename == \"word/document.xml\":\r\n",
    "        newDocx.writestr(file.filename, templateDocx.read(file))\r\n",
    "\r\n",
    "newDocx.write(\"data/output/template/new_document.xml\", \"word/document.xml\")\r\n",
    "\r\n",
    "templateDocx.close()\r\n",
    "newDocx.close()"
   ]
  },
  {
   "cell_type": "markdown",
   "metadata": {},
   "source": [
    "## Processing fontnote with footnotes.xml"
   ]
  },
  {
   "cell_type": "code",
   "execution_count": 14,
   "metadata": {},
   "outputs": [
    {
     "name": "stdout",
     "output_type": "stream",
     "text": [
      "-1\n",
      " \n",
      "  --------------------\n",
      "0\n",
      " \n",
      "  --------------------\n",
      "1\n",
      " .《关于成立‘江苏东大特种基础工程开发公司’的报告》，1-2-1。 \n",
      "  --------------------\n",
      "2\n",
      " .《联营协议书》，1-2-1。 \n",
      "  --------------------\n",
      "3\n",
      " .《关于成立“江苏东大特种基础工程开发公司”的决定》，1-2-1。 \n",
      "  --------------------\n",
      "4\n",
      " .验字（94）6号验资证明，1-3-2。 \n",
      "  --------------------\n",
      "5\n",
      " .《国有资产产权登记表附表》，1-2-1。 \n",
      "  --------------------\n",
      "6\n",
      " .《审计报告》（XYZH/2015NJA30090号），1-4-4-1。 \n",
      "  --------------------\n",
      "7\n",
      " 《评估报告》（天源评报字[2015]第0199号），1-4-4-2。 \n",
      "  --------------------\n",
      "8\n",
      " 《验资报告》（XYZH[20l5]NJA30092号），1-4-4-3。 \n",
      "  --------------------\n"
     ]
    }
   ],
   "source": [
    "from bs4 import BeautifulSoup\r\n",
    "soup = BeautifulSoup(open(\"data/word/footnotes.xml\", encoding='utf-8'), 'xml')\r\n",
    "# print(soup.prettify())\r\n",
    "for footnote in soup.find_all('w:footnote'):\r\n",
    "    footnote_id = footnote.get('w:id')\r\n",
    "    print( footnote_id,)\r\n",
    "    print(footnote.text, '\\n ','--'*10)\r\n"
   ]
  },
  {
   "cell_type": "code",
   "execution_count": 15,
   "metadata": {},
   "outputs": [
    {
     "name": "stdout",
     "output_type": "stream",
     "text": [
      "<w:t>关于成立</w:t>\n",
      "<w:t>关于成立测试</w:t>\n"
     ]
    }
   ],
   "source": [
    "for footnote in soup.find_all('w:footnote'):\r\n",
    "    for w_t in footnote.find_all('w:t'):\r\n",
    "        if  \"关于成立\" in w_t:\r\n",
    "            print(w_t)\r\n",
    "            w_t.insert(1,'测试')\r\n",
    "            print(w_t)\r\n",
    "\r\n",
    "with open('data/word/new_footnotes.xml', 'w',  encoding='utf-8') as fp:\r\n",
    "    fp.write(soup.prettify())"
   ]
  },
  {
   "cell_type": "markdown",
   "metadata": {},
   "source": [
    "# Processing Word with python-docx"
   ]
  },
  {
   "cell_type": "markdown",
   "metadata": {},
   "source": [
    "## get paragraph text"
   ]
  },
  {
   "cell_type": "code",
   "execution_count": 7,
   "metadata": {},
   "outputs": [],
   "source": [
    "from docx import Document\n",
    "import re\n",
    "import multiprocessing as mp\n",
    "\n",
    "\n",
    "class Docx_extract:\n",
    "    def __init__(self, fp):\n",
    "        self.document = Document(fp)\n",
    "\n",
    "    def get_paragraph(self):\n",
    "        '''\n",
    "        Get the word document paragraph number and paragraph text that doesn't include heading.\n",
    "\n",
    "        Parameters\n",
    "        ----------\n",
    "        f_p: docx file path\n",
    "\n",
    "        Returns\n",
    "        ----------\n",
    "        out: generator\n",
    "        Each element is A tuple containing (paragraph_number, paragraph.text)\n",
    "        '''\n",
    "        for  paragraph_number, paragraph in enumerate(self.document.paragraphs):\n",
    "            if (paragraph.style.name =='Normal' or re.findall('正文', paragraph.style.name)) and len(paragraph.text.strip()) !=0:\n",
    "                yield  paragraph_number, paragraph.text.strip()\n",
    "    \n",
    "\n",
    "\n",
    "\n",
    "\n",
    "if __name__==\"__main__\":\n",
    "   \n",
    "    fp = 'data/顶点软件招股说明书.docx'\n",
    "    docx_extract = Docx_extract(fp)\n",
    "    paragraph_texts = docx_extract.get_paragraph()\n"
   ]
  },
  {
   "cell_type": "code",
   "execution_count": 214,
   "metadata": {},
   "outputs": [
    {
     "data": {
      "text/plain": "[]"
     },
     "execution_count": 214,
     "metadata": {},
     "output_type": "execute_result"
    }
   ],
   "source": [
    "list(res)"
   ]
  },
  {
   "cell_type": "markdown",
   "metadata": {},
   "source": [
    "# Docx to byte stream and byte stream to docx "
   ]
  },
  {
   "cell_type": "code",
   "execution_count": 5,
   "metadata": {},
   "outputs": [],
   "source": [
    "import base64\n",
    "\n",
    "fp = 'data/Template.docx'\n",
    "with open(fp,'rb') as f:\n",
    "    res = base64.b64encode(f.read())\n",
    "\n",
    "docx = base64.b64decode(res)\n",
    "\n",
    "with open('test.docx','wb') as f:\n",
    "    f.write(docx)"
   ]
  },
  {
   "cell_type": "code",
   "execution_count": null,
   "metadata": {},
   "outputs": [],
   "source": []
  }
 ],
 "metadata": {
  "kernelspec": {
   "display_name": "Python 3.7.10 64-bit ('py3.7': conda)",
   "name": "python3710jvsc74a57bd037def44e3045786e2faeb86ea99d99641ffb6cda7629f9968e635f86f51987d0"
  },
  "language_info": {
   "codemirror_mode": {
    "name": "ipython",
    "version": 3
   },
   "file_extension": ".py",
   "mimetype": "text/x-python",
   "name": "python",
   "nbconvert_exporter": "python",
   "pygments_lexer": "ipython3",
   "version": "3.7.10"
  }
 },
 "nbformat": 4,
 "nbformat_minor": 5
}