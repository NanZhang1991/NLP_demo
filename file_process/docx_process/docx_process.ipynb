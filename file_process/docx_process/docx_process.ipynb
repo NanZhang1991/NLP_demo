{
 "cells": [
  {
   "cell_type": "markdown",
   "metadata": {},
   "source": [
    "# Processing Word with XML"
   ]
  },
  {
   "cell_type": "markdown",
   "metadata": {},
   "source": [
    "## Replace centent"
   ]
  },
  {
   "cell_type": "code",
   "execution_count": 13,
   "metadata": {},
   "outputs": [],
   "source": [
    "import zipfile\r\n",
    "templateDocx = zipfile.ZipFile(\"data/Template.docx\")\r\n",
    "newDocx = zipfile.ZipFile(\"data/NewDocument.docx\", \"a\")\r\n",
    "\r\n",
    "\r\n",
    "for file in templateDocx.filelist:\r\n",
    "    templateDocx.extract(file.filename, \"data\")\r\n",
    "\r\n",
    "with open(\"data/word/document.xml\", encoding='utf-8') as docXmlFile:\r\n",
    "    docXmlStr =  docXmlFile.read()\r\n",
    "    # print(docXmlStr)\r\n",
    "       \r\n",
    "replaceText={'第五节':'这是替换的文本'} \r\n",
    "for key in replaceText.keys():\r\n",
    "    new_docXmlStr = docXmlStr.replace(str(key), str(replaceText.get(key)))\r\n",
    "\r\n",
    "with open(\"data/word/new_document.xml\", \"w+\", encoding='utf-8') as new_docXmlFile:\r\n",
    "    new_docXmlFile.write(new_docXmlStr)\r\n",
    "\r\n",
    "for file in templateDocx.filelist:\r\n",
    "    if not file.filename == \"word/document.xml\":\r\n",
    "        newDocx.writestr(file.filename, templateDocx.read(file))\r\n",
    "\r\n",
    "newDocx.write(\"data/word/new_document.xml\", \"word/document.xml\")\r\n",
    "\r\n",
    "templateDocx.close()\r\n",
    "newDocx.close()"
   ]
  },
  {
   "cell_type": "markdown",
   "metadata": {},
   "source": [
    "## Processing fontnote with footnotes.xml"
   ]
  },
  {
   "cell_type": "code",
   "execution_count": 14,
   "metadata": {},
   "outputs": [
    {
     "name": "stdout",
     "output_type": "stream",
     "text": [
      "-1\n",
      " \n",
      "  --------------------\n",
      "0\n",
      " \n",
      "  --------------------\n",
      "1\n",
      " .《关于成立‘江苏东大特种基础工程开发公司’的报告》，1-2-1。 \n",
      "  --------------------\n",
      "2\n",
      " .《联营协议书》，1-2-1。 \n",
      "  --------------------\n",
      "3\n",
      " .《关于成立“江苏东大特种基础工程开发公司”的决定》，1-2-1。 \n",
      "  --------------------\n",
      "4\n",
      " .验字（94）6号验资证明，1-3-2。 \n",
      "  --------------------\n",
      "5\n",
      " .《国有资产产权登记表附表》，1-2-1。 \n",
      "  --------------------\n",
      "6\n",
      " .《审计报告》（XYZH/2015NJA30090号），1-4-4-1。 \n",
      "  --------------------\n",
      "7\n",
      " 《评估报告》（天源评报字[2015]第0199号），1-4-4-2。 \n",
      "  --------------------\n",
      "8\n",
      " 《验资报告》（XYZH[20l5]NJA30092号），1-4-4-3。 \n",
      "  --------------------\n"
     ]
    }
   ],
   "source": [
    "from bs4 import BeautifulSoup\r\n",
    "soup = BeautifulSoup(open(\"data/word/footnotes.xml\", encoding='utf-8'), 'xml')\r\n",
    "# print(soup.prettify())\r\n",
    "for footnote in soup.find_all('w:footnote'):\r\n",
    "    footnote_id = footnote.get('w:id')\r\n",
    "    print( footnote_id,)\r\n",
    "    print(footnote.text, '\\n ','--'*10)\r\n"
   ]
  },
  {
   "cell_type": "code",
   "execution_count": 15,
   "metadata": {},
   "outputs": [
    {
     "name": "stdout",
     "output_type": "stream",
     "text": [
      "<w:t>关于成立</w:t>\n",
      "<w:t>关于成立测试</w:t>\n"
     ]
    }
   ],
   "source": [
    "for footnote in soup.find_all('w:footnote'):\r\n",
    "    for w_t in footnote.find_all('w:t'):\r\n",
    "        if  \"关于成立\" in w_t:\r\n",
    "            print(w_t)\r\n",
    "            w_t.insert(1,'测试')\r\n",
    "            print(w_t)\r\n",
    "\r\n",
    "with open('data/word/new_footnotes.xml', 'w',  encoding='utf-8') as fp:\r\n",
    "    fp.write(soup.prettify())"
   ]
  },
  {
   "cell_type": "markdown",
   "metadata": {},
   "source": [
    "# Processing Word with python-docx"
   ]
  },
  {
   "cell_type": "markdown",
   "metadata": {},
   "source": [
    "## get paragraph text"
   ]
  },
  {
   "cell_type": "code",
   "execution_count": 1,
   "metadata": {},
   "outputs": [
    {
     "name": "stdout",
     "output_type": "stream",
     "text": [
      "[(0, '第五节 发行人基本情况'), (1, '一、发行人基本情况'), (2, '二、发行人设立、报告期内股本变化、重大资产重组及在其他证券市场挂牌情况'), (3, '（一）有限公司成立情况'), (4, '发行人前身为江苏东大特种基础工程开发公司，由南京东大科技实业（集团）总公司和宜兴京宜特种地基基础工程公司共同出资设立。'), (5, '1993年11月25日，东大科技与宜兴京宜联合向江苏省工商行政管理局提交“关于成立‘江苏东大特种基础工程开发公司’的报告” ，申请设立“江苏东大特种基础工程开发公司”（即鸿基有限）。'), (6, '1993年12月2日，东大科技与宜兴京宜签署《联营协议书》，共同设立“江苏东大特种基础工程开发公司”。'), (7, '1993年12月6日，东大科技作出“东集发展字[93]第58号”决定，由东大科技所属基础与建材研究所与宜兴京宜联合成立“江苏东大特种基础工程开发公司”。'), (8, '1994年1月26日，江苏兴隆会计师事务所出具“验字（94）6号”《验资证明》，对宜兴京宜出资的价值324万元的机械设备进行验资。'), (9, '1994年2月4日，江苏省国有资产管理局出具《国有资产产权登记表附表》登记东大科技用于出资的固定资产为31万元，流动资金60万元。江苏省国有资产管理局对该附表所记载资产状况审核同意注册。'), (10, '1994年3月30日，鸿基有限完成工商注册手续并领取了江苏省工商行政管理局核发的《企业法人营业执照》（注册号13477645-3）。鸿基有限设立时的股权结构如下：'), (11, '（二）股份有限公司设立情况'), (12, '2015年7月15日，信永中和出具《审计报告》（XYZH/2015NJA30090号），根据该报告，有限公司截至2015年6月30日的净资产值为60,553,667.60元。'), (13, '2015年7月16日，天源资产评估有限公司出具《评估报告》（天源评报字[2015]第0199号），根据该报告，有限公司截至2015年6月30日的净资产的评估值为62,665,444.14元。'), (14, '2015年8月3日，有限公司召开股东会，全体股东一致同意，鸿基有限变更为股份有限公司，并以信永中和出具的《审计报告》（XYZH/20l5NJA30090号）确认的鸿基有限截至2015年6月30日的账面净资产60,553,667.60元，折合成6,000万股股份，折股比例为1:0.99085658，每股面值1元。前述净资产超过股本总额的部分共计553,667.60元计入股份有限公司的资本公积。'), (15, '2015年8月3日，公司全体股东作为股份公司发起人签署《江苏鸿基节能新技术股份有限公司发起人协议》，约定了股份公司的“经营范围”、“注册资本、股本总额和投资总额”、“发起人的权利、义务”和“股东大会、董事会、监事会及经营管理机构”等事项。'), (16, '2015年8月3日，鸿基节能召开创立大会暨2015年第一次临时股东大会，审议通过《关于成立江苏鸿基节能新技术股份有限公司的议案》《关于<江苏鸿基节能新技术股份有限公司章程>的议案》等议案。'), (17, '2015年8月3日，信永中和出具《验资报告》（XYZH[20l5]NJA30092号），对鸿基有限整体变更为股份公司的出资情况进行了验资确认。'), (18, '2015年9月11日，发行人就股份公司设立事宜于江苏省工商行政管理局办理完毕工商登记，并取得注册号为320000000006727的《营业执照》，鸿基有限正式变更为股份有限公司，法定代表人为卫海。'), (19, '股份公司设立时，各发起人持股数量及持股比例如下：'), (20, '（三）全国中小企业股份转让系统挂牌并公开转让、终止挂牌情况'), (21, '1、挂牌并公开转让情况'), (22, '2015年9月14日，鸿基节能第一届董事会第二次会议审议通过《关于申请公司股票进入全国中小企业股份转让系统挂牌并公开转让的议案》《关于授权公司董事会全权办理申请公司股票进入全国中小企业股份转让系统挂牌并公开转让相关事宜的议案》以及《关于公司申请股票在全国中小企业股份转让系统挂牌并进行公开转让时采取协议转让方式的议案》，并提请召开股东大会对上述议案进行审议。'), (23, '2015年9月29日，公司召开了201')]\n"
     ]
    }
   ],
   "source": [
    "from docx import Document\r\n",
    "\r\n",
    "class Docx_extract:\r\n",
    "    def __init__(self, fp):\r\n",
    "        self.document = Document(fp)\r\n",
    "        \r\n",
    "    def get_paragraph(self):\r\n",
    "        '''\r\n",
    "        Parameters\r\n",
    "        ----------\r\n",
    "        f_p: docx file path\r\n",
    "\r\n",
    "        Returns\r\n",
    "        ----------\r\n",
    "        out: generator\r\n",
    "        Each element is A tuple containing (paragraph_number, paragraph.text)\r\n",
    "        '''\r\n",
    "        for  paragraph_number, paragraph in enumerate(self.document.paragraphs):\r\n",
    "            # print(f'paragraph_number:{paragraph_number}, paragraph text:{paragraph.text}')\r\n",
    "            paragraph_text = paragraph.text\r\n",
    "            yield  paragraph_number, paragraph_text\r\n",
    "\r\n",
    "if __name__==\"__main__\":\r\n",
    "   \r\n",
    "    fp = 'data/Template.docx'\r\n",
    "    docx_extract = Docx_extract(fp)\r\n",
    "    result= docx_extract.get_paragraph()\r\n",
    "    print(list(result))\r\n"
   ]
  },
  {
   "source": [
    "# Docx to byte stream and byte stream to docx "
   ],
   "cell_type": "markdown",
   "metadata": {}
  },
  {
   "source": [
    "import base64\n",
    "\n",
    "fp = 'data/Template.docx'\n",
    "with open(fp,'rb') as f:\n",
    "    res = base64.b64encode(f.read())\n",
    "\n",
    "docx = base64.b64decode(res)\n",
    "\n",
    "with open('test.docx','wb') as f:\n",
    "    f.write(docx)"
   ],
   "cell_type": "code",
   "metadata": {},
   "execution_count": 5,
   "outputs": []
  }
 ],
 "metadata": {
  "kernelspec": {
   "display_name": "Python 3",
   "name": "python3",
   "language": "python"
  },
  "language_info": {
   "codemirror_mode": {
    "name": "ipython",
    "version": 3
   },
   "file_extension": ".py",
   "mimetype": "text/x-python",
   "name": "python",
   "nbconvert_exporter": "python",
   "pygments_lexer": "ipython3",
   "version": "3.7.10-final"
  }
 },
 "nbformat": 4,
 "nbformat_minor": 5
}