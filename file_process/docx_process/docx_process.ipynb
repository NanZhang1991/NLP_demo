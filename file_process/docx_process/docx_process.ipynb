{
 "cells": [
  {
   "cell_type": "markdown",
   "metadata": {},
   "source": [
    "#  Docx check"
   ]
  },
  {
   "cell_type": "code",
   "execution_count": 14,
   "metadata": {},
   "outputs": [
    {
     "data": {
      "text/plain": "'data/input/template/template.docx'"
     },
     "execution_count": 14,
     "metadata": {},
     "output_type": "execute_result"
    }
   ],
   "source": [
    "import os\r\n",
    "import sys\r\n",
    "\r\n",
    "class File_check:\r\n",
    "\r\n",
    "    @property\r\n",
    "    def docx_path(self):\r\n",
    "        return self._docx\r\n",
    "\r\n",
    "    @docx_path.setter\r\n",
    "    def docx_path(self, fp):\r\n",
    "        if not ('.' in fp and fp.rsplit('.', 1)[1] =='docx'):\r\n",
    "            raise NameError('File name format error')\r\n",
    "        if not os.path.exists(fp):\r\n",
    "            raise  FileNotFoundError('Please provide the correct file path')\r\n",
    "        self._docx = fp\r\n",
    "\r\n",
    "file_check = File_check()\r\n",
    "\r\n",
    "file_check.docx_path='data/input/template/template.docx'\r\n",
    "file_check.docx_path\r\n",
    "\r\n",
    "# try:\r\n",
    "#     print(file_check.docx)\r\n",
    "# except Exception as e:\r\n",
    "#     error_line = e.__traceback__.tb_lineno\r\n",
    "#     print(f'{os.path.basename(sys.argv[0])}第{error_line}行发生error: {e}')\r\n",
    "#     print(e)"
   ]
  },
  {
   "cell_type": "markdown",
   "metadata": {},
   "source": [
    "# Processing Word with XML"
   ]
  },
  {
   "cell_type": "markdown",
   "metadata": {},
   "source": [
    "## Replace centent"
   ]
  },
  {
   "cell_type": "code",
   "execution_count": 16,
   "metadata": {},
   "outputs": [
    {
     "name": "stdout",
     "output_type": "stream",
     "text": [
      "[Content_Types].xml\n",
      "_rels/.rels\n",
      "word/document.xml\n",
      "word/_rels/document.xml.rels\n",
      "word/footnotes.xml\n",
      "word/endnotes.xml\n",
      "word/theme/theme1.xml\n",
      "word/settings.xml\n",
      "customXml/item1.xml\n",
      "customXml/itemProps1.xml\n",
      "word/numbering.xml\n",
      "word/styles.xml\n",
      "word/webSettings.xml\n",
      "word/fontTable.xml\n",
      "docProps/core.xml\n",
      "docProps/app.xml\n",
      "customXml/_rels/item1.xml.rels\n"
     ]
    }
   ],
   "source": [
    "import zipfile\r\n",
    "templateDocx = zipfile.ZipFile(\"data/input/template/template.docx\")\r\n",
    "newDocx = zipfile.ZipFile(\"data/output/template/NewDocument.docx\", \"w\")\r\n",
    "\r\n",
    "\r\n",
    "for file in templateDocx.filelist:\r\n",
    "    templateDocx.extract(file.filename, \"data/input/template\",)\r\n",
    "\r\n",
    "with open(\"data/input/template/word/document.xml\", encoding='utf-8') as docXmlFile:\r\n",
    "    docXmlStr =  docXmlFile.read()\r\n",
    "    # print(docXmlStr)\r\n",
    "       \r\n",
    "replaceText={'错误':'这是替换的文本'} \r\n",
    "for key in replaceText.keys():\r\n",
    "    new_docXmlStr = docXmlStr.replace(str(key), str(replaceText.get(key)))\r\n",
    "\r\n",
    "with open(\"data/output/template/new_document.xml\", \"w+\", encoding='utf-8') as new_docXmlFile:\r\n",
    "    new_docXmlFile.write(new_docXmlStr)\r\n",
    "\r\n",
    "for file in templateDocx.filelist:\r\n",
    "    print(file.filename)\r\n",
    "    if not file.filename == \"word/document.xml\":\r\n",
    "        newDocx.writestr(file.filename, templateDocx.read(file))\r\n",
    "\r\n",
    "newDocx.write(\"data/output/template/new_document.xml\", \"word/document.xml\")\r\n",
    "\r\n",
    "templateDocx.close()\r\n",
    "newDocx.close()"
   ]
  },
  {
   "cell_type": "markdown",
   "metadata": {},
   "source": [
    "## Decompressing docx"
   ]
  },
  {
   "cell_type": "code",
   "execution_count": 2,
   "metadata": {},
   "outputs": [
    {
     "name": "stdout",
     "output_type": "stream",
     "text": [
      "['[Content_Types].xml', '_rels/.rels', 'word/document.xml', 'word/_rels/document.xml.rels', 'word/theme/theme1.xml', 'word/settings.xml', 'word/styles.xml', 'word/webSettings.xml', 'word/fontTable.xml', 'docProps/core.xml', 'docProps/app.xml']\n"
     ]
    }
   ],
   "source": [
    "import zipfile\r\n",
    "templateDocx = zipfile.ZipFile(\"data/input/template/template.docx\")\r\n",
    "templateDocx.extractall(\"data/input/template\")\r\n",
    "filename = templateDocx.namelist()\r\n",
    "print(filename)\r\n",
    "document_content = templateDocx.read(\"word/document.xml\").decode('utf-8') \r\n",
    "\r\n",
    "# for file in templateDocx.filelist:\r\n",
    "#     templateDocx.extract(file.filename, \"data/input/template\")\r\n",
    "\r\n",
    "# with open(\"data/input/template/word/document.xml\", encoding='utf-8') as docXmlFile:\r\n",
    "#     docXmlStr =  docXmlFile.read()\r\n",
    "#     # print(docXmlStr)\r\n",
    "       \r\n",
    "templateDocx.close()"
   ]
  },
  {
   "cell_type": "markdown",
   "metadata": {},
   "source": [
    "## Add comment"
   ]
  },
  {
   "cell_type": "code",
   "execution_count": 3,
   "metadata": {},
   "outputs": [
    {
     "name": "stdout",
     "output_type": "stream",
     "text": [
      "['[Content_Types].xml', '_rels/.rels', 'word/document.xml', 'word/_rels/document.xml.rels', 'word/comments.xml', 'word/theme/theme1.xml', 'word/settings.xml', 'customXml/item1.xml', 'customXml/itemProps1.xml', 'word/styles.xml', 'word/webSettings.xml', 'word/commentsExtended.xml', 'word/commentsIds.xml', 'word/commentsExtensible.xml', 'word/fontTable.xml', 'word/people.xml', 'docProps/core.xml', 'docProps/app.xml', 'customXml/_rels/item1.xml.rels']\n"
     ]
    },
    {
     "data": {
      "text/plain": "'\\nword/_rels/document.xml.rels\\nword/comments.xml\\nword/document.xml\\nword/commentsExtended\\nword/commentsExtensible.xml\\nword/commentsIds.xml\\nword/people.xml\\n'"
     },
     "execution_count": 3,
     "metadata": {},
     "output_type": "execute_result"
    }
   ],
   "source": [
    "import zipfile\r\n",
    "commentDocx = zipfile.ZipFile(\"data/input/template_comment/template_comment.docx\")\r\n",
    "commentDocx.extractall(\"data/input/template_comment/\")\r\n",
    "filename = commentDocx.namelist()\r\n",
    "print(filename)\r\n",
    "\r\n",
    "# for file in commentDocx.filelist:\r\n",
    "#     commentDocx.extract(file.filename, \"data/input/template_comment/\")\r\n",
    "\r\n",
    "       \r\n",
    "commentDocx.close()\r\n",
    "'''\r\n",
    "word/_rels/document.xml.rels\r\n",
    "word/comments.xml\r\n",
    "word/document.xml\r\n",
    "word/commentsExtended\r\n",
    "word/commentsExtensible.xml\r\n",
    "word/commentsIds.xml\r\n",
    "word/people.xml\r\n",
    "'''"
   ]
  },
  {
   "cell_type": "code",
   "execution_count": 27,
   "metadata": {},
   "outputs": [
    {
     "name": "stdout",
     "output_type": "stream",
     "text": [
      "********** _rels/.rels\n",
      "********** word/theme/theme1.xml\n",
      "********** word/settings.xml\n",
      "********** word/styles.xml\n",
      "********** word/webSettings.xml\n",
      "********** word/fontTable.xml\n",
      "********** docProps/core.xml\n",
      "********** docProps/app.xml\n",
      "['[Content_Types].xml', '_rels/.rels', 'word/document.xml', 'word/_rels/document.xml.rels', 'word/comments.xml', 'word/theme/theme1.xml', 'word/settings.xml', 'customXml/item1.xml', 'customXml/itemProps1.xml', 'word/styles.xml', 'word/webSettings.xml', 'word/commentsExtended.xml', 'word/commentsIds.xml', 'word/commentsExtensible.xml', 'word/fontTable.xml', 'word/people.xml', 'docProps/core.xml', 'docProps/app.xml', 'customXml/_rels/item1.xml.rels']\n",
      "++++++++++ [Content_Types].xml\n",
      "++++++++++ word/document.xml\n",
      "++++++++++ word/_rels/document.xml.rels\n",
      "++++++++++ word/comments.xml\n",
      "++++++++++ customXml/item1.xml\n"
     ]
    },
    {
     "data": {
      "text/plain": "'\\ndiff\\n[Content_Types].xml\\n<Override PartName=\"/word/comments.xml\" ContentType=\"application/vnd.openxmlformats-officedocument.wordprocessingml.comments+xml\"/>\\n<Override PartName=\"/word/commentsExtended.xml\" ContentType=\"application/vnd.openxmlformats-officedocument.wordprocessingml.commentsExtended+xml\"/>\\n<Override PartName=\"/word/commentsIds.xml\" ContentType=\"application/vnd.openxmlformats-officedocument.wordprocessingml.commentsIds+xml\"/>\\n<Override PartName=\"/word/commentsExtensible.xml\" ContentType=\"application/vnd.openxmlformats-officedocument.wordprocessingml.commentsExtensible+xml\"/>\\n'"
     },
     "execution_count": 27,
     "metadata": {},
     "output_type": "execute_result"
    }
   ],
   "source": [
    "import zipfile\r\n",
    "templateDocx = zipfile.ZipFile(\"data/input/template/template.docx\")\r\n",
    "commentDocx = zipfile.ZipFile(\"data/input/template_comment/template_comment.docx\")\r\n",
    "newDocx = zipfile.ZipFile(\"data/output/add_comment/add_comment.docx\", \"w\")\r\n",
    "\r\n",
    "for file in templateDocx.filelist:      \r\n",
    "    if file.filename in ['_rels/.rels', 'word/styles.xml',\r\n",
    "                        'word/theme/theme1.xml', 'word/settings.xml', 'word/webSettings.xml', \r\n",
    "                        'word/fontTable.xml', 'docProps/core.xml', 'docProps/app.xml'\r\n",
    "                        ]:\r\n",
    "        print('*'*10, file.filename)\r\n",
    "        newDocx.writestr(file.filename, templateDocx.read(file))\r\n",
    "\r\n",
    "comFile =  commentDocx.namelist()\r\n",
    "print(comFile)\r\n",
    "for file in commentDocx.filelist: \r\n",
    "    # newDocx.writestr(file.filename,commentDocx.read(file))   \r\n",
    "    if file.filename in['[Content_Types].xml',  'word/document.xml', 'word/_rels/document.xml.rels', 'word/comments.xml', \r\n",
    "                        'customXml/item1.xml', \r\n",
    "                        # 'customXml/itemProps1.xml', customXml/_rels/item1.xml.rels',\r\n",
    "                        # 'word/commentsExtended.xml', 'word/commentsIds.xml', 'word/commentsExtensible.xml','word/people.xml', \r\n",
    "                        ]:\r\n",
    "        print('+'*10, file.filename)                     \r\n",
    "        newDocx.writestr(file.filename,commentDocx.read(file))  \r\n",
    "\r\n",
    "templateDocx.close()\r\n",
    "newDocx.close()\r\n",
    "\r\n",
    "\r\n",
    "'''\r\n",
    "['[Content_Types].xml', '_rels/.rels', 'word/document.xml', 'word/_rels/document.xml.rels', \r\n",
    "'word/comments.xml', 'word/theme/theme1.xml', 'word/settings.xml', 'word/styles.xml', 'word/webSettings.xml', \r\n",
    "'word/commentsExtended.xml', 'word/commentsIds.xml', \r\n",
    "'word/commentsExtensible.xml', 'word/fontTable.xml', 'word/people.xml', 'docProps/core.xml', 'docProps/app.xml']\r\n",
    "'''\r\n",
    "\r\n",
    "'''\r\n",
    "diff\r\n",
    "[Content_Types].xml\r\n",
    "<Override PartName=\"/word/comments.xml\" ContentType=\"application/vnd.openxmlformats-officedocument.wordprocessingml.comments+xml\"/>\r\n",
    "<Override PartName=\"/word/commentsExtended.xml\" ContentType=\"application/vnd.openxmlformats-officedocument.wordprocessingml.commentsExtended+xml\"/>\r\n",
    "<Override PartName=\"/word/commentsIds.xml\" ContentType=\"application/vnd.openxmlformats-officedocument.wordprocessingml.commentsIds+xml\"/>\r\n",
    "<Override PartName=\"/word/commentsExtensible.xml\" ContentType=\"application/vnd.openxmlformats-officedocument.wordprocessingml.commentsExtensible+xml\"/>\r\n",
    "'''\r\n",
    "\r\n",
    "\r\n",
    "\r\n"
   ]
  },
  {
   "cell_type": "code",
   "execution_count": null,
   "metadata": {},
   "outputs": [],
   "source": [
    "\r\n"
   ]
  },
  {
   "cell_type": "code",
   "execution_count": 46,
   "metadata": {},
   "outputs": [
    {
     "name": "stdout",
     "output_type": "stream",
     "text": [
      "['\\n', <w:pPr>\n",
      "<w:pStyle w:val=\"005\"/>\n",
      "<w:spacing w:before=\"156\"/>\n",
      "<w:ind w:firstLine=\"480\"/>\n",
      "</w:pPr>, '\\n', <w:r>\n",
      "<w:rPr>\n",
      "<w:rFonts w:hint=\"eastAsia\"/>\n",
      "</w:rPr>\n",
      "<w:t>信永中和对公司</w:t>\n",
      "</w:r>, '\\n', <w:r>\n",
      "<w:t>2020</w:t>\n",
      "</w:r>, '\\n', <w:r>\n",
      "<w:rPr>\n",
      "<w:rFonts w:hint=\"eastAsia\"/>\n",
      "</w:rPr>\n",
      "<w:t>年</w:t>\n",
      "</w:r>, '\\n', <w:r>\n",
      "<w:t>3</w:t>\n",
      "</w:r>, '\\n', <w:r>\n",
      "<w:rPr>\n",
      "<w:rFonts w:hint=\"eastAsia\"/>\n",
      "</w:rPr>\n",
      "<w:t>月</w:t>\n",
      "</w:r>, '\\n', <w:r>\n",
      "<w:t>31</w:t>\n",
      "</w:r>, '\\n', <w:r>\n",
      "<w:rPr>\n",
      "<w:rFonts w:hint=\"eastAsia\"/>\n",
      "</w:rPr>\n",
      "<w:t>日合并及母公司资产负债表，</w:t>\n",
      "</w:r>, '\\n', <w:r>\n",
      "<w:t>2020</w:t>\n",
      "</w:r>, '\\n', <w:r>\n",
      "<w:rPr>\n",
      "<w:rFonts w:hint=\"eastAsia\"/>\n",
      "</w:rPr>\n",
      "<w:t>年</w:t>\n",
      "</w:r>, '\\n', <w:r>\n",
      "<w:t>1-3</w:t>\n",
      "</w:r>, '\\n', <w:r>\n",
      "<w:rPr>\n",
      "<w:rFonts w:hint=\"eastAsia\"/>\n",
      "</w:rPr>\n",
      "<w:t>月的合并及母公司利润表、合并及母公司现金流量表以及财务报表附注进行了审阅，并出具了</w:t>\n",
      "</w:r>, '\\n', <w:r>\n",
      "<w:t>XYZH/2020NJA30352</w:t>\n",
      "</w:r>, '\\n', <w:r>\n",
      "<w:rPr>\n",
      "<w:rFonts w:hint=\"eastAsia\"/>\n",
      "</w:rPr>\n",
      "<w:t>号《审阅报告》。公司</w:t>\n",
      "</w:r>, '\\n', <w:r>\n",
      "<w:t>2020</w:t>\n",
      "</w:r>, '\\n', <w:r>\n",
      "<w:rPr>\n",
      "<w:rFonts w:hint=\"eastAsia\"/>\n",
      "</w:rPr>\n",
      "<w:t>年</w:t>\n",
      "</w:r>, '\\n', <w:r>\n",
      "<w:t>1-3</w:t>\n",
      "</w:r>, '\\n', <w:r>\n",
      "<w:rPr>\n",
      "<w:rFonts w:hint=\"eastAsia\"/>\n",
      "</w:rPr>\n",
      "<w:t>月营业收入为</w:t>\n",
      "</w:r>, '\\n', <w:r>\n",
      "<w:t>2,460,684.32</w:t>\n",
      "</w:r>, '\\n', <w:r>\n",
      "<w:rPr>\n",
      "<w:rFonts w:hint=\"eastAsia\"/>\n",
      "</w:rPr>\n",
      "<w:t>元，较去年同期下降</w:t>\n",
      "</w:r>, '\\n', <w:r>\n",
      "<w:t>51.59%</w:t>\n",
      "</w:r>, '\\n', <w:r>\n",
      "<w:rPr>\n",
      "<w:rFonts w:hint=\"eastAsia\"/>\n",
      "</w:rPr>\n",
      "<w:t>，主要是疫情影响，验收项目减少；归属于母公司股东的净利润为</w:t>\n",
      "</w:r>, '\\n', <w:r>\n",
      "<w:t>2,998,141.82</w:t>\n",
      "</w:r>, '\\n', <w:r>\n",
      "<w:rPr>\n",
      "<w:rFonts w:hint=\"eastAsia\"/>\n",
      "</w:rPr>\n",
      "<w:t>元，较去年同期增长</w:t>\n",
      "</w:r>, '\\n', <w:r>\n",
      "<w:t>145.14%</w:t>\n",
      "</w:r>, '\\n', <w:r>\n",
      "<w:rPr>\n",
      "<w:rFonts w:hint=\"eastAsia\"/>\n",
      "</w:rPr>\n",
      "<w:t>；扣非后归属于母公司股东的净利润为</w:t>\n",
      "</w:r>, '\\n', <w:r>\n",
      "<w:t>3,001,996.54</w:t>\n",
      "</w:r>, '\\n', <w:r>\n",
      "<w:rPr>\n",
      "<w:rFonts w:hint=\"eastAsia\"/>\n",
      "</w:rPr>\n",
      "<w:t>元，较去年同期增长</w:t>\n",
      "</w:r>, '\\n', <w:r>\n",
      "<w:t>145.18%</w:t>\n",
      "</w:r>, '\\n', <w:r>\n",
      "<w:rPr>\n",
      "<w:rFonts w:hint=\"eastAsia\"/>\n",
      "</w:rPr>\n",
      "<w:t>，主要是该期间客户回款情况良好，冲回应收账款坏账损失所致。</w:t>\n",
      "</w:r>, '\\n']\n"
     ]
    }
   ],
   "source": [
    "from bs4 import BeautifulSoup\r\n",
    "soup = BeautifulSoup(open(\"data/input/template/word/document.xml\", encoding='utf-8'), 'xml')\r\n",
    "\r\n",
    "search_str = '月营业收入'\r\n",
    "for wp in soup.find_all(\"w:p\"):\r\n",
    "    if search_str in wp.get_text():\r\n",
    "        # print(wp.prettify())\r\n",
    "        print(wp.contents)\r\n",
    "        experiment = wp\r\n"
   ]
  },
  {
   "cell_type": "code",
   "execution_count": 47,
   "metadata": {},
   "outputs": [
    {
     "data": {
      "text/plain": "<w:p w14:paraId=\"650CB523\" w14:textId=\"77777777\" w:rsidP=\"00B14C70\" w:rsidR=\"00B14C70\" w:rsidRDefault=\"00B14C70\">\n<w:pPr>\n<w:pStyle w:val=\"005\"/>\n<w:spacing w:before=\"156\"/>\n<w:ind w:firstLine=\"480\"/>\n</w:pPr>\n<w:r>\n<w:rPr>\n<w:rFonts w:hint=\"eastAsia\"/>\n</w:rPr>\n<w:t>信永中和对公司</w:t>\n</w:r>\n<w:r>\n<w:t>2020</w:t>\n</w:r>\n<w:r>\n<w:rPr>\n<w:rFonts w:hint=\"eastAsia\"/>\n</w:rPr>\n<w:t>年</w:t>\n</w:r>\n<w:r>\n<w:t>3</w:t>\n</w:r>\n<w:r>\n<w:rPr>\n<w:rFonts w:hint=\"eastAsia\"/>\n</w:rPr>\n<w:t>月</w:t>\n</w:r>\n<w:r>\n<w:t>31</w:t>\n</w:r>\n<w:r>\n<w:rPr>\n<w:rFonts w:hint=\"eastAsia\"/>\n</w:rPr>\n<w:t>日合并及母公司资产负债表，</w:t>\n</w:r>\n<w:r>\n<w:t>2020</w:t>\n</w:r>\n<w:r>\n<w:rPr>\n<w:rFonts w:hint=\"eastAsia\"/>\n</w:rPr>\n<w:t>年</w:t>\n</w:r>\n<w:r>\n<w:t>1-3</w:t>\n</w:r>\n<w:r>\n<w:rPr>\n<w:rFonts w:hint=\"eastAsia\"/>\n</w:rPr>\n<w:t>月的合并及母公司利润表、合并及母公司现金流量表以及财务报表附注进行了审阅，并出具了</w:t>\n</w:r>\n<w:r>\n<w:t>XYZH/2020NJA30352</w:t>\n</w:r>\n<w:r>\n<w:rPr>\n<w:rFonts w:hint=\"eastAsia\"/>\n</w:rPr>\n<w:t>号《审阅报告》。公司</w:t>\n</w:r>\n<w:r>\n<w:t>2020</w:t>\n</w:r>\n<w:r>\n<w:rPr>\n<w:rFonts w:hint=\"eastAsia\"/>\n</w:rPr>\n<w:t>年</w:t>\n</w:r>\n<w:r>\n<w:t>1-3</w:t>\n</w:r>\n<w:r>\n<w:rPr>\n<w:rFonts w:hint=\"eastAsia\"/>\n</w:rPr>\n<w:t>月营业收入为</w:t>\n</w:r>\n<w:r>\n<w:t>2,460,684.32</w:t>\n</w:r>\n<w:r>\n<w:rPr>\n<w:rFonts w:hint=\"eastAsia\"/>\n</w:rPr>\n<w:t>元，较去年同期下降</w:t>\n</w:r>\n<w:r>\n<w:t>51.59%</w:t>\n</w:r>\n<w:r>\n<w:rPr>\n<w:rFonts w:hint=\"eastAsia\"/>\n</w:rPr>\n<w:t>，主要是疫情影响，验收项目减少；归属于母公司股东的净利润为</w:t>\n</w:r>\n<w:r>\n<w:t>2,998,141.82</w:t>\n</w:r>\n<w:r>\n<w:rPr>\n<w:rFonts w:hint=\"eastAsia\"/>\n</w:rPr>\n<w:t>元，较去年同期增长</w:t>\n</w:r>\n<w:r>\n<w:t>145.14%</w:t>\n</w:r>\n<w:r>\n<w:rPr>\n<w:rFonts w:hint=\"eastAsia\"/>\n</w:rPr>\n<w:t>；扣非后归属于母公司股东的净利润为</w:t>\n</w:r>\n<w:r>\n<w:t>3,001,996.54</w:t>\n</w:r>\n<w:r>\n<w:rPr>\n<w:rFonts w:hint=\"eastAsia\"/>\n</w:rPr>\n<w:t>元，较去年同期增长</w:t>\n</w:r>\n<w:r>\n<w:t>145.18%</w:t>\n</w:r>\n<w:r>\n<w:rPr>\n<w:rFonts w:hint=\"eastAsia\"/>\n</w:rPr>\n<w:t>，主要是该期间客户回款情况良好，冲回应收账款坏账损失所致。</w:t>\n</w:r>\n</w:p>"
     },
     "execution_count": 47,
     "metadata": {},
     "output_type": "execute_result"
    }
   ],
   "source": []
  },
  {
   "cell_type": "markdown",
   "metadata": {},
   "source": [
    "## Processing fontnote with footnotes.xml"
   ]
  },
  {
   "cell_type": "code",
   "execution_count": 14,
   "metadata": {},
   "outputs": [
    {
     "name": "stdout",
     "output_type": "stream",
     "text": [
      "-1\n",
      " \n",
      "  --------------------\n",
      "0\n",
      " \n",
      "  --------------------\n",
      "1\n",
      " .《关于成立‘江苏东大特种基础工程开发公司’的报告》，1-2-1。 \n",
      "  --------------------\n",
      "2\n",
      " .《联营协议书》，1-2-1。 \n",
      "  --------------------\n",
      "3\n",
      " .《关于成立“江苏东大特种基础工程开发公司”的决定》，1-2-1。 \n",
      "  --------------------\n",
      "4\n",
      " .验字（94）6号验资证明，1-3-2。 \n",
      "  --------------------\n",
      "5\n",
      " .《国有资产产权登记表附表》，1-2-1。 \n",
      "  --------------------\n",
      "6\n",
      " .《审计报告》（XYZH/2015NJA30090号），1-4-4-1。 \n",
      "  --------------------\n",
      "7\n",
      " 《评估报告》（天源评报字[2015]第0199号），1-4-4-2。 \n",
      "  --------------------\n",
      "8\n",
      " 《验资报告》（XYZH[20l5]NJA30092号），1-4-4-3。 \n",
      "  --------------------\n"
     ]
    }
   ],
   "source": [
    "from bs4 import BeautifulSoup\r\n",
    "soup = BeautifulSoup(open(\"data/word/footnotes.xml\", encoding='utf-8'), 'xml')\r\n",
    "# print(soup.prettify())\r\n",
    "for footnote in soup.find_all('w:footnote'):\r\n",
    "    footnote_id = footnote.get('w:id')\r\n",
    "    print( footnote_id,)\r\n",
    "    print(footnote.text, '\\n ','--'*10)\r\n"
   ]
  },
  {
   "cell_type": "code",
   "execution_count": 15,
   "metadata": {},
   "outputs": [
    {
     "name": "stdout",
     "output_type": "stream",
     "text": [
      "<w:t>关于成立</w:t>\n",
      "<w:t>关于成立测试</w:t>\n"
     ]
    }
   ],
   "source": [
    "for footnote in soup.find_all('w:footnote'):\r\n",
    "    for w_t in footnote.find_all('w:t'):\r\n",
    "        if  \"关于成立\" in w_t:\r\n",
    "            print(w_t)\r\n",
    "            w_t.insert(1,'测试')\r\n",
    "            print(w_t)\r\n",
    "\r\n",
    "with open('data/word/new_footnotes.xml', 'w',  encoding='utf-8') as fp:\r\n",
    "    fp.write(soup.prettify())"
   ]
  },
  {
   "cell_type": "markdown",
   "metadata": {},
   "source": [
    "# Processing Word with python-docx"
   ]
  },
  {
   "cell_type": "markdown",
   "metadata": {},
   "source": [
    "## get paragraph text"
   ]
  },
  {
   "cell_type": "code",
   "execution_count": 28,
   "metadata": {},
   "outputs": [
    {
     "name": "stdout",
     "output_type": "stream",
     "text": [
      "[(1, '审计基准日至本招股说明书签署日，公司经营正常，主营业务未发生重大变化，不存在可能影响投资者判断的重大事项。'), (2, '公司财务报告审计截止日为2019年12月31日，审计截止日后至本招股说明书签署之日，公司经营正常，主营业务、采购模式、销售模式、研发模式等方面均未发生重大变化，未发生导致公司业绩异常波动的重大不利因素。'), (3, '信永中和对公司2020年3月31日合并及母公司资产负债表，2020年1-3月的合并及母公司利润表、合并及母公司现金流量表以及财务报表附注进行了审阅，并出具了XYZH/2020NJA30352号《审阅报告》。公司2020年1-3月营业收入为2,460,684.32元，较去年同期下降51.59%，主要是疫情影响，验收项目减少；归属于母公司股东的净利润为2,998,141.82元，较去年同期增长145.14%；扣非后归属于母公司股东的净利润为3,001,996.54元，较去年同期增长145.18%，主要是该期间客户回款情况良好，冲回应收账款坏账损失所致。'), (4, '审计截止日后至本招股说明书签署之日，公司经营正常，主营业务、采购模式、销售模式、研发模式等方面均未发生重大变化，未发生导致公司业绩异常波动的重大不利因素。')]\n"
     ]
    }
   ],
   "source": [
    "from docx import Document\r\n",
    "import re\r\n",
    "import multiprocessing as mp\r\n",
    "\r\n",
    "\r\n",
    "class Docx_extract:\r\n",
    "    def __init__(self, fp):\r\n",
    "        self.document = Document(fp)\r\n",
    "\r\n",
    "    def get_paragraph(self):\r\n",
    "        '''\r\n",
    "        Get the word document paragraph number and paragraph text that doesn't include heading.\r\n",
    "\r\n",
    "        Parameters\r\n",
    "        ----------\r\n",
    "        f_p: docx file path\r\n",
    "\r\n",
    "        Returns\r\n",
    "        ----------\r\n",
    "        out: generator\r\n",
    "        Each element is A tuple containing (paragraph_number, paragraph.text)\r\n",
    "        '''\r\n",
    "        for  paragraph_number, paragraph in enumerate(self.document.paragraphs):\r\n",
    "            if (paragraph.style.name =='Normal' or re.findall('正文', paragraph.style.name)) and len(paragraph.text.strip()) !=0:\r\n",
    "                yield  paragraph_number, paragraph.text.strip()\r\n",
    " \r\n",
    "    def get_sentence(self):\r\n",
    "        pass\r\n",
    "\r\n",
    "\r\n",
    "if __name__==\"__main__\":\r\n",
    "    fp = 'data/input/template/template.docx'\r\n",
    "    docx_extract = Docx_extract(fp)\r\n",
    "    paragraph_texts = docx_extract.get_paragraph()\r\n",
    "    res = list(paragraph_texts)\r\n",
    "    print(res)"
   ]
  },
  {
   "cell_type": "markdown",
   "metadata": {},
   "source": [
    "# Docx to byte stream and byte stream to docx "
   ]
  },
  {
   "cell_type": "code",
   "execution_count": 35,
   "metadata": {},
   "outputs": [],
   "source": [
    "import base64\r\n",
    "\r\n",
    "fp = 'data/input/template/template.docx'\r\n",
    "with open(fp,'rb') as f:\r\n",
    "    res = base64.b64encode(f.read())\r\n",
    "\r\n",
    "docx = base64.b64decode(res)\r\n",
    "\r\n",
    "with open('data/output/test.docx','wb') as f:\r\n",
    "    f.write(docx)"
   ]
  }
 ],
 "metadata": {
  "kernelspec": {
   "display_name": "Python 3.7.10 64-bit ('py3.7': conda)",
   "name": "python3710jvsc74a57bd0b82c4dcea0e292ae3c5056cb1ce5f519b54b2436655e008d9c8bf4bca92723c8"
  },
  "language_info": {
   "codemirror_mode": {
    "name": "ipython",
    "version": 3
   },
   "file_extension": ".py",
   "mimetype": "text/x-python",
   "name": "python",
   "nbconvert_exporter": "python",
   "pygments_lexer": "ipython3",
   "version": "3.7.10"
  },
  "orig_nbformat": 3
 },
 "nbformat": 4,
 "nbformat_minor": 5
}