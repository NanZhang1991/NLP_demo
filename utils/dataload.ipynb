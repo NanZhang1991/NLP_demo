{
 "cells": [
  {
   "cell_type": "markdown",
   "metadata": {},
   "source": [
    "## 内存字符串"
   ]
  },
  {
   "cell_type": "code",
   "execution_count": 2,
   "metadata": {},
   "outputs": [
    {
     "name": "stdout",
     "output_type": "stream",
     "text": [
      "hello world!\n",
      "Hello!\n",
      "Hi!\n",
      "Goodbye!\n"
     ]
    }
   ],
   "source": [
    "from io import StringIO\n",
    "f = StringIO()\n",
    "f.write('hello')\n",
    "f.write(' ')\n",
    "f.write('world!')\n",
    "print(f.getvalue())\n",
    "f = StringIO('Hello!\\nHi!\\nGoodbye!')\n",
    "while True:\n",
    "    \n",
    "    s = f.readline()\n",
    "    if s == '':\n",
    "        break\n",
    "    print(s.strip())"
   ]
  },
  {
   "cell_type": "markdown",
   "metadata": {},
   "source": [
    "## 内存字节流"
   ]
  },
  {
   "cell_type": "code",
   "execution_count": 3,
   "metadata": {},
   "outputs": [
    {
     "name": "stdout",
     "output_type": "stream",
     "text": [
      "b'\\xe4\\xb8\\xad\\xe6\\x96\\x87'\n",
      "b''\n"
     ]
    },
    {
     "data": {
      "text/plain": [
       "b'\\xe4\\xb8'"
      ]
     },
     "execution_count": 3,
     "metadata": {},
     "output_type": "execute_result"
    }
   ],
   "source": [
    "from io import BytesIO\n",
    "f = BytesIO()\n",
    "f.write('中文'.encode('utf-8'))\n",
    "print(f.getvalue())\n",
    "type(f)\n",
    "print(f.read()) # 由于此时游标是从f 的 最后的位置开始 read，那么后面的内容肯定是空 \n",
    "f.tell() # 说明游标是在f最后的位置 \n",
    "f.seek(0)  \n",
    "f.read(2)"
   ]
  },
  {
   "cell_type": "markdown",
   "metadata": {},
   "source": [
    "## 以流的形式读入转化成 ndarray 对象"
   ]
  },
  {
   "cell_type": "markdown",
   "metadata": {},
   "source": [
    "### 流转数组"
   ]
  },
  {
   "cell_type": "code",
   "execution_count": 14,
   "metadata": {},
   "outputs": [
    {
     "name": "stdout",
     "output_type": "stream",
     "text": [
      "[ 97  98  99 100 101 102]\n"
     ]
    }
   ],
   "source": [
    "import numpy as np\n",
    "b = b'abcdef' # bytes\n",
    "image_array = np.frombuffer(b, dtype=np.uint8) # numpy array\n",
    "print(image_array)"
   ]
  },
  {
   "cell_type": "markdown",
   "metadata": {},
   "source": [
    "### 流转图片"
   ]
  },
  {
   "cell_type": "code",
   "execution_count": 21,
   "metadata": {},
   "outputs": [],
   "source": [
    "import numpy as np\n",
    "import requests\n",
    "import io\n",
    "url = 'http://www.pyimagesearch.com/wp-content/uploads/2015/01/google_logo.png'\n",
    "resp = response = requests.get(url=url)\n",
    "byte_stream = io.BytesIO(response.content) #请求数据转化字节流\n",
    "roiImg = Image.open(byte_stream) #Image打开二进制流Byte字节流数据\n",
    "imgByteArr = io.BytesIO() #创建一个空的Bytes对象\n",
    "roiImg.save(imgByteArr, format='PNG')\n",
    "imgByteArr = imgByteArr.getvalue() #保存的二进制流\n",
    "with open(\"./abc.png\", \"wb\") as f:\n",
    "    f.write(imgByteArr)"
   ]
  },
  {
   "cell_type": "code",
   "execution_count": 16,
   "metadata": {},
   "outputs": [],
   "source": [
    "from PIL import Image\n",
    "im = Image.fromarray(image_array)\n",
    "im.show()"
   ]
  },
  {
   "cell_type": "markdown",
   "metadata": {},
   "source": [
    "# 读取json文件"
   ]
  },
  {
   "cell_type": "code",
   "execution_count": 62,
   "metadata": {},
   "outputs": [
    {
     "data": {
      "text/plain": [
       "{'text': '崔根良先生，中国国籍，45岁，大专，高级政工师，现任本公司董事长，兼亨通集团有限公司董事、总经理，还兼任上海亨通、江苏亨通线缆有限公司、江苏亨通电力电缆有限公司、吴江亨通电力电缆有限公司、苏州亨通信息科技有限公司以及吴江亨通光电科技有限公司的董事长。崔先生先后获得苏州市劳动模范（1994年）、江苏省劳动模范（1996年）、优秀科技创业转业退伍军人奖（1997年）、全国优秀乡镇企业厂长（经理、董事长）称号（1998年）等多种荣誉称号。',\n",
       " 'spo_list': [{'predicate': '大专',\n",
       "   'object_type': '学历',\n",
       "   'subject_type': '人物',\n",
       "   'object': '大专',\n",
       "   'subject': '崔根良',\n",
       "   'subject_index': {'begin': 0, 'end': 3},\n",
       "   'object_index': {'begin': 15, 'end': 17}}]}"
      ]
     },
     "execution_count": 62,
     "metadata": {},
     "output_type": "execute_result"
    }
   ],
   "source": [
    "import json \n",
    "def load_json(fp):\n",
    "    with open(fp, 'r', encoding='utf-8') as f:\n",
    "        dic = json.load(f)\n",
    "    return dic\n",
    "\n",
    "fp = \"./data/test.json\"\n",
    "dic = load_json(fp)\n",
    "dic"
   ]
  },
  {
   "cell_type": "markdown",
   "metadata": {},
   "source": [
    "## zip 压缩解压文件"
   ]
  },
  {
   "cell_type": "code",
   "execution_count": 61,
   "metadata": {},
   "outputs": [
    {
     "name": "stdout",
     "output_type": "stream",
     "text": [
      "decompression ./data/zip_test/三元组数据集_内部标注\n",
      "zip_file path is ./data/zip_test/三元组数据集_云测早期标注.zip\n"
     ]
    }
   ],
   "source": [
    "import os\n",
    "import shutil\n",
    "import zipfile\n",
    "\n",
    "class ZipHanding:\n",
    "    \"\"\"Decompress the ZIP file or compress the file into a ZIP file\"\"\"\n",
    "    def unzip(self, zip_path, dp=None):  \n",
    "        \"\"\"\n",
    "        Unzip zip file to a folder\n",
    "        \n",
    "        Parameters\n",
    "        ---------\n",
    "        zip_path: Zip file path \n",
    "        dp: Decompression path\n",
    "\n",
    "        Returns\n",
    "        ---------\n",
    "        dir_path: The path of the extracted folder\n",
    "\n",
    "        Raises\n",
    "        ---------\n",
    "        \"\"\"\n",
    "        if dp == None:\n",
    "            ## By default, it is decompressed to the current directory\n",
    "            dp = zip_path.rsplit('.', 1)[0]\n",
    "        if os.path.exists(dp):\n",
    "            shutil.rmtree(dp)        \n",
    "        with zipfile.ZipFile(zip_path, 'r') as f:\n",
    "            for fn in f.namelist():\n",
    "                f.extract(fn, dp)\n",
    "        return dp\n",
    "\n",
    "    def __rm_file_folder(self, fp):\n",
    "        '''\n",
    "        remove file or folder\n",
    "        '''\n",
    "        if os.path.exists(fp) and os.path.isfile(fp):\n",
    "            os.remove(fp)\n",
    "        elif os.path.exists(fp) and os.path.isdir(fp):\n",
    "            shutil.rmtree(fp)\n",
    "        else:\n",
    "            raise FileNotFoundError('File not found')\n",
    "\n",
    "    def __rename_correctly(self, string):\n",
    "        '''\n",
    "        Rename the garbled characters extracted from the window package\n",
    "        '''\n",
    "        try:\n",
    "            new_string = string.encode('cp437').decode('utf-8')\n",
    "        except:\n",
    "            try:\n",
    "                new_string = string.encode('cp437').decode('gbk')\n",
    "            except:\n",
    "                new_string = string.encode('utf-8').decode('utf-8')\n",
    "        return  new_string\n",
    "        \n",
    "    def __rm_special_name_folder(self, dir_path, folder_name='__MACOSX'): \n",
    "        '''\n",
    "        Delete the folder named 'xxxx' if it exists.\n",
    "        The default folder name is __MACOSX.\n",
    "        '''\n",
    "        for root, dirs, files in os.walk(dir_path, topdown=False):\n",
    "            for name in dirs:\n",
    "                if name == folder_name :\n",
    "                    shutil.rmtree(os.path.join(root, name))  \n",
    "\n",
    "    def __standard_zip_dir(self, dir_path):\n",
    "        for root, dirs, filenames in os.walk(dir_path):\n",
    "            for fn in filenames:\n",
    "                fp = os.path.join(root, fn)\n",
    "                new_fp = os.path.join(dir_path, self.__rename_correctly(fn))\n",
    "                os.rename(fp, new_fp)\n",
    "                \n",
    "        for root, dirs, filenames in os.walk(dir_path):\n",
    "            for folder in dirs:\n",
    "                dp = os.path.join(root, folder)\n",
    "                self.__rm_file_folder(dp)\n",
    "                self.__rm_special_name_folder(dir_path)   \n",
    "                 \n",
    "    @classmethod\n",
    "    def decompression(cls, zip_path):\n",
    "        dir_path = cls().unzip(zip_path)\n",
    "        cls().__standard_zip_dir(dir_path)      \n",
    "        return dir_path\n",
    "\n",
    "    @classmethod\n",
    "    def zip_file(cls, dfp, out_path=None):\n",
    "        \"\"\"\n",
    "        Compresses the specified folder\n",
    "\n",
    "        Parameters\n",
    "        ---------\n",
    "        dfp: Destination folder or file path.\n",
    "        out_path: Save path of the compressed file +xxxx.zip.\n",
    "\n",
    "        Returns\n",
    "        ---------\n",
    "        \"\"\"\n",
    "\n",
    "        if os.path.isdir(dfp):   \n",
    "            if out_path == None:\n",
    "                out_path = dfp + '.zip'\n",
    "            with zipfile.ZipFile(out_path, \"w\", zipfile.ZIP_DEFLATED) as f:\n",
    "                    for root, _, filenames in os.walk(dfp):\n",
    "                        for fn in filenames:\n",
    "                            f.write(filename=os.path.join(root, fn), arcname=fn)\n",
    "        else:\n",
    "            if out_path == None:\n",
    "                out_path = dfp.rsplit('.', 1)[0] + '.zip'\n",
    "            with zipfile.ZipFile(out_path, \"w\", zipfile.ZIP_DEFLATED) as f:\n",
    "                f.write(dfp, dfp.rsplit('/', 1)[1])\n",
    "        return out_path\n",
    "\n",
    "zip_path = './data/zip_test/三元组数据集_云测早期标注.zip'\n",
    "ZipHanding.decompression(zip_path)\n",
    "zip_path2 = './data/zip_test/三元组数据集_内部标注.zip'\n",
    "dir_path = ZipHanding.decompression(zip_path2)\n",
    "print(f'decompression {dir_path}')\n",
    "\n",
    "dfp = './data/zip_test/三元组数据集_云测早期标注'\n",
    "ZipHanding.zip_file(dfp)\n",
    "res = ZipHanding.zip_file(dfp)\n",
    "print(f'zip_file path is {res}')"
   ]
  }
 ],
 "metadata": {
  "interpreter": {
   "hash": "3ef29da95e059f6564fcd11ce15b767fe494ef4deb338298c5a17b87b99b6deb"
  },
  "kernelspec": {
   "display_name": "Python 3.7.11 64-bit ('py3.7': conda)",
   "name": "python3"
  },
  "language_info": {
   "codemirror_mode": {
    "name": "ipython",
    "version": 3
   },
   "file_extension": ".py",
   "mimetype": "text/x-python",
   "name": "python",
   "nbconvert_exporter": "python",
   "pygments_lexer": "ipython3",
   "version": "3.7.11"
  }
 },
 "nbformat": 4,
 "nbformat_minor": 4
}
