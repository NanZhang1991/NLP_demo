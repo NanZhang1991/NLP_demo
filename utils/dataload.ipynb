{
 "cells": [
  {
   "cell_type": "markdown",
   "source": [
    "## 内存字符串"
   ],
   "metadata": {}
  },
  {
   "cell_type": "code",
   "execution_count": 2,
   "source": [
    "from io import StringIO\r\n",
    "f = StringIO()\r\n",
    "f.write('hello')\r\n",
    "f.write(' ')\r\n",
    "f.write('world!')\r\n",
    "print(f.getvalue())\r\n",
    "f = StringIO('Hello!\\nHi!\\nGoodbye!')\r\n",
    "while True:\r\n",
    "    \r\n",
    "    s = f.readline()\r\n",
    "    if s == '':\r\n",
    "        break\r\n",
    "    print(s.strip())"
   ],
   "outputs": [
    {
     "output_type": "stream",
     "name": "stdout",
     "text": [
      "hello world!\n",
      "Hello!\n",
      "Hi!\n",
      "Goodbye!\n"
     ]
    }
   ],
   "metadata": {}
  },
  {
   "cell_type": "markdown",
   "source": [
    "## 内存字节流"
   ],
   "metadata": {}
  },
  {
   "cell_type": "code",
   "execution_count": 3,
   "source": [
    "from io import BytesIO\r\n",
    "f = BytesIO()\r\n",
    "f.write('中文'.encode('utf-8'))\r\n",
    "print(f.getvalue())\r\n",
    "type(f)\r\n",
    "print(f.read()) # 由于此时游标是从f 的 最后的位置开始 read，那么后面的内容肯定是空 \r\n",
    "f.tell() # 说明游标是在f最后的位置 \r\n",
    "f.seek(0)  \r\n",
    "f.read(2)"
   ],
   "outputs": [
    {
     "output_type": "stream",
     "name": "stdout",
     "text": [
      "b'\\xe4\\xb8\\xad\\xe6\\x96\\x87'\n",
      "b''\n"
     ]
    },
    {
     "output_type": "execute_result",
     "data": {
      "text/plain": [
       "b'\\xe4\\xb8'"
      ]
     },
     "metadata": {},
     "execution_count": 3
    }
   ],
   "metadata": {}
  },
  {
   "cell_type": "markdown",
   "source": [
    "## 以流的形式读入转化成 ndarray 对象"
   ],
   "metadata": {}
  },
  {
   "cell_type": "markdown",
   "source": [
    "### 流转数组"
   ],
   "metadata": {}
  },
  {
   "cell_type": "code",
   "execution_count": 14,
   "source": [
    "import numpy as np\r\n",
    "b = b'abcdef' # bytes\r\n",
    "image_array = np.frombuffer(b, dtype=np.uint8) # numpy array\r\n",
    "print(image_array)"
   ],
   "outputs": [
    {
     "output_type": "stream",
     "name": "stdout",
     "text": [
      "[ 97  98  99 100 101 102]\n"
     ]
    }
   ],
   "metadata": {}
  },
  {
   "cell_type": "markdown",
   "source": [
    "### 流转图片"
   ],
   "metadata": {}
  },
  {
   "cell_type": "code",
   "execution_count": 21,
   "source": [
    "import numpy as np\r\n",
    "import requests\r\n",
    "import cv2\r\n",
    "import io\r\n",
    "url = 'http://www.pyimagesearch.com/wp-content/uploads/2015/01/google_logo.png'\r\n",
    "resp = response = requests.get(url=url)\r\n",
    "byte_stream = io.BytesIO(response.content) #请求数据转化字节流\r\n",
    "roiImg = Image.open(byte_stream) #Image打开二进制流Byte字节流数据\r\n",
    "imgByteArr = io.BytesIO() #创建一个空的Bytes对象\r\n",
    "roiImg.save(imgByteArr, format='PNG')\r\n",
    "imgByteArr = imgByteArr.getvalue() #保存的二进制流\r\n",
    "with open(\"./abc.png\", \"wb\") as f:\r\n",
    "    f.write(imgByteArr)"
   ],
   "outputs": [],
   "metadata": {}
  },
  {
   "cell_type": "code",
   "execution_count": 16,
   "source": [
    "from PIL import Image\r\n",
    "im = Image.fromarray(image_array)\r\n",
    "im.show()"
   ],
   "outputs": [],
   "metadata": {}
  },
  {
   "cell_type": "markdown",
   "source": [
    "## zip 压缩解压文件"
   ],
   "metadata": {}
  },
  {
   "cell_type": "code",
   "execution_count": 15,
   "source": [
    "import os\r\n",
    "import shutil\r\n",
    "import zipfile\r\n",
    "\r\n",
    "class Zip_handing:\r\n",
    "    \"\"\"Decompress the ZIP file or compress the file into a ZIP file\"\"\"\r\n",
    "    def unzip(self, zipPath, dp=None):  \r\n",
    "        \"\"\"\r\n",
    "        Unzip zip file to a folder\r\n",
    "        \r\n",
    "        Parameters\r\n",
    "        ---------\r\n",
    "        zipPath: Zip file path \r\n",
    "        dp: Decompression path\r\n",
    "\r\n",
    "        Returns\r\n",
    "        ---------\r\n",
    "        dir_path: The path of the extracted folder\r\n",
    "\r\n",
    "        Raises\r\n",
    "        ---------\r\n",
    "        \"\"\"\r\n",
    "        if dp == None:\r\n",
    "            ## By default, it is decompressed to the current directory\r\n",
    "            dp = zipPath.rsplit('.', 1)[0]\r\n",
    "        if os.path.exists(dp):\r\n",
    "            shutil.rmtree(dp)        \r\n",
    "        with zipfile.ZipFile(zipPath, 'r') as f:\r\n",
    "            for fn in f.namelist():\r\n",
    "                f.extract(fn, dp)\r\n",
    "        return dp\r\n",
    "\r\n",
    "    def rm_fileOrFolder(self, fp):\r\n",
    "        '''\r\n",
    "        remove file or folder\r\n",
    "        '''\r\n",
    "        if os.path.exists(fp) and os.path.isfile(fp):\r\n",
    "            os.remove(fp)\r\n",
    "        elif os.path.exists(fp) and os.path.isdir(fp):\r\n",
    "            shutil.rmtree(fp)\r\n",
    "        else:\r\n",
    "            raise FileNotFoundError('File not found')\r\n",
    "\r\n",
    "    def rename_correctly(self, string):\r\n",
    "        '''\r\n",
    "        Rename the garbled characters extracted from the window package\r\n",
    "        '''\r\n",
    "        try:\r\n",
    "            new_string = string.encode('cp437').decode('utf-8')\r\n",
    "        except:\r\n",
    "            try:\r\n",
    "                new_string = string.encode('cp437').decode('gbk')\r\n",
    "            except:\r\n",
    "                new_string = string.encode('utf-8').decode('utf-8')\r\n",
    "        return  new_string\r\n",
    "        \r\n",
    "    def rm_specialNameFolder(self, dir_path, folder_name='__MACOSX'): \r\n",
    "        '''\r\n",
    "        Delete the folder named 'xxxx' if it exists.\r\n",
    "        The default folder name is __MACOSX.\r\n",
    "        '''\r\n",
    "        for root, dirs, files in os.walk(dir_path, topdown=False):\r\n",
    "            for name in dirs:\r\n",
    "                if name == folder_name :\r\n",
    "                    shutil.rmtree(os.path.join(root, name))  \r\n",
    "\r\n",
    "    def standard_zipDir(self, dir_path):\r\n",
    "        for root, dirs, filenames in os.walk(dir_path):\r\n",
    "            for fn in filenames:\r\n",
    "                fp = os.path.join(root, fn)\r\n",
    "                new_fp = os.path.join(dir_path, self.rename_correctly(fn))\r\n",
    "                os.rename(fp, new_fp)\r\n",
    "                \r\n",
    "        for root, dirs, filenames in os.walk(dir_path):\r\n",
    "            for folder in dirs:\r\n",
    "                dp = os.path.join(root, folder)\r\n",
    "                self.rm_fileOrFolder(dp)\r\n",
    "                self.rm_specialNameFolder(dir_path)   \r\n",
    "                 \r\n",
    "    @classmethod\r\n",
    "    def decompression(cls, zipPath):\r\n",
    "        dir_path = cls().unzip(zipPath)\r\n",
    "        cls().standard_zipDir(dir_path)      \r\n",
    "        return dir_path\r\n",
    "\r\n",
    "    @classmethod\r\n",
    "    def zipFolder(cls, dfp, out_path=None):\r\n",
    "        \"\"\"\r\n",
    "        Compresses the specified folder\r\n",
    "\r\n",
    "        Parameters\r\n",
    "        ---------\r\n",
    "        dfp: Destination folder or file path.\r\n",
    "        out_path: Save path of the compressed file +xxxx.zip.\r\n",
    "\r\n",
    "        Returns\r\n",
    "        ---------\r\n",
    "        \"\"\"\r\n",
    "\r\n",
    "        if os.path.isdir(dfp):   \r\n",
    "            if out_path == None:\r\n",
    "                out_path = dfp + '.zip'\r\n",
    "            with zipfile.ZipFile(out_path, \"w\", zipfile.ZIP_DEFLATED) as f:\r\n",
    "                    for root, _, filenames in os.walk(dfp):\r\n",
    "                        for fn in filenames:\r\n",
    "                            f.write(filename=os.path.join(root, fn), arcname=fn)\r\n",
    "        else:\r\n",
    "            if out_path == None:\r\n",
    "                out_path = dfp.rsplit('.', 1)[0] + '.zip'\r\n",
    "            with zipfile.ZipFile(out_path, \"w\", zipfile.ZIP_DEFLATED) as f:\r\n",
    "                f.write(dfp, dfp.rsplit('/', 1)[1])\r\n",
    "        print(out_path)\r\n",
    "    \r\n",
    "\r\n",
    "zipPath = './data/zip_test/三元组数据集_云测早期标注.zip'\r\n",
    "Zip_handing.decompression(zipPath)\r\n",
    "zipPath2 = './data/zip_test/三元组数据集_内部标注.zip'\r\n",
    "dir_path = Zip_handing.decompression(zipPath2)\r\n",
    "print(dir_path)\r\n",
    "\r\n",
    "dpf = './data/zip_test/三元组数据集_云测早期标注'\r\n",
    "Zip_handing.zipFolder(dpf)\r\n",
    "dfp2 = 'data/zip_test/ABC.json'\r\n",
    "Zip_handing.zipFolder(dfp2)"
   ],
   "outputs": [
    {
     "output_type": "stream",
     "name": "stdout",
     "text": [
      "./data/zip_test/三元组数据集_内部标注\n",
      "./data/zip_test/三元组数据集_云测早期标注.zip\n",
      "data/zip_test/ABC.zip\n"
     ]
    }
   ],
   "metadata": {}
  },
  {
   "cell_type": "code",
   "execution_count": 41,
   "source": [
    "class FileCheck:\r\n",
    "    \"\"\"\r\n",
    "    Document Type Checking\r\n",
    "\r\n",
    "    Args:\r\n",
    "    fileType: A string or list of strings with a file type suffix.\r\n",
    "\r\n",
    "    \"\"\"    \r\n",
    "    def __init__(self, fileType):\r\n",
    "        self.ALLOWED_EXTENSIONS = fileType\r\n",
    "    def allowed_file(self, fn):\r\n",
    "        \"\"\"\r\n",
    "        Args:\r\n",
    "            fileType(:obj:'list, str'):\r\n",
    "                A string or list of strings with a file type suffix.\r\n",
    "        Return:\r\n",
    "            :obj:'bool, str'\r\n",
    "            file type or False\r\n",
    "\r\n",
    "        Examples\r\n",
    "        ----------\r\n",
    "        Check if the file is DOCX\r\n",
    "        >>>docxChick = FileCheck(['docx'])\r\n",
    "        >>>docxChick.allowed_file('abcd.docx')\r\n",
    "        >>>'docx'\r\n",
    "        \"\"\"\r\n",
    "        if '.' in fn and fn.rsplit('.', 1)[1] in self.ALLOWED_EXTENSIONS:\r\n",
    "            return fn.rsplit('.', 1)[1]\r\n",
    "        else:\r\n",
    "            return False\r\n",
    "\r\n",
    "docxChick = FileCheck(['docx'])\r\n",
    "docxChick.allowed_file('abcd.docx')"
   ],
   "outputs": [
    {
     "output_type": "execute_result",
     "data": {
      "text/plain": [
       "'docx'"
      ]
     },
     "metadata": {},
     "execution_count": 41
    }
   ],
   "metadata": {}
  },
  {
   "cell_type": "code",
   "execution_count": 43,
   "source": [
    "pd.isna?"
   ],
   "outputs": [
    {
     "output_type": "stream",
     "name": "stdout",
     "text": [
      "\u001b[1;31mSignature:\u001b[0m \u001b[0mpd\u001b[0m\u001b[1;33m.\u001b[0m\u001b[0misna\u001b[0m\u001b[1;33m(\u001b[0m\u001b[0mobj\u001b[0m\u001b[1;33m)\u001b[0m\u001b[1;33m\u001b[0m\u001b[1;33m\u001b[0m\u001b[0m\n",
      "\u001b[1;31mDocstring:\u001b[0m\n",
      "Detect missing values for an array-like object.\n",
      "\n",
      "This function takes a scalar or array-like object and indicates\n",
      "whether values are missing (``NaN`` in numeric arrays, ``None`` or ``NaN``\n",
      "in object arrays, ``NaT`` in datetimelike).\n",
      "\n",
      "Parameters\n",
      "----------\n",
      "obj : scalar or array-like\n",
      "    Object to check for null or missing values.\n",
      "\n",
      "Returns\n",
      "-------\n",
      "bool or array-like of bool\n",
      "    For scalar input, returns a scalar boolean.\n",
      "    For array input, returns an array of boolean indicating whether each\n",
      "    corresponding element is missing.\n",
      "\n",
      "See Also\n",
      "--------\n",
      "notna : Boolean inverse of pandas.isna.\n",
      "Series.isna : Detect missing values in a Series.\n",
      "DataFrame.isna : Detect missing values in a DataFrame.\n",
      "Index.isna : Detect missing values in an Index.\n",
      "\n",
      "Examples\n",
      "--------\n",
      "Scalar arguments (including strings) result in a scalar boolean.\n",
      "\n",
      ">>> pd.isna('dog')\n",
      "False\n",
      "\n",
      ">>> pd.isna(pd.NA)\n",
      "True\n",
      "\n",
      ">>> pd.isna(np.nan)\n",
      "True\n",
      "\n",
      "ndarrays result in an ndarray of booleans.\n",
      "\n",
      ">>> array = np.array([[1, np.nan, 3], [4, 5, np.nan]])\n",
      ">>> array\n",
      "array([[ 1., nan,  3.],\n",
      "       [ 4.,  5., nan]])\n",
      ">>> pd.isna(array)\n",
      "array([[False,  True, False],\n",
      "       [False, False,  True]])\n",
      "\n",
      "For indexes, an ndarray of booleans is returned.\n",
      "\n",
      ">>> index = pd.DatetimeIndex([\"2017-07-05\", \"2017-07-06\", None,\n",
      "...                           \"2017-07-08\"])\n",
      ">>> index\n",
      "DatetimeIndex(['2017-07-05', '2017-07-06', 'NaT', '2017-07-08'],\n",
      "              dtype='datetime64[ns]', freq=None)\n",
      ">>> pd.isna(index)\n",
      "array([False, False,  True, False])\n",
      "\n",
      "For Series and DataFrame, the same type is returned, containing booleans.\n",
      "\n",
      ">>> df = pd.DataFrame([['ant', 'bee', 'cat'], ['dog', None, 'fly']])\n",
      ">>> df\n",
      "     0     1    2\n",
      "0  ant   bee  cat\n",
      "1  dog  None  fly\n",
      ">>> pd.isna(df)\n",
      "       0      1      2\n",
      "0  False  False  False\n",
      "1  False   True  False\n",
      "\n",
      ">>> pd.isna(df[1])\n",
      "0    False\n",
      "1     True\n",
      "Name: 1, dtype: bool\n",
      "\u001b[1;31mFile:\u001b[0m      c:\\users\\administrator\\miniconda3\\envs\\py3.7\\lib\\site-packages\\pandas\\core\\dtypes\\missing.py\n",
      "\u001b[1;31mType:\u001b[0m      function\n"
     ]
    }
   ],
   "metadata": {}
  }
 ],
 "metadata": {
  "interpreter": {
   "hash": "b82c4dcea0e292ae3c5056cb1ce5f519b54b2436655e008d9c8bf4bca92723c8"
  },
  "kernelspec": {
   "name": "python3",
   "display_name": "Python 3.7.11 64-bit ('py3.7': conda)"
  },
  "language_info": {
   "name": "python",
   "version": "3.7.11",
   "mimetype": "text/x-python",
   "codemirror_mode": {
    "name": "ipython",
    "version": 3
   },
   "pygments_lexer": "ipython3",
   "nbconvert_exporter": "python",
   "file_extension": ".py"
  }
 },
 "nbformat": 4,
 "nbformat_minor": 4
}