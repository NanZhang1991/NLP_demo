{
 "cells": [
  {
   "cell_type": "markdown",
   "metadata": {},
   "source": [
    "## 内存字符串"
   ]
  },
  {
   "cell_type": "code",
   "execution_count": 2,
   "metadata": {},
   "outputs": [
    {
     "name": "stdout",
     "output_type": "stream",
     "text": [
      "hello world!\n",
      "Hello!\n",
      "Hi!\n",
      "Goodbye!\n"
     ]
    }
   ],
   "source": [
    "from io import StringIO\n",
    "f = StringIO()\n",
    "f.write('hello')\n",
    "f.write(' ')\n",
    "f.write('world!')\n",
    "print(f.getvalue())\n",
    "f = StringIO('Hello!\\nHi!\\nGoodbye!')\n",
    "while True:\n",
    "    \n",
    "    s = f.readline()\n",
    "    if s == '':\n",
    "        break\n",
    "    print(s.strip())"
   ]
  },
  {
   "cell_type": "markdown",
   "metadata": {},
   "source": [
    "## 内存字节流"
   ]
  },
  {
   "cell_type": "code",
   "execution_count": 3,
   "metadata": {},
   "outputs": [
    {
     "name": "stdout",
     "output_type": "stream",
     "text": [
      "b'\\xe4\\xb8\\xad\\xe6\\x96\\x87'\n",
      "b''\n"
     ]
    },
    {
     "data": {
      "text/plain": [
       "b'\\xe4\\xb8'"
      ]
     },
     "execution_count": 3,
     "metadata": {},
     "output_type": "execute_result"
    }
   ],
   "source": [
    "from io import BytesIO\n",
    "f = BytesIO()\n",
    "f.write('中文'.encode('utf-8'))\n",
    "print(f.getvalue())\n",
    "type(f)\n",
    "print(f.read()) # 由于此时游标是从f 的 最后的位置开始 read，那么后面的内容肯定是空 \n",
    "f.tell() # 说明游标是在f最后的位置 \n",
    "f.seek(0)  \n",
    "f.read(2)"
   ]
  },
  {
   "cell_type": "markdown",
   "metadata": {},
   "source": [
    "## 以流的形式读入转化成 ndarray 对象"
   ]
  },
  {
   "cell_type": "markdown",
   "metadata": {},
   "source": [
    "### 流转数组"
   ]
  },
  {
   "cell_type": "code",
   "execution_count": 14,
   "metadata": {},
   "outputs": [
    {
     "name": "stdout",
     "output_type": "stream",
     "text": [
      "[ 97  98  99 100 101 102]\n"
     ]
    }
   ],
   "source": [
    "import numpy as np\n",
    "b = b'abcdef' # bytes\n",
    "image_array = np.frombuffer(b, dtype=np.uint8) # numpy array\n",
    "print(image_array)"
   ]
  },
  {
   "cell_type": "markdown",
   "metadata": {},
   "source": [
    "### 流转图片"
   ]
  },
  {
   "cell_type": "code",
   "execution_count": 21,
   "metadata": {},
   "outputs": [],
   "source": [
    "import numpy as np\n",
    "import requests\n",
    "import cv2\n",
    "import io\n",
    "url = 'http://www.pyimagesearch.com/wp-content/uploads/2015/01/google_logo.png'\n",
    "resp = response = requests.get(url=url)\n",
    "byte_stream = io.BytesIO(response.content) #请求数据转化字节流\n",
    "roiImg = Image.open(byte_stream) #Image打开二进制流Byte字节流数据\n",
    "imgByteArr = io.BytesIO() #创建一个空的Bytes对象\n",
    "roiImg.save(imgByteArr, format='PNG')\n",
    "imgByteArr = imgByteArr.getvalue() #保存的二进制流\n",
    "with open(\"./abc.png\", \"wb\") as f:\n",
    "    f.write(imgByteArr)"
   ]
  },
  {
   "cell_type": "code",
   "execution_count": 16,
   "metadata": {},
   "outputs": [],
   "source": [
    "from PIL import Image\n",
    "im = Image.fromarray(image_array)\n",
    "im.show()"
   ]
  },
  {
   "cell_type": "markdown",
   "metadata": {},
   "source": [
    "## zip 压缩解压文件"
   ]
  },
  {
   "cell_type": "code",
   "execution_count": 4,
   "metadata": {},
   "outputs": [
    {
     "name": "stdout",
     "output_type": "stream",
     "text": [
      "decompression ./data/zip_test/三元组数据集_内部标注\n",
      "zip_file path is data/zip_test/ABC.zip\n"
     ]
    }
   ],
   "source": [
    "import os\n",
    "import shutil\n",
    "import zipfile\n",
    "\n",
    "def load_json(json_path):\n",
    "    with open(json_path, 'r', encoding='utf-8') as f:\n",
    "        dic = json.load(f)\n",
    "    return dic\n",
    "\n",
    "def load_task(fp):\n",
    "    task_df = pd.read_csv(fp, encoding='utf-8', dtype={'code':int})\n",
    "    task_df['data'] = task_df['data'].apply(literal_eval)\n",
    "    task_df['msg'] = task_df['msg'].apply(literal_eval)\n",
    "    return task_df \n",
    "\n",
    "\n",
    "class ZipHanding:\n",
    "    \"\"\"Decompress the ZIP file or compress the file into a ZIP file\"\"\"\n",
    "    def unzip(self, zip_path, dp=None):  \n",
    "        \"\"\"\n",
    "        Unzip zip file to a folder\n",
    "        \n",
    "        Parameters\n",
    "        ---------\n",
    "        zip_path: Zip file path \n",
    "        dp: Decompression path\n",
    "\n",
    "        Returns\n",
    "        ---------\n",
    "        dir_path: The path of the extracted folder\n",
    "\n",
    "        Raises\n",
    "        ---------\n",
    "        \"\"\"\n",
    "        if dp == None:\n",
    "            ## By default, it is decompressed to the current directory\n",
    "            dp = zip_path.rsplit('.', 1)[0]\n",
    "        if os.path.exists(dp):\n",
    "            shutil.rmtree(dp)        \n",
    "        with zipfile.ZipFile(zip_path, 'r') as f:\n",
    "            for fn in f.namelist():\n",
    "                f.extract(fn, dp)\n",
    "        return dp\n",
    "\n",
    "    def __rm_file_folder(self, fp):\n",
    "        '''\n",
    "        remove file or folder\n",
    "        '''\n",
    "        if os.path.exists(fp) and os.path.isfile(fp):\n",
    "            os.remove(fp)\n",
    "        elif os.path.exists(fp) and os.path.isdir(fp):\n",
    "            shutil.rmtree(fp)\n",
    "        else:\n",
    "            raise FileNotFoundError('File not found')\n",
    "\n",
    "    def __rename_correctly(self, string):\n",
    "        '''\n",
    "        Rename the garbled characters extracted from the window package\n",
    "        '''\n",
    "        try:\n",
    "            new_string = string.encode('cp437').decode('utf-8')\n",
    "        except:\n",
    "            try:\n",
    "                new_string = string.encode('cp437').decode('gbk')\n",
    "            except:\n",
    "                new_string = string.encode('utf-8').decode('utf-8')\n",
    "        return  new_string\n",
    "        \n",
    "    def __rm_special_name_folder(self, dir_path, folder_name='__MACOSX'): \n",
    "        '''\n",
    "        Delete the folder named 'xxxx' if it exists.\n",
    "        The default folder name is __MACOSX.\n",
    "        '''\n",
    "        for root, dirs, files in os.walk(dir_path, topdown=False):\n",
    "            for name in dirs:\n",
    "                if name == folder_name :\n",
    "                    shutil.rmtree(os.path.join(root, name))  \n",
    "\n",
    "    def __standard_zip_dir(self, dir_path):\n",
    "        for root, dirs, filenames in os.walk(dir_path):\n",
    "            for fn in filenames:\n",
    "                fp = os.path.join(root, fn)\n",
    "                new_fp = os.path.join(dir_path, self.__rename_correctly(fn))\n",
    "                os.rename(fp, new_fp)\n",
    "                \n",
    "        for root, dirs, filenames in os.walk(dir_path):\n",
    "            for folder in dirs:\n",
    "                dp = os.path.join(root, folder)\n",
    "                self.__rm_file_folder(dp)\n",
    "                self.__rm_special_name_folder(dir_path)   \n",
    "                 \n",
    "    @classmethod\n",
    "    def decompression(cls, zip_path):\n",
    "        dir_path = cls().unzip(zip_path)\n",
    "        cls().__standard_zip_dir(dir_path)      \n",
    "        return dir_path\n",
    "\n",
    "    @classmethod\n",
    "    def zip_file(cls, dfp, out_path=None):\n",
    "        \"\"\"\n",
    "        Compresses the specified folder\n",
    "\n",
    "        Parameters\n",
    "        ---------\n",
    "        dfp: Destination folder or file path.\n",
    "        out_path: Save path of the compressed file +xxxx.zip.\n",
    "\n",
    "        Returns\n",
    "        ---------\n",
    "        \"\"\"\n",
    "\n",
    "        if os.path.isdir(dfp):   \n",
    "            if out_path == None:\n",
    "                out_path = dfp + '.zip'\n",
    "            with zipfile.ZipFile(out_path, \"w\", zipfile.ZIP_DEFLATED) as f:\n",
    "                    for root, _, filenames in os.walk(dfp):\n",
    "                        for fn in filenames:\n",
    "                            f.write(filename=os.path.join(root, fn), arcname=fn)\n",
    "        else:\n",
    "            if out_path == None:\n",
    "                out_path = dfp.rsplit('.', 1)[0] + '.zip'\n",
    "            with zipfile.ZipFile(out_path, \"w\", zipfile.ZIP_DEFLATED) as f:\n",
    "                f.write(dfp, dfp.rsplit('/', 1)[1])\n",
    "        return out_path\n",
    "\n",
    "zip_path = './data/zip_test/三元组数据集_云测早期标注.zip'\n",
    "ZipHanding.decompression(zip_path)\n",
    "zip_path2 = './data/zip_test/三元组数据集_内部标注.zip'\n",
    "dir_path = ZipHanding.decompression(zip_ath2)\n",
    "print(f'decompression {dir_path}')\n",
    "\n",
    "dfp = './data/zip_test/三元组数据集_云测早期标注'\n",
    "ZipHanding.zip_file(dpf)\n",
    "dfp2 = 'data/zip_test/ABC.json'\n",
    "res = ZipHanding.zip_file(dfp2)\n",
    "print(f'zip_file path is {res}')"
   ]
  },
  {
   "cell_type": "markdown",
   "metadata": {},
   "source": [
    "## 文件检查"
   ]
  },
  {
   "cell_type": "code",
   "execution_count": 6,
   "metadata": {},
   "outputs": [
    {
     "name": "stdout",
     "output_type": "stream",
     "text": [
      "\u001b[1;31mSignature:\u001b[0m \u001b[0mdocxChick\u001b[0m\u001b[1;33m.\u001b[0m\u001b[0mallowed_file\u001b[0m\u001b[1;33m(\u001b[0m\u001b[0mfn\u001b[0m\u001b[1;33m)\u001b[0m\u001b[1;33m\u001b[0m\u001b[1;33m\u001b[0m\u001b[0m\n",
      "\u001b[1;31mDocstring:\u001b[0m\n",
      "Args:\n",
      "    fileType(:obj:'list, str'):\n",
      "        A string or list of strings with a file type suffix.\n",
      "Return:\n",
      "    :obj:'bool, str'\n",
      "    file type or False\n",
      "\n",
      "Examples\n",
      "----------\n",
      "Check if the file is DOCX\n",
      ">>>docxChick = FileCheck(['docx'])\n",
      ">>>docxChick.allowed_file('abcd.docx')\n",
      ">>>'docx'\n",
      "\u001b[1;31mFile:\u001b[0m      e:\\project\\demo\\utils\\<ipython-input-6-5fe58d42c76a>\n",
      "\u001b[1;31mType:\u001b[0m      method\n"
     ]
    }
   ],
   "source": [
    "class FileCheck:\n",
    "    \"\"\"\n",
    "    Document Type Checking\n",
    "\n",
    "    Args:\n",
    "    fileType: A string or list of strings with a file type suffix.\n",
    "\n",
    "    \"\"\"    \n",
    "    def __init__(self, fileType):\n",
    "        self.ALLOWED_EXTENSIONS = fileType\n",
    "    def allowed_file(self, fn):\n",
    "        \"\"\"\n",
    "        Args:\n",
    "            fileType(:obj:'list, str'):\n",
    "                A string or list of strings with a file type suffix.\n",
    "        Return:\n",
    "            :obj:'bool, str'\n",
    "            file type or False\n",
    "\n",
    "        Examples\n",
    "        ----------\n",
    "        Check if the file is DOCX\n",
    "        >>>docxChick = FileCheck(['docx'])\n",
    "        >>>docxChick.allowed_file('abcd.docx')\n",
    "        >>>'docx'\n",
    "        \"\"\"\n",
    "        if '.' in fn and fn.rsplit('.', 1)[1] in self.ALLOWED_EXTENSIONS:\n",
    "            return fn.rsplit('.', 1)[1]\n",
    "        else:\n",
    "            return False\n",
    "\n",
    "docxChick = FileCheck(['docx'])\n",
    "docxChick.allowed_file('abcd.docx')"
   ]
  }
 ],
 "metadata": {
  "interpreter": {
   "hash": "3ef29da95e059f6564fcd11ce15b767fe494ef4deb338298c5a17b87b99b6deb"
  },
  "kernelspec": {
   "display_name": "Python 3.7.11 64-bit ('py3.7': conda)",
   "name": "python3"
  },
  "language_info": {
   "codemirror_mode": {
    "name": "ipython",
    "version": 3
   },
   "file_extension": ".py",
   "mimetype": "text/x-python",
   "name": "python",
   "nbconvert_exporter": "python",
   "pygments_lexer": "ipython3",
   "version": "3.7.11"
  }
 },
 "nbformat": 4,
 "nbformat_minor": 4
}
