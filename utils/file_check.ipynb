{
 "cells": [
  {
   "cell_type": "markdown",
   "metadata": {},
   "source": [
    "# 文件检查"
   ]
  },
  {
   "cell_type": "code",
   "execution_count": 1,
   "metadata": {},
   "outputs": [
    {
     "data": {
      "text/plain": [
       "True"
      ]
     },
     "execution_count": 1,
     "metadata": {},
     "output_type": "execute_result"
    }
   ],
   "source": [
    "class FileCheck:\n",
    "    \"\"\"\n",
    "    Document Type Checking\n",
    "\n",
    "    Args:\n",
    "    fileType: A string or list of strings with a file type suffix.\n",
    "\n",
    "    \"\"\"    \n",
    "    def __init__(self, fileType):\n",
    "        self.ALLOWED_EXTENSIONS = fileType\n",
    "    def allowed_file(self, fn):\n",
    "        \"\"\"\n",
    "        Args:\n",
    "            fileType(:obj:'list, str'):\n",
    "                A string or list of strings with a file type suffix.\n",
    "        Return:\n",
    "            :obj:'bool, str'\n",
    "            file type or False\n",
    "\n",
    "        Examples\n",
    "        ----------\n",
    "        Check if the file is DOCX\n",
    "        >>>docxChick = FileCheck(['docx'])\n",
    "        >>>docxChick.allowed_file('abcd.docx')\n",
    "        >>>'docx'\n",
    "        \"\"\"\n",
    "        if '.' in fn and fn.rsplit('.', 1)[1] in self.ALLOWED_EXTENSIONS:\n",
    "            return True\n",
    "        else:\n",
    "            return False\n",
    "\n",
    "docxChick = FileCheck(['docx'])\n",
    "docxChick.allowed_file('abcd.docx')"
   ]
  }
 ],
 "metadata": {
  "interpreter": {
   "hash": "786fbf537fb358117198a3d18baf5a6bf1d1200912b85f5ae3d59f2b2715c32d"
  },
  "kernelspec": {
   "display_name": "Python 3.7.11 64-bit ('ltp': conda)",
   "language": "python",
   "name": "python3"
  },
  "language_info": {
   "codemirror_mode": {
    "name": "ipython",
    "version": 3
   },
   "file_extension": ".py",
   "mimetype": "text/x-python",
   "name": "python",
   "nbconvert_exporter": "python",
   "pygments_lexer": "ipython3",
   "version": "3.7.11"
  },
  "orig_nbformat": 4
 },
 "nbformat": 4,
 "nbformat_minor": 2
}
