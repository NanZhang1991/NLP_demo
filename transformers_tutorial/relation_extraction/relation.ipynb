{
 "cells": [
  {
   "cell_type": "code",
   "execution_count": 149,
   "metadata": {},
   "outputs": [
    {
     "name": "stdout",
     "output_type": "stream",
     "text": [
      "6 files Merge completed\n"
     ]
    }
   ],
   "source": [
    "import os\r\n",
    "import json\r\n",
    "\r\n",
    "path  = '../data/云测招股说明书三元组1'\r\n",
    "\r\n",
    "def merge_json(path):\r\n",
    "    for root, dirs, files in os.walk(path):\r\n",
    "        for n, name in enumerate(dirs):\r\n",
    "            dir_path = os.path.join(root, name)\r\n",
    "            new_fn = os.path.join('../data/招股说明书三元组数据集', name + '.json' )\r\n",
    "            with open(new_fn,'w',encoding='utf-8') as new_file:\r\n",
    "                for fn in os.listdir(dir_path):\r\n",
    "                    if fn.endswith('json'):\r\n",
    "                        fie_path = os.path.join(dir_path, fn)\r\n",
    "                        with open(fie_path, encoding='utf-8') as f:\r\n",
    "                            for line in f.readlines():\r\n",
    "                                new_file.write(line + '\\n')\r\n",
    "            if n == len(dirs) - 1 :\r\n",
    "                print(f'{len(dirs)} files Merge completed')\r\n",
    "merge_json(path)"
   ]
  },
  {
   "cell_type": "code",
   "execution_count": 172,
   "metadata": {},
   "outputs": [],
   "source": [
    "import pandas as pd\r\n",
    "\r\n",
    "def json_to_df(path, nrows=False):\r\n",
    "    if nrows:\r\n",
    "        df = pd.read_json(path, nrows=1000, lines=True)\r\n",
    "    else:\r\n",
    "        df = pd.read_json(path, lines=True)\r\n",
    "    df = df[['text', 'spo_list']]\r\n",
    "    return df"
   ]
  },
  {
   "cell_type": "code",
   "execution_count": 175,
   "metadata": {},
   "outputs": [],
   "source": [
    "dir_path = '../data/招股说明书三元组数据集'\r\n",
    "\r\n",
    "def merge_df(dir_path):\r\n",
    "    total_df = pd.DataFrame()\r\n",
    "    for fn in os.listdir(dir_path):\r\n",
    "        df = json_to_df(os.path.join(dir_path, fn))\r\n",
    "        df['name'] = fn[:fn.rfind('.')]\r\n",
    "        total_df =  total_df.append(df)\r\n",
    "    print(f'data size: {total_df.shape}') #\r\n",
    "    print(df.sample(5))\r\n",
    "    return total_df\r\n",
    "\r\n",
    "\r\n",
    "df = merge_df(dir_path)\r\n"
   ]
  }
 ],
 "metadata": {
  "kernelspec": {
   "display_name": "Python 3.7.10 64-bit ('tfs': conda)",
   "name": "python3710jvsc74a57bd0aee43b18bdf7c1a4ac65a12e5fa87ef7b96ed7d04836ac8559d1db4b30b000de"
  },
  "language_info": {
   "codemirror_mode": {
    "name": "ipython",
    "version": 3
   },
   "file_extension": ".py",
   "mimetype": "text/x-python",
   "name": "python",
   "nbconvert_exporter": "python",
   "pygments_lexer": "ipython3",
   "version": "3.7.10"
  },
  "orig_nbformat": 2
 },
 "nbformat": 4,
 "nbformat_minor": 2
}