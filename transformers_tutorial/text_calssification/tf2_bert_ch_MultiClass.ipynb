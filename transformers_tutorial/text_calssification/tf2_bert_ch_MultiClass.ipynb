{
 "cells": [
  {
   "cell_type": "code",
   "execution_count": 5,
   "metadata": {},
   "outputs": [
    {
     "output_type": "stream",
     "name": "stdout",
     "text": [
      "Looking in indexes: https://pypi.douban.com/simple\n",
      "Requirement already satisfied: pynvml in /home/nan/miniconda3/envs/py3.7/lib/python3.7/site-packages (8.0.4)\n",
      "Looking in indexes: https://pypi.douban.com/simple\n",
      "Requirement already satisfied: transformers in /home/nan/miniconda3/envs/py3.7/lib/python3.7/site-packages (4.6.1)\n",
      "Requirement already satisfied: requests in /home/nan/miniconda3/envs/py3.7/lib/python3.7/site-packages (from transformers) (2.25.1)\n",
      "Requirement already satisfied: filelock in /home/nan/miniconda3/envs/py3.7/lib/python3.7/site-packages (from transformers) (3.0.12)\n",
      "Requirement already satisfied: numpy>=1.17 in /home/nan/miniconda3/envs/py3.7/lib/python3.7/site-packages (from transformers) (1.19.5)\n",
      "Requirement already satisfied: tqdm>=4.27 in /home/nan/miniconda3/envs/py3.7/lib/python3.7/site-packages (from transformers) (4.60.0)\n",
      "Requirement already satisfied: sacremoses in /home/nan/miniconda3/envs/py3.7/lib/python3.7/site-packages (from transformers) (0.0.45)\n",
      "Requirement already satisfied: importlib-metadata in /home/nan/miniconda3/envs/py3.7/lib/python3.7/site-packages (from transformers) (4.0.1)\n",
      "Requirement already satisfied: huggingface-hub==0.0.8 in /home/nan/miniconda3/envs/py3.7/lib/python3.7/site-packages (from transformers) (0.0.8)\n",
      "Requirement already satisfied: regex!=2019.12.17 in /home/nan/miniconda3/envs/py3.7/lib/python3.7/site-packages (from transformers) (2021.4.4)\n",
      "Requirement already satisfied: tokenizers<0.11,>=0.10.1 in /home/nan/miniconda3/envs/py3.7/lib/python3.7/site-packages (from transformers) (0.10.2)\n",
      "Requirement already satisfied: packaging in /home/nan/miniconda3/envs/py3.7/lib/python3.7/site-packages (from transformers) (20.9)\n",
      "Requirement already satisfied: typing-extensions>=3.6.4 in /home/nan/miniconda3/envs/py3.7/lib/python3.7/site-packages (from importlib-metadata->transformers) (3.7.4.3)\n",
      "Requirement already satisfied: zipp>=0.5 in /home/nan/miniconda3/envs/py3.7/lib/python3.7/site-packages (from importlib-metadata->transformers) (3.4.1)\n",
      "Requirement already satisfied: pyparsing>=2.0.2 in /home/nan/miniconda3/envs/py3.7/lib/python3.7/site-packages (from packaging->transformers) (2.4.7)\n",
      "Requirement already satisfied: certifi>=2017.4.17 in /home/nan/miniconda3/envs/py3.7/lib/python3.7/site-packages (from requests->transformers) (2020.12.5)\n",
      "Requirement already satisfied: chardet<5,>=3.0.2 in /home/nan/miniconda3/envs/py3.7/lib/python3.7/site-packages (from requests->transformers) (4.0.0)\n",
      "Requirement already satisfied: idna<3,>=2.5 in /home/nan/miniconda3/envs/py3.7/lib/python3.7/site-packages (from requests->transformers) (2.10)\n",
      "Requirement already satisfied: urllib3<1.27,>=1.21.1 in /home/nan/miniconda3/envs/py3.7/lib/python3.7/site-packages (from requests->transformers) (1.26.4)\n",
      "Requirement already satisfied: six in /home/nan/miniconda3/envs/py3.7/lib/python3.7/site-packages (from sacremoses->transformers) (1.15.0)\n",
      "Requirement already satisfied: click in /home/nan/miniconda3/envs/py3.7/lib/python3.7/site-packages (from sacremoses->transformers) (8.0.1)\n",
      "Requirement already satisfied: joblib in /home/nan/miniconda3/envs/py3.7/lib/python3.7/site-packages (from sacremoses->transformers) (1.0.1)\n",
      "Looking in indexes: https://pypi.douban.com/simple\n",
      "Requirement already satisfied: scikit-learn in /home/nan/miniconda3/envs/py3.7/lib/python3.7/site-packages (0.24.2)\n",
      "Requirement already satisfied: threadpoolctl>=2.0.0 in /home/nan/miniconda3/envs/py3.7/lib/python3.7/site-packages (from scikit-learn) (2.1.0)\n",
      "Requirement already satisfied: numpy>=1.13.3 in /home/nan/miniconda3/envs/py3.7/lib/python3.7/site-packages (from scikit-learn) (1.19.5)\n",
      "Requirement already satisfied: joblib>=0.11 in /home/nan/miniconda3/envs/py3.7/lib/python3.7/site-packages (from scikit-learn) (1.0.1)\n",
      "Requirement already satisfied: scipy>=0.19.1 in /home/nan/miniconda3/envs/py3.7/lib/python3.7/site-packages (from scikit-learn) (1.6.3)\n",
      "Looking in indexes: https://pypi.douban.com/simple\n",
      "Collecting pandas\n",
      "  Using cached https://pypi.doubanio.com/packages/51/51/48f3fc47c4e2144da2806dfb6629c4dd1fa3d5a143f9652b141e979a8ca9/pandas-1.2.4-cp37-cp37m-manylinux1_x86_64.whl (9.9 MB)\n",
      "Requirement already satisfied: python-dateutil>=2.7.3 in /home/nan/miniconda3/envs/py3.7/lib/python3.7/site-packages (from pandas) (2.8.1)\n",
      "Collecting pytz>=2017.3\n",
      "  Downloading https://pypi.doubanio.com/packages/70/94/784178ca5dd892a98f113cdd923372024dc04b8d40abe77ca76b5fb90ca6/pytz-2021.1-py2.py3-none-any.whl (510 kB)\n",
      "\u001b[K     |████████████████████████████████| 510 kB 12.8 MB/s \n",
      "\u001b[?25hRequirement already satisfied: numpy>=1.16.5 in /home/nan/miniconda3/envs/py3.7/lib/python3.7/site-packages (from pandas) (1.19.5)\n",
      "Requirement already satisfied: six>=1.5 in /home/nan/miniconda3/envs/py3.7/lib/python3.7/site-packages (from python-dateutil>=2.7.3->pandas) (1.15.0)\n",
      "Installing collected packages: pytz, pandas\n",
      "Successfully installed pandas-1.2.4 pytz-2021.1\n"
     ]
    }
   ],
   "source": [
    "# !pip install pynvml\n",
    "# !pip install transformers\n",
    "# !pip install scikit-learn\n",
    "# !pip install pandas"
   ]
  },
  {
   "cell_type": "code",
   "execution_count": 7,
   "metadata": {},
   "outputs": [],
   "source": [
    "import logging\n",
    "import os\n",
    "logging.basicConfig(level=logging.ERROR)\n",
    "from transformers import TFBertForSequenceClassification, BertTokenizer\n",
    "import tensorflow as tf\n",
    "import pandas as pd\n",
    "from sklearn.model_selection import train_test_split\n",
    "from sklearn import metrics\n",
    "import pynvml"
   ]
  },
  {
   "cell_type": "code",
   "execution_count": 8,
   "metadata": {},
   "outputs": [
    {
     "output_type": "stream",
     "name": "stdout",
     "text": [
      "True\n[PhysicalDevice(name='/physical_device:GPU:0', device_type='GPU')]\n"
     ]
    }
   ],
   "source": [
    "print(tf.test.is_gpu_available())\n",
    "print(tf.config.list_physical_devices('GPU'))\n",
    "os.environ[\"CUDA_VISIBLE_DEVICES\"] = \"0\""
   ]
  },
  {
   "cell_type": "code",
   "execution_count": 9,
   "metadata": {},
   "outputs": [],
   "source": [
    "def split_dataset(df):\n",
    "    train_set, x = train_test_split(df, \n",
    "        stratify=df['label'],\n",
    "        test_size=0.1, \n",
    "        random_state=42)\n",
    "    val_set, test_set = train_test_split(x, \n",
    "        stratify=x['label'],\n",
    "        test_size=0.5, \n",
    "        random_state=43)\n",
    "\n",
    "    return train_set,val_set, test_set"
   ]
  },
  {
   "cell_type": "code",
   "execution_count": 18,
   "metadata": {},
   "outputs": [
    {
     "output_type": "stream",
     "name": "stdout",
     "text": [
      "FULL Dataset: (200000, 3)\nTRAIN Dataset: (180000, 3)\nValidation Dataset: (10000, 3)\nTEST Dataset: (10000, 3)\n"
     ]
    },
    {
     "output_type": "execute_result",
     "data": {
      "text/plain": [
       "                      text label  y\n",
       "57544   男子长时间上网昏倒后被转入重症监护室    社会  5\n",
       "28829    《生化尖兵》恶搞广告片：生化经理人    游戏  8\n",
       "128336   《武林OL》“决战光明顶”今日上线    游戏  8\n",
       "147143    美证交会调查华尔街ETF内幕交易    股票  2\n",
       "54266      美国信用评级下降 美债反受青睐    股票  2"
      ],
      "text/html": "<div>\n<style scoped>\n    .dataframe tbody tr th:only-of-type {\n        vertical-align: middle;\n    }\n\n    .dataframe tbody tr th {\n        vertical-align: top;\n    }\n\n    .dataframe thead th {\n        text-align: right;\n    }\n</style>\n<table border=\"1\" class=\"dataframe\">\n  <thead>\n    <tr style=\"text-align: right;\">\n      <th></th>\n      <th>text</th>\n      <th>label</th>\n      <th>y</th>\n    </tr>\n  </thead>\n  <tbody>\n    <tr>\n      <th>57544</th>\n      <td>男子长时间上网昏倒后被转入重症监护室</td>\n      <td>社会</td>\n      <td>5</td>\n    </tr>\n    <tr>\n      <th>28829</th>\n      <td>《生化尖兵》恶搞广告片：生化经理人</td>\n      <td>游戏</td>\n      <td>8</td>\n    </tr>\n    <tr>\n      <th>128336</th>\n      <td>《武林OL》“决战光明顶”今日上线</td>\n      <td>游戏</td>\n      <td>8</td>\n    </tr>\n    <tr>\n      <th>147143</th>\n      <td>美证交会调查华尔街ETF内幕交易</td>\n      <td>股票</td>\n      <td>2</td>\n    </tr>\n    <tr>\n      <th>54266</th>\n      <td>美国信用评级下降 美债反受青睐</td>\n      <td>股票</td>\n      <td>2</td>\n    </tr>\n  </tbody>\n</table>\n</div>"
     },
     "metadata": {},
     "execution_count": 18
    }
   ],
   "source": [
    "data_path = \"../data/THUCNewsChinese.txt\"\n",
    "# read data\n",
    "df_raw = pd.read_csv(data_path,sep=\"\\t\",header=None,names=[\"text\",\"label\"])\n",
    "# transfer label\n",
    "df_label = pd.DataFrame({\"label\":[\"财经\",\"房产\",\"股票\",\"教育\",\"科技\",\"社会\",\"时政\",\"体育\",\"游戏\",\"娱乐\"],\"y\":list(range(10))})\n",
    "df_raw = pd.merge(df_raw,df_label,on=\"label\",how=\"left\")\n",
    "# split data\n",
    "train_data, val_data, test_data = split_dataset(df_raw)\n",
    "print(\"FULL Dataset: {}\".format(df_raw.shape))\n",
    "print(\"TRAIN Dataset: {}\".format(train_data.shape))\n",
    "print(\"Validation Dataset: {}\".format(val_data.shape))\n",
    "print(\"TEST Dataset: {}\".format(test_data.shape))\n",
    "train_data.head()"
   ]
  },
  {
   "cell_type": "code",
   "execution_count": 10,
   "metadata": {},
   "outputs": [],
   "source": [
    "def customDataset(dataSet):\n",
    "    inputs = tokenizer(dataSet['text'].tolist(), max_length=max_length, padding='max_length', truncation=True,\\\n",
    "                   return_tensors='tf')\n",
    "    if 'y' in dataSet.columns:\n",
    "        label_list = dataSet['y'].values.tolist() \n",
    "    else:\n",
    "        label_list = None\n",
    "    result = tf.data.Dataset.from_tensor_slices((dict((k,v) for k, v in inputs.items()), label_list))          \n",
    "    return result"
   ]
  },
  {
   "cell_type": "code",
   "execution_count": 20,
   "metadata": {},
   "outputs": [],
   "source": [
    "model_path = '../model_dirs/bert-base-chinese'\n",
    "# parameters\n",
    "batch_size = 8\n",
    "# pynvml.nvmlInit()\n",
    "# handle = pynvml.nvmlDeviceGetHandleByIndex(0)\n",
    "# meminfo = pynvml.nvmlDeviceGetMemoryInfo(handle)\n",
    "# print(f'GPU Memory size:{meminfo.total}')\n",
    "# if meminfo.total> 1024**3*10:\n",
    "#     batch_size = 16 \n",
    "\n",
    "max_length = 128\n",
    "learning_rate = 2e-5\n",
    "number_of_epochs = 5\n",
    "num_classes = 10 #\n",
    "\n",
    "tokenizer = BertTokenizer.from_pretrained(model_path)\n",
    "# train dataset\n",
    "ds_train_encoded = customDataset(train_data).shuffle(10000).batch(batch_size)\n",
    "# val dataset\n",
    "ds_val_encoded = customDataset(val_data).batch(batch_size)\n",
    "# test dataset\n",
    "ds_test_encoded = customDataset(test_data).batch(batch_size)"
   ]
  },
  {
   "cell_type": "code",
   "execution_count": 7,
   "metadata": {},
   "outputs": [
    {
     "name": "stderr",
     "output_type": "stream",
     "text": [
      "All model checkpoint layers were used when initializing TFBertForSequenceClassification.\n",
      "\n",
      "Some layers of TFBertForSequenceClassification were not initialized from the model checkpoint at ./model_dirs/bert-base-chinese and are newly initialized: ['classifier']\n",
      "You should probably TRAIN this model on a down-stream task to be able to use it for predictions and inference.\n"
     ]
    },
    {
     "name": "stdout",
     "output_type": "stream",
     "text": [
      "Epoch 1/5\n",
      "11250/11250 [==============================] - 1268s 112ms/step - loss: 0.3728 - accuracy: 0.8905 - val_loss: 0.2137 - val_accuracy: 0.9313\n",
      "Epoch 2/5\n",
      "11250/11250 [==============================] - 1256s 112ms/step - loss: 0.1733 - accuracy: 0.9443 - val_loss: 0.2200 - val_accuracy: 0.9335\n",
      "Epoch 3/5\n",
      "11250/11250 [==============================] - 1255s 112ms/step - loss: 0.1210 - accuracy: 0.9601 - val_loss: 0.2446 - val_accuracy: 0.9375\n",
      "Epoch 4/5\n",
      "11250/11250 [==============================] - 1257s 112ms/step - loss: 0.0873 - accuracy: 0.9714 - val_loss: 0.2602 - val_accuracy: 0.9341\n",
      "Epoch 5/5\n",
      "11250/11250 [==============================] - 1256s 112ms/step - loss: 0.0699 - accuracy: 0.9772 - val_loss: 0.3030 - val_accuracy: 0.9333\n",
      "625/625 [==============================] - 19s 30ms/step - loss: 0.2690 - accuracy: 0.9407\n",
      "# evaluate test_set: [0.2690059244632721, 0.9406999945640564]\n"
     ]
    }
   ],
   "source": [
    "model = TFBertForSequenceClassification.from_pretrained(model_path, num_labels=num_classes)\n",
    "# optimizer Adam recommended\n",
    "optimizer = tf.keras.optimizers.Adam(learning_rate=learning_rate,epsilon=1e-08, clipnorm=1)\n",
    "# we do not have one-hot vectors, we can use sparce categorical cross entropy and accuracy\n",
    "loss = tf.keras.losses.SparseCategoricalCrossentropy(from_logits=True)\n",
    "metric = tf.keras.metrics.SparseCategoricalAccuracy('accuracy')\n",
    "model.compile(optimizer=optimizer, loss=loss, metrics=[metric])\n",
    "# fit model\n",
    "bert_history = model.fit(ds_train_encoded, epochs=number_of_epochs, validation_data=ds_val_encoded)\n",
    "# evaluate test_set\n",
    "print(\"# evaluate test_set:\",model.evaluate(ds_test_encoded))\n",
    "## model save\n",
    "model.save_pretrained('./model_dirs/fine_tune_MultiClass_model/')"
   ]
  },
  {
   "cell_type": "code",
   "execution_count": 8,
   "metadata": {},
   "outputs": [
    {
     "name": "stdout",
     "output_type": "stream",
     "text": [
      "625/625 [==============================] - 19s 30ms/step - loss: 0.3030 - accuracy: 0.9333\n"
     ]
    },
    {
     "data": {
      "text/plain": [
       "[0.30297088623046875, 0.9333000183105469]"
      ]
     },
     "execution_count": 8,
     "metadata": {},
     "output_type": "execute_result"
    }
   ],
   "source": [
    "model.evaluate(ds_val_encoded)"
   ]
  },
  {
   "cell_type": "code",
   "execution_count": null,
   "metadata": {},
   "outputs": [],
   "source": [
    "def y_label(logits):\n",
    "    for i in range(len(logits)):\n",
    "        y = tf.argmax(tf.nn.softmax(logits[i], axis=-1)).numpy()\n",
    "        yield y\n",
    "\n",
    "def validation(epoch):\n",
    "    fin_targets=[]\n",
    "    fin_outputs=[]\n",
    "    for _, data in enumerate(ds_val_encoded, 0):\n",
    "        inputs = data[0]\n",
    "        targets = data[1]\n",
    "        # outputs = model.predict(dict(inputs))\n",
    "        outputs = model(inputs)       \n",
    "        fin_targets.extend(targets.numpy())\n",
    "        fin_outputs.extend(y_label(outputs.logits))\n",
    "    return fin_outputs, fin_targets"
   ]
  },
  {
   "cell_type": "code",
   "execution_count": null,
   "metadata": {},
   "outputs": [
    {
     "name": "stdout",
     "output_type": "stream",
     "text": [
      "Accuracy Score = 0.9331\n",
      "recall_score (Micro) = 0.9331\n",
      "recall_score (Macro) = 0.9330999999999999\n",
      "F1 Score (Micro) = 0.9331\n",
      "F1 Score (Macro) = 0.9332044368380819\n"
     ]
    }
   ],
   "source": [
    "outputs, targets = validation(number_of_epochs)\n",
    "accuracy = metrics.accuracy_score(targets, outputs)\n",
    "recall_score_micro = metrics.recall_score(targets, outputs, average='micro')\n",
    "recall_score_macro = metrics.recall_score(targets, outputs, average='macro')\n",
    "f1_score_micro = metrics.f1_score(targets, outputs, average='micro')\n",
    "f1_score_macro = metrics.f1_score(targets, outputs, average='macro')\n",
    "\n",
    "print(f\"Accuracy Score = {accuracy}\")\n",
    "print(f\"recall_score (Micro) = {recall_score_micro}\")\n",
    "print(f\"recall_score (Macro) = {recall_score_macro}\")\n",
    "print(f\"F1 Score (Micro) = {f1_score_micro}\")\n",
    "print(f\"F1 Score (Macro) = {f1_score_macro}\")"
   ]
  },
  {
   "cell_type": "code",
   "execution_count": null,
   "metadata": {},
   "outputs": [],
   "source": [
    "pid = os.getpid()\n",
    "!kill -9 $pid"
   ]
  }
 ],
 "metadata": {
  "kernelspec": {
   "name": "python3710jvsc74a57bd001be8e6ef3397cb3b7216ce72275f144d49556b9a40c469805dd9c056d34699f",
   "display_name": "Python 3.7.10 64-bit ('py3.7': conda)"
  },
  "language_info": {
   "codemirror_mode": {
    "name": "ipython",
    "version": 3
   },
   "file_extension": ".py",
   "mimetype": "text/x-python",
   "name": "python",
   "nbconvert_exporter": "python",
   "pygments_lexer": "ipython3",
   "version": "3.7.10"
  },
  "toc": {
   "base_numbering": 1,
   "nav_menu": {},
   "number_sections": true,
   "sideBar": true,
   "skip_h1_title": false,
   "title_cell": "Table of Contents",
   "title_sidebar": "Contents",
   "toc_cell": false,
   "toc_position": {},
   "toc_section_display": true,
   "toc_window_display": false
  }
 },
 "nbformat": 4,
 "nbformat_minor": 4
}