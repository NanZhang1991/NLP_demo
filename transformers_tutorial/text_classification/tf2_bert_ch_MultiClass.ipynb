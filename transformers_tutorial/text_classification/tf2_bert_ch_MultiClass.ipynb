{
 "cells": [
  {
   "cell_type": "code",
   "execution_count": 1,
   "metadata": {},
   "outputs": [
    {
     "name": "stdout",
     "output_type": "stream",
     "text": [
      "Looking in indexes: https://pypi.douban.com/simple\n",
      "Requirement already satisfied: pynvml in c:\\users\\administrator\\miniconda3\\envs\\tfs\\lib\\site-packages (8.0.4)\n",
      "Looking in indexes: https://pypi.douban.com/simple\n",
      "Requirement already satisfied: transformers in c:\\users\\administrator\\miniconda3\\envs\\tfs\\lib\\site-packages (4.5.1)\n",
      "Requirement already satisfied: packaging in c:\\users\\administrator\\miniconda3\\envs\\tfs\\lib\\site-packages (from transformers) (20.9)\n",
      "Requirement already satisfied: tqdm>=4.27 in c:\\users\\administrator\\miniconda3\\envs\\tfs\\lib\\site-packages (from transformers) (4.60.0)\n",
      "Requirement already satisfied: numpy>=1.17 in c:\\users\\administrator\\miniconda3\\envs\\tfs\\lib\\site-packages (from transformers) (1.19.5)\n",
      "Requirement already satisfied: sacremoses in c:\\users\\administrator\\miniconda3\\envs\\tfs\\lib\\site-packages (from transformers) (0.0.45)\n",
      "Requirement already satisfied: regex!=2019.12.17 in c:\\users\\administrator\\miniconda3\\envs\\tfs\\lib\\site-packages (from transformers) (2021.4.4)\n",
      "Requirement already satisfied: importlib-metadata in c:\\users\\administrator\\miniconda3\\envs\\tfs\\lib\\site-packages (from transformers) (4.0.1)\n",
      "Requirement already satisfied: requests in c:\\users\\administrator\\miniconda3\\envs\\tfs\\lib\\site-packages (from transformers) (2.25.1)\n",
      "Requirement already satisfied: tokenizers<0.11,>=0.10.1 in c:\\users\\administrator\\miniconda3\\envs\\tfs\\lib\\site-packages (from transformers) (0.10.2)\n",
      "Requirement already satisfied: filelock in c:\\users\\administrator\\miniconda3\\envs\\tfs\\lib\\site-packages (from transformers) (3.0.12)\n",
      "Requirement already satisfied: zipp>=0.5 in c:\\users\\administrator\\miniconda3\\envs\\tfs\\lib\\site-packages (from importlib-metadata->transformers) (3.4.1)\n",
      "Requirement already satisfied: typing-extensions>=3.6.4 in c:\\users\\administrator\\miniconda3\\envs\\tfs\\lib\\site-packages (from importlib-metadata->transformers) (3.7.4.3)\n",
      "Requirement already satisfied: pyparsing>=2.0.2 in c:\\users\\administrator\\miniconda3\\envs\\tfs\\lib\\site-packages (from packaging->transformers) (2.4.7)\n",
      "Requirement already satisfied: urllib3<1.27,>=1.21.1 in c:\\users\\administrator\\miniconda3\\envs\\tfs\\lib\\site-packages (from requests->transformers) (1.26.4)\n",
      "Requirement already satisfied: certifi>=2017.4.17 in c:\\users\\administrator\\miniconda3\\envs\\tfs\\lib\\site-packages (from requests->transformers) (2020.12.5)\n",
      "Requirement already satisfied: chardet<5,>=3.0.2 in c:\\users\\administrator\\miniconda3\\envs\\tfs\\lib\\site-packages (from requests->transformers) (4.0.0)\n",
      "Requirement already satisfied: idna<3,>=2.5 in c:\\users\\administrator\\miniconda3\\envs\\tfs\\lib\\site-packages (from requests->transformers) (2.10)\n",
      "Requirement already satisfied: click in c:\\users\\administrator\\miniconda3\\envs\\tfs\\lib\\site-packages (from sacremoses->transformers) (7.1.2)\n",
      "Requirement already satisfied: six in c:\\users\\administrator\\miniconda3\\envs\\tfs\\lib\\site-packages (from sacremoses->transformers) (1.15.0)\n",
      "Requirement already satisfied: joblib in c:\\users\\administrator\\miniconda3\\envs\\tfs\\lib\\site-packages (from sacremoses->transformers) (1.0.1)\n",
      "Looking in indexes: https://pypi.douban.com/simple\n",
      "Requirement already satisfied: scikit-learn in c:\\users\\administrator\\miniconda3\\envs\\tfs\\lib\\site-packages (0.24.2)\n",
      "Requirement already satisfied: scipy>=0.19.1 in c:\\users\\administrator\\miniconda3\\envs\\tfs\\lib\\site-packages (from scikit-learn) (1.6.3)\n",
      "Requirement already satisfied: numpy>=1.13.3 in c:\\users\\administrator\\miniconda3\\envs\\tfs\\lib\\site-packages (from scikit-learn) (1.19.5)\n",
      "Requirement already satisfied: joblib>=0.11 in c:\\users\\administrator\\miniconda3\\envs\\tfs\\lib\\site-packages (from scikit-learn) (1.0.1)\n",
      "Requirement already satisfied: threadpoolctl>=2.0.0 in c:\\users\\administrator\\miniconda3\\envs\\tfs\\lib\\site-packages (from scikit-learn) (2.1.0)\n",
      "Looking in indexes: https://pypi.douban.com/simple\n",
      "Requirement already satisfied: pandas in c:\\users\\administrator\\miniconda3\\envs\\tfs\\lib\\site-packages (1.2.4)\n",
      "Requirement already satisfied: pytz>=2017.3 in c:\\users\\administrator\\miniconda3\\envs\\tfs\\lib\\site-packages (from pandas) (2021.1)\n",
      "Requirement already satisfied: numpy>=1.16.5 in c:\\users\\administrator\\miniconda3\\envs\\tfs\\lib\\site-packages (from pandas) (1.19.5)\n",
      "Requirement already satisfied: python-dateutil>=2.7.3 in c:\\users\\administrator\\miniconda3\\envs\\tfs\\lib\\site-packages (from pandas) (2.8.1)\n",
      "Requirement already satisfied: six>=1.5 in c:\\users\\administrator\\miniconda3\\envs\\tfs\\lib\\site-packages (from python-dateutil>=2.7.3->pandas) (1.15.0)\n"
     ]
    }
   ],
   "source": [
    "!pip install pynvml\r\n",
    "!pip install transformers\r\n",
    "!pip install scikit-learn\r\n",
    "!pip install pandas"
   ]
  },
  {
   "cell_type": "code",
   "execution_count": 2,
   "metadata": {},
   "outputs": [],
   "source": [
    "import logging\n",
    "logging.basicConfig(level=logging.ERROR)\n",
    "from transformers import TFBertForSequenceClassification, BertTokenizer\n",
    "import tensorflow as tf\n",
    "import pandas as pd\n",
    "from sklearn.model_selection import train_test_split\n",
    "from sklearn import metrics\n",
    "import os\n",
    "import pynvml"
   ]
  },
  {
   "cell_type": "code",
   "execution_count": 3,
   "metadata": {},
   "outputs": [
    {
     "name": "stdout",
     "output_type": "stream",
     "text": [
      "True\n",
      "[PhysicalDevice(name='/physical_device:GPU:0', device_type='GPU')]\n"
     ]
    }
   ],
   "source": [
    "print(tf.test.is_gpu_available())\r\n",
    "print(tf.config.list_physical_devices('GPU'))\r\n",
    "os.environ[\"CUDA_VISIBLE_DEVICES\"] = \"0\""
   ]
  },
  {
   "cell_type": "code",
   "execution_count": 4,
   "metadata": {},
   "outputs": [],
   "source": [
    "def split_dataset(df):\n",
    "    train_set, x = train_test_split(df, \n",
    "        stratify=df['label'],\n",
    "        test_size=0.1, \n",
    "        random_state=42)\n",
    "    val_set, test_set = train_test_split(x, \n",
    "        stratify=x['label'],\n",
    "        test_size=0.5, \n",
    "        random_state=43)\n",
    "\n",
    "    return train_set,val_set, test_set"
   ]
  },
  {
   "cell_type": "code",
   "execution_count": 5,
   "metadata": {},
   "outputs": [
    {
     "name": "stdout",
     "output_type": "stream",
     "text": [
      "FULL Dataset: (1000, 3)\n",
      "TRAIN Dataset: (900, 3)\n",
      "TEST Dataset: (50, 3)\n"
     ]
    },
    {
     "data": {
      "text/html": "<div>\n<style scoped>\n    .dataframe tbody tr th:only-of-type {\n        vertical-align: middle;\n    }\n\n    .dataframe tbody tr th {\n        vertical-align: top;\n    }\n\n    .dataframe thead th {\n        text-align: right;\n    }\n</style>\n<table border=\"1\" class=\"dataframe\">\n  <thead>\n    <tr style=\"text-align: right;\">\n      <th></th>\n      <th>text</th>\n      <th>label</th>\n      <th>y</th>\n    </tr>\n  </thead>\n  <tbody>\n    <tr>\n      <th>173</th>\n      <td>波兰斯基要求撤销诱奸案 拍纪录片披露真相(图)</td>\n      <td>娱乐</td>\n      <td>9</td>\n    </tr>\n    <tr>\n      <th>270</th>\n      <td>女子不服判决带棺材到法院闹事</td>\n      <td>社会</td>\n      <td>5</td>\n    </tr>\n    <tr>\n      <th>824</th>\n      <td>松下 DMC-GF3电脑展现场限售仅4880元</td>\n      <td>科技</td>\n      <td>4</td>\n    </tr>\n    <tr>\n      <th>621</th>\n      <td>江西08年自考女生首次突破一半</td>\n      <td>教育</td>\n      <td>3</td>\n    </tr>\n    <tr>\n      <th>74</th>\n      <td>德媒披露鲁能引援关键人物 是他力荐德甲亚洲强人</td>\n      <td>体育</td>\n      <td>7</td>\n    </tr>\n  </tbody>\n</table>\n</div>",
      "text/plain": "                        text label  y\n173  波兰斯基要求撤销诱奸案 拍纪录片披露真相(图)    娱乐  9\n270           女子不服判决带棺材到法院闹事    社会  5\n824  松下 DMC-GF3电脑展现场限售仅4880元    科技  4\n621          江西08年自考女生首次突破一半    教育  3\n74   德媒披露鲁能引援关键人物 是他力荐德甲亚洲强人    体育  7"
     },
     "execution_count": 5,
     "metadata": {},
     "output_type": "execute_result"
    }
   ],
   "source": [
    "data_path = \"../data/THUCNewsChinese.txt\"\n",
    "# read data\n",
    "df_raw = pd.read_csv(data_path,sep=\"\\t\",header=None,names=[\"text\",\"label\"])[:1000]    \n",
    "# transfer label\n",
    "df_label = pd.DataFrame({\"label\":[\"财经\",\"房产\",\"股票\",\"教育\",\"科技\",\"社会\",\"时政\",\"体育\",\"游戏\",\"娱乐\"],\"y\":list(range(10))})\n",
    "df_raw = pd.merge(df_raw,df_label,on=\"label\",how=\"left\")\n",
    "# split data\n",
    "train_data, val_data, test_data = split_dataset(df_raw)\n",
    "print(\"FULL Dataset: {}\".format(df_raw.shape))\n",
    "print(\"TRAIN Dataset: {}\".format(train_data.shape))\n",
    "print(\"TEST Dataset: {}\".format(test_data.shape))\n",
    "train_data.head()"
   ]
  },
  {
   "cell_type": "code",
   "execution_count": 6,
   "metadata": {},
   "outputs": [],
   "source": [
    "def customDataset(dataSet):\n",
    "    inputs = tokenizer(dataSet['text'].tolist(), max_length=max_length, padding='max_length', truncation=True,\\\n",
    "                   return_tensors='tf')\n",
    "    if 'y' in dataSet.columns:\n",
    "        label_list = dataSet['y'].values.tolist() \n",
    "    else:\n",
    "        label_list = None\n",
    "    result = tf.data.Dataset.from_tensor_slices((dict((k,v) for k, v in inputs.items()), label_list))          \n",
    "    return result"
   ]
  },
  {
   "cell_type": "code",
   "execution_count": 7,
   "metadata": {},
   "outputs": [
    {
     "name": "stdout",
     "output_type": "stream",
     "text": [
      "GPU Memory size:4294967296\n",
      "Wall time: 240 ms\n"
     ]
    }
   ],
   "source": [
    "%%time\r\n",
    "\r\n",
    "model_path = '../model_dirs/bert-base-chinese'\r\n",
    "\r\n",
    "# parameters\r\n",
    "batch_size = 8\r\n",
    "# pynvml.nvmlInit()\r\n",
    "# handle = pynvml.nvmlDeviceGetHandleByIndex(0)\r\n",
    "# meminfo = pynvml.nvmlDeviceGetMemoryInfo(handle)\r\n",
    "# print(f'GPU Memory size:{meminfo.total}')\r\n",
    "# if meminfo.total> 1024**3*10:\r\n",
    "#     batch_size = 16 \r\n",
    "max_length = 128    \r\n",
    "learning_rate = 2e-5\r\n",
    "number_of_epochs = 2\r\n",
    "num_classes = 10 #\r\n",
    "\r\n",
    "tokenizer = BertTokenizer.from_pretrained(model_path)\r\n",
    "# train dataset\r\n",
    "ds_train_encoded = customDataset(train_data).shuffle(1000).batch(batch_size)\r\n",
    "# val dataset\r\n",
    "ds_val_encoded = customDataset(val_data).batch(batch_size)\r\n",
    "# test dataset\r\n",
    "ds_test_encoded = customDataset(test_data).batch(batch_size)"
   ]
  },
  {
   "cell_type": "code",
   "execution_count": 8,
   "metadata": {},
   "outputs": [
    {
     "name": "stdout",
     "output_type": "stream",
     "text": [
      "113/113 [==============================] - 99s 717ms/step - loss: 1.9217 - accuracy: 0.4101 - val_loss: 0.7655 - val_accuracy: 0.7600\n",
      "Epoch 2/2\n",
      "113/113 [==============================] - 79s 700ms/step - loss: 0.5439 - accuracy: 0.8759 - val_loss: 0.5694 - val_accuracy: 0.8600\n",
      "7/7 [==============================] - 1s 181ms/step - loss: 0.4739 - accuracy: 0.8400\n",
      "# evaluate test_set: [0.47386154532432556, 0.8399999737739563]\n"
     ]
    }
   ],
   "source": [
    "model = TFBertForSequenceClassification.from_pretrained(model_path, num_labels=num_classes)\n",
    "# optimizer Adam recommended\n",
    "optimizer = tf.keras.optimizers.Adam(learning_rate=learning_rate,epsilon=1e-08, clipnorm=1)\n",
    "# we do not have one-hot vectors, we can use sparce categorical cross entropy and accuracy\n",
    "loss = tf.keras.losses.SparseCategoricalCrossentropy(from_logits=True)\n",
    "metric = tf.keras.metrics.SparseCategoricalAccuracy('accuracy')\n",
    "model.compile(optimizer=optimizer, loss=loss, metrics=[metric])\n",
    "# fit model\n",
    "bert_history = model.fit(ds_train_encoded, epochs=number_of_epochs, validation_data=ds_val_encoded)\n",
    "# evaluate test_set\n",
    "print(\"# evaluate test_set:\",model.evaluate(ds_test_encoded))\n",
    "## model save\n",
    "model.save_pretrained('../model_dirs/fine_tune_MultiClass_model/')"
   ]
  },
  {
   "cell_type": "code",
   "execution_count": null,
   "metadata": {},
   "outputs": [
    {
     "name": "stderr",
     "output_type": "stream",
     "text": [
      "All model checkpoint layers were used when initializing TFBertForSequenceClassification.\n",
      "\n"
     ]
    },
    {
     "name": "stderr",
     "output_type": "stream",
     "text": [
      "Some layers of TFBertForSequenceClassification were not initialized from the model checkpoint at ../model_dirs/bert-base-chinese and are newly initialized: ['classifier']\n",
      "You should probably TRAIN this model on a down-stream task to be able to use it for predictions and inference.\n"
     ]
    },
    {
     "name": "stdout",
     "output_type": "stream",
     "text": [
      "Epoch 1/2\n",
      "7/7 [==============================] - 1s 182ms/step - loss: 0.5694 - accuracy: 0.8600\n"
     ]
    },
    {
     "data": {
      "text/plain": "[0.5693955421447754, 0.8600000143051147]"
     },
     "execution_count": 9,
     "metadata": {},
     "output_type": "execute_result"
    }
   ],
   "source": [
    "model.evaluate(ds_val_encoded)"
   ]
  },
  {
   "cell_type": "code",
   "execution_count": null,
   "metadata": {},
   "outputs": [],
   "source": [
    "def y_label(logits):\n",
    "    for i in range(len(logits)):\n",
    "        y = tf.argmax(tf.nn.softmax(logits[i], axis=-1)).numpy()\n",
    "        yield y\n",
    "\n",
    "def validation(epoch):\n",
    "    fin_targets=[]\n",
    "    fin_outputs=[]\n",
    "    for _, data in enumerate(ds_val_encoded, 0):\n",
    "        inputs = data[0]\n",
    "        targets = data[1]\n",
    "        # outputs = model.predict(dict(inputs))\n",
    "        outputs = model(inputs)       \n",
    "        fin_targets.extend(targets.numpy())\n",
    "        fin_outputs.extend(y_label(outputs.logits))\n",
    "    return fin_outputs, fin_targets"
   ]
  },
  {
   "cell_type": "code",
   "execution_count": null,
   "metadata": {},
   "outputs": [
    {
     "name": "stdout",
     "output_type": "stream",
     "text": [
      "Accuracy Score = 0.86\n",
      "recall_score (Micro) = 0.86\n",
      "recall_score (Macro) = 0.8616666666666667\n",
      "F1 Score (Micro) = 0.8599999999999999\n",
      "F1 Score (Macro) = 0.8645959595959596\n"
     ]
    }
   ],
   "source": [
    "outputs, targets = validation(number_of_epochs)\n",
    "accuracy = metrics.accuracy_score(targets, outputs)\n",
    "recall_score_micro = metrics.recall_score(targets, outputs, average='micro')\n",
    "recall_score_macro = metrics.recall_score(targets, outputs, average='macro')\n",
    "f1_score_micro = metrics.f1_score(targets, outputs, average='micro')\n",
    "f1_score_macro = metrics.f1_score(targets, outputs, average='macro')\n",
    "\n",
    "print(f\"Accuracy Score = {accuracy}\")\n",
    "print(f\"recall_score (Micro) = {recall_score_micro}\")\n",
    "print(f\"recall_score (Macro) = {recall_score_macro}\")\n",
    "print(f\"F1 Score (Micro) = {f1_score_micro}\")\n",
    "print(f\"F1 Score (Macro) = {f1_score_macro}\")"
   ]
  },
  {
   "cell_type": "code",
   "execution_count": null,
   "metadata": {},
   "outputs": [
    {
     "name": "stderr",
     "output_type": "stream",
     "text": [
      "'kill' �����ڲ����ⲿ���Ҳ���ǿ����еĳ���\n",
      "���������ļ���\n"
     ]
    }
   ],
   "source": [
    "\n",
    "pid = os.getpid()\n",
    "!kill -9 $pid"
   ]
  }
 ],
 "metadata": {
  "kernelspec": {
   "display_name": "Python 3.7.10 64-bit ('tfs': conda)",
   "name": "python3710jvsc74a57bd0aee43b18bdf7c1a4ac65a12e5fa87ef7b96ed7d04836ac8559d1db4b30b000de"
  },
  "language_info": {
   "codemirror_mode": {
    "name": "ipython",
    "version": 3
   },
   "file_extension": ".py",
   "mimetype": "text/x-python",
   "name": "python",
   "nbconvert_exporter": "python",
   "pygments_lexer": "ipython3",
   "version": "3.7.10"
  },
  "metadata": {
   "interpreter": {
    "hash": "aee43b18bdf7c1a4ac65a12e5fa87ef7b96ed7d04836ac8559d1db4b30b000de"
   }
  },
  "orig_nbformat": 3
 },
 "nbformat": 4,
 "nbformat_minor": 4
}