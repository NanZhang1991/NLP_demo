{
 "cells": [
  {
   "cell_type": "code",
   "execution_count": 2,
   "metadata": {},
   "outputs": [],
   "source": [
    "import logging\n",
    "logging.basicConfig(level=logging.ERROR)\n",
    "from transformers import TFBertForSequenceClassification, BertTokenizer\n",
    "import tensorflow as tf\n",
    "import pandas as pd\n",
    "from sklearn.model_selection import train_test_split\n",
    "from sklearn import metrics\n",
    "import os"
   ]
  },
  {
   "cell_type": "code",
   "execution_count": 3,
   "metadata": {},
   "outputs": [
    {
     "output_type": "stream",
     "name": "stdout",
     "text": [
      "True\n[PhysicalDevice(name='/physical_device:GPU:0', device_type='GPU')]\n"
     ]
    }
   ],
   "source": [
    "print(tf.test.is_gpu_available())\n",
    "print(tf.config.list_physical_devices('GPU'))\n",
    "os.environ[\"CUDA_VISIBLE_DEVICES\"] = \"0\""
   ]
  },
  {
   "cell_type": "code",
   "execution_count": 4,
   "metadata": {},
   "outputs": [],
   "source": [
    "def split_dataset(df):\n",
    "    train_set, x = train_test_split(df, \n",
    "        stratify=df['label'],\n",
    "        test_size=0.1, \n",
    "        random_state=42)\n",
    "    val_set, test_set = train_test_split(x, \n",
    "        stratify=x['label'],\n",
    "        test_size=0.5, \n",
    "        random_state=43)\n",
    "\n",
    "    return train_set,val_set, test_set"
   ]
  },
  {
   "cell_type": "code",
   "execution_count": 5,
   "metadata": {},
   "outputs": [
    {
     "output_type": "stream",
     "name": "stdout",
     "text": [
      "FULL Dataset: (1000, 3)\nTRAIN Dataset: (900, 3)\nTEST Dataset: (50, 3)\n"
     ]
    },
    {
     "output_type": "execute_result",
     "data": {
      "text/plain": [
       "                        text label  y\n",
       "173  波兰斯基要求撤销诱奸案 拍纪录片披露真相(图)    娱乐  9\n",
       "270           女子不服判决带棺材到法院闹事    社会  5\n",
       "824  松下 DMC-GF3电脑展现场限售仅4880元    科技  4\n",
       "621          江西08年自考女生首次突破一半    教育  3\n",
       "74   德媒披露鲁能引援关键人物 是他力荐德甲亚洲强人    体育  7"
      ],
      "text/html": "<div>\n<style scoped>\n    .dataframe tbody tr th:only-of-type {\n        vertical-align: middle;\n    }\n\n    .dataframe tbody tr th {\n        vertical-align: top;\n    }\n\n    .dataframe thead th {\n        text-align: right;\n    }\n</style>\n<table border=\"1\" class=\"dataframe\">\n  <thead>\n    <tr style=\"text-align: right;\">\n      <th></th>\n      <th>text</th>\n      <th>label</th>\n      <th>y</th>\n    </tr>\n  </thead>\n  <tbody>\n    <tr>\n      <th>173</th>\n      <td>波兰斯基要求撤销诱奸案 拍纪录片披露真相(图)</td>\n      <td>娱乐</td>\n      <td>9</td>\n    </tr>\n    <tr>\n      <th>270</th>\n      <td>女子不服判决带棺材到法院闹事</td>\n      <td>社会</td>\n      <td>5</td>\n    </tr>\n    <tr>\n      <th>824</th>\n      <td>松下 DMC-GF3电脑展现场限售仅4880元</td>\n      <td>科技</td>\n      <td>4</td>\n    </tr>\n    <tr>\n      <th>621</th>\n      <td>江西08年自考女生首次突破一半</td>\n      <td>教育</td>\n      <td>3</td>\n    </tr>\n    <tr>\n      <th>74</th>\n      <td>德媒披露鲁能引援关键人物 是他力荐德甲亚洲强人</td>\n      <td>体育</td>\n      <td>7</td>\n    </tr>\n  </tbody>\n</table>\n</div>"
     },
     "metadata": {},
     "execution_count": 5
    }
   ],
   "source": [
    "data_path = \"./data/THUCNewsChinese.txt\"\n",
    "# read data\n",
    "df_raw = pd.read_csv(data_path,sep=\"\\t\",header=None,names=[\"text\",\"label\"])[:1000]    \n",
    "# transfer label\n",
    "df_label = pd.DataFrame({\"label\":[\"财经\",\"房产\",\"股票\",\"教育\",\"科技\",\"社会\",\"时政\",\"体育\",\"游戏\",\"娱乐\"],\"y\":list(range(10))})\n",
    "df_raw = pd.merge(df_raw,df_label,on=\"label\",how=\"left\")\n",
    "# split data\n",
    "train_data, val_data, test_data = split_dataset(df_raw)\n",
    "print(\"FULL Dataset: {}\".format(df_raw.shape))\n",
    "print(\"TRAIN Dataset: {}\".format(train_data.shape))\n",
    "print(\"TEST Dataset: {}\".format(test_data.shape))\n",
    "train_data.head()"
   ]
  },
  {
   "cell_type": "code",
   "execution_count": 6,
   "metadata": {},
   "outputs": [],
   "source": [
    "def customDataset(dataSet):\n",
    "    inputs = tokenizer(dataSet['text'].tolist(), max_length=max_length, padding='max_length', truncation=True,\\\n",
    "                   return_tensors='tf')\n",
    "    if 'y' in dataSet.columns:\n",
    "        label_list = dataSet['y'].values.tolist() \n",
    "    else:\n",
    "        label_list = None\n",
    "    result = tf.data.Dataset.from_tensor_slices((dict((k,v) for k, v in inputs.items()), label_list))          \n",
    "    return result"
   ]
  },
  {
   "cell_type": "code",
   "execution_count": 7,
   "metadata": {},
   "outputs": [],
   "source": [
    "model_path = './model_dirs/bert-base-chinese'\n",
    "# parameters\n",
    "max_length = 32\n",
    "batch_size = 16\n",
    "learning_rate = 2e-5\n",
    "number_of_epochs = 2\n",
    "num_classes = 10 #\n",
    "\n",
    "tokenizer = BertTokenizer.from_pretrained(model_path)\n",
    "# train dataset\n",
    "ds_train_encoded = customDataset(train_data).shuffle(10000).batch(batch_size)\n",
    "# val dataset\n",
    "ds_val_encoded = customDataset(val_data).batch(batch_size)\n",
    "# test dataset\n",
    "ds_test_encoded = customDataset(test_data).batch(batch_size)"
   ]
  },
  {
   "cell_type": "code",
   "execution_count": 8,
   "metadata": {},
   "outputs": [
    {
     "output_type": "stream",
     "name": "stderr",
     "text": [
      "All model checkpoint layers were used when initializing TFBertForSequenceClassification.\n",
      "\n",
      "Some layers of TFBertForSequenceClassification were not initialized from the model checkpoint at ./model_dirs/bert-base-chinese and are newly initialized: ['classifier']\n",
      "You should probably TRAIN this model on a down-stream task to be able to use it for predictions and inference.\n",
      "Epoch 1/2\n",
      "57/57 [==============================] - 36s 396ms/step - loss: 2.1435 - accuracy: 0.2900 - val_loss: 1.0617 - val_accuracy: 0.8000\n",
      "Epoch 2/2\n",
      "57/57 [==============================] - 22s 377ms/step - loss: 0.9192 - accuracy: 0.8054 - val_loss: 0.6488 - val_accuracy: 0.8200\n",
      "4/4 [==============================] - 0s 78ms/step - loss: 0.5468 - accuracy: 0.8800\n",
      "# evaluate test_set: [0.5468036532402039, 0.8799999952316284]\n"
     ]
    }
   ],
   "source": [
    "\tmodel = TFBertForSequenceClassification.from_pretrained(model_path, num_labels=num_classes)\n",
    "\t# optimizer Adam recommended\n",
    "\toptimizer = tf.keras.optimizers.Adam(learning_rate=learning_rate,epsilon=1e-08, clipnorm=1)\n",
    "\t# we do not have one-hot vectors, we can use sparce categorical cross entropy and accuracy\n",
    "\tloss = tf.keras.losses.SparseCategoricalCrossentropy(from_logits=True)\n",
    "\tmetric = tf.keras.metrics.SparseCategoricalAccuracy('accuracy')\n",
    "\tmodel.compile(optimizer=optimizer, loss=loss, metrics=[metric])\n",
    "\t# fit model\n",
    "\tbert_history = model.fit(ds_train_encoded, epochs=number_of_epochs, validation_data=ds_val_encoded)\n",
    "\t# evaluate test_set\n",
    "\tprint(\"# evaluate test_set:\",model.evaluate(ds_test_encoded))\n",
    "\t## model save\n",
    "\tmodel.save_pretrained('./model_dirs/fine_tune_MultiClass_model/')"
   ]
  },
  {
   "cell_type": "code",
   "execution_count": 9,
   "metadata": {},
   "outputs": [
    {
     "output_type": "stream",
     "name": "stdout",
     "text": [
      "4/4 [==============================] - 0s 79ms/step - loss: 0.6488 - accuracy: 0.8200\n"
     ]
    },
    {
     "output_type": "execute_result",
     "data": {
      "text/plain": [
       "[0.6487958431243896, 0.8199999928474426]"
      ]
     },
     "metadata": {},
     "execution_count": 9
    }
   ],
   "source": [
    "model.evaluate(ds_val_encoded)"
   ]
  },
  {
   "cell_type": "code",
   "execution_count": 10,
   "metadata": {},
   "outputs": [],
   "source": [
    "def y_label(logits):\n",
    "    for i in range(len(logits)):\n",
    "        y = tf.argmax(tf.nn.softmax(logits[i], axis=-1)).numpy()\n",
    "        yield y\n",
    "\n",
    "def validation(epoch):\n",
    "    fin_targets=[]\n",
    "    fin_outputs=[]\n",
    "    for _, data in enumerate(ds_val_encoded, 0):\n",
    "        inputs = data[0]\n",
    "        targets = data[1]\n",
    "        # outputs = model.predict(dict(inputs))\n",
    "        outputs = model(inputs)       \n",
    "        fin_targets.extend(targets.numpy())\n",
    "        fin_outputs.extend(y_label(outputs.logits))\n",
    "    return fin_outputs, fin_targets"
   ]
  },
  {
   "cell_type": "code",
   "execution_count": 11,
   "metadata": {},
   "outputs": [
    {
     "output_type": "stream",
     "name": "stdout",
     "text": [
      "Accuracy Score = 0.82\nrecall_score (Micro) = 0.82\nrecall_score (Macro) = 0.8216666666666667\nF1 Score (Micro) = 0.82\nF1 Score (Macro) = 0.8055555555555556\n"
     ]
    }
   ],
   "source": [
    "outputs, targets = validation(number_of_epochs)\n",
    "accuracy = metrics.accuracy_score(targets, outputs)\n",
    "recall_score_micro = metrics.recall_score(targets, outputs, average='micro')\n",
    "recall_score_macro = metrics.recall_score(targets, outputs, average='macro')\n",
    "f1_score_micro = metrics.f1_score(targets, outputs, average='micro')\n",
    "f1_score_macro = metrics.f1_score(targets, outputs, average='macro')\n",
    "\n",
    "print(f\"Accuracy Score = {accuracy}\")\n",
    "print(f\"recall_score (Micro) = {recall_score_micro}\")\n",
    "print(f\"recall_score (Macro) = {recall_score_macro}\")\n",
    "print(f\"F1 Score (Micro) = {f1_score_micro}\")\n",
    "print(f\"F1 Score (Macro) = {f1_score_macro}\")"
   ]
  },
  {
   "cell_type": "code",
   "execution_count": 17,
   "metadata": {},
   "outputs": [],
   "source": [
    "\n",
    "pid = os.getpid()\n",
    "!kill -9 $pid"
   ]
  }
 ],
 "metadata": {
  "kernelspec": {
   "name": "python3",
   "display_name": "Python 3.8.8 64-bit ('tfs': conda)",
   "metadata": {
    "interpreter": {
     "hash": "3565398b46c6be2ef26a938e8041889bf1c2c480b6cc17f2da400e44f7937fcd"
    }
   }
  },
  "language_info": {
   "codemirror_mode": {
    "name": "ipython",
    "version": 3
   },
   "file_extension": ".py",
   "mimetype": "text/x-python",
   "name": "python",
   "nbconvert_exporter": "python",
   "pygments_lexer": "ipython3",
   "version": "3.8.8-final"
  },
  "toc": {
   "base_numbering": 1,
   "nav_menu": {},
   "number_sections": true,
   "sideBar": true,
   "skip_h1_title": false,
   "title_cell": "Table of Contents",
   "title_sidebar": "Contents",
   "toc_cell": false,
   "toc_position": {},
   "toc_section_display": true,
   "toc_window_display": false
  }
 },
 "nbformat": 4,
 "nbformat_minor": 4
}