{
 "cells": [
  {
   "cell_type": "code",
   "execution_count": 6,
   "metadata": {},
   "outputs": [
    {
     "data": {
      "text/plain": "[['他', '叫', '汤姆', '去', '拿', '外衣', '。'],\n ['汤姆', '生病', '了', '。'],\n ['他', '去', '了', '医院', '。']]"
     },
     "execution_count": 6,
     "metadata": {},
     "output_type": "execute_result"
    }
   ],
   "source": [
    "from ltp import LTP\r\n",
    "ltp = LTP()\r\n",
    "sents = ltp.sent_split([\"他叫汤姆去拿外衣。\", \"汤姆生病了。他去了医院。\"])\r\n",
    "segment, _ = ltp.seg(sents)\r\n",
    "segment"
   ]
  },
  {
   "cell_type": "code",
   "execution_count": 10,
   "metadata": {},
   "outputs": [
    {
     "name": "stdout",
     "output_type": "stream",
     "text": [
      "Full Mode: 我 来到 北京 清华大学\n"
     ]
    }
   ],
   "source": [
    "import jieba\r\n",
    "seg_list = jieba.cut(\"我来到北京清华大学\")\r\n",
    "print(\"Full Mode: \" + \" \".join(seg_list))  # 全模式"
   ]
  }
 ],
 "metadata": {
  "kernelspec": {
   "display_name": "Python 3.7.10 64-bit ('py3.7': conda)",
   "metadata": {
    "interpreter": {
     "hash": "37def44e3045786e2faeb86ea99d99641ffb6cda7629f9968e635f86f51987d0"
    }
   },
   "name": "python3"
  },
  "language_info": {
   "codemirror_mode": {
    "name": "ipython",
    "version": 3
   },
   "file_extension": ".py",
   "mimetype": "text/x-python",
   "name": "python",
   "nbconvert_exporter": "python",
   "pygments_lexer": "ipython3",
   "version": "3.7.10"
  },
  "orig_nbformat": 2
 },
 "nbformat": 4,
 "nbformat_minor": 2
}