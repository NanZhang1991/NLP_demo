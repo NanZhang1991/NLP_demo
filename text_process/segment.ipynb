{
 "cells": [
  {
   "cell_type": "markdown",
   "metadata": {},
   "source": [
    "# 分句 分词"
   ]
  },
  {
   "cell_type": "markdown",
   "metadata": {},
   "source": []
  },
  {
   "cell_type": "code",
   "execution_count": 25,
   "metadata": {},
   "outputs": [
    {
     "data": {
      "text/plain": "[['2021年', '他', '叫', '汤姆', '去', '拿', '外衣', '。'],\n ['汤姆', '生病', '了', '。'],\n ['他', '去', '了', '医院', '。']]"
     },
     "execution_count": 25,
     "metadata": {},
     "output_type": "execute_result"
    }
   ],
   "source": [
    "from ltp import LTP\r\n",
    "ltp = LTP()\r\n",
    "sents = ltp.sent_split([\"2021年他叫汤姆去拿外衣。\", \"汤姆生病了。他去了医院。\"])\r\n",
    "segment, _ = ltp.seg(sents)\r\n",
    "segment"
   ]
  },
  {
   "cell_type": "code",
   "execution_count": 22,
   "metadata": {},
   "outputs": [
    {
     "name": "stdout",
     "output_type": "stream",
     "text": [
      "['2021年他叫汤姆去拿外衣']\n"
     ]
    },
    {
     "data": {
      "text/plain": "[['2021年', '他', '叫', '汤姆', '去', '拿', '外衣']]"
     },
     "execution_count": 23,
     "metadata": {},
     "output_type": "execute_result"
    }
   ],
   "source": [
    "sents = ltp.sent_split([\"2021年他叫汤姆去拿外衣。\", \"汤姆生病了。他去了医院。\"])\r\n",
    "print(sents)\r\n",
    "segment, _ = ltp.seg(sents)\r\n",
    "segment"
   ]
  },
  {
   "cell_type": "code",
   "execution_count": 6,
   "metadata": {},
   "outputs": [
    {
     "data": {
      "text/plain": "[['2021年', '他', '叫', '汤姆', '去', '拿', '外衣', '。'],\n ['汤姆', '生病', '了', '。'],\n ['他', '去', '了', '医院', '。']]"
     },
     "execution_count": 6,
     "metadata": {},
     "output_type": "execute_result"
    }
   ],
   "source": [
    "def tokenizer(text_list):\r\n",
    "    sents = ltp.sent_split(text_list)\r\n",
    "    segment, _ = ltp.seg(sents)\r\n",
    "    return segment\r\n",
    "\r\n",
    "text_list = [\"2021年他叫汤姆去拿外衣。\", \"汤姆生病了。他去了医院。\"]\r\n",
    "tokenizer(text_list)"
   ]
  },
  {
   "cell_type": "code",
   "execution_count": 36,
   "metadata": {},
   "outputs": [
    {
     "name": "stdout",
     "output_type": "stream",
     "text": [
      "['2021年他叫汤姆去拿外衣', '。', '汤姆生病了', '。', '他去了医院', '。', '']\n",
      "Full Mode:  ['2021', '年', '他', '叫', '汤姆', '去', '拿', '外衣']\n",
      "Full Mode:  ['。']\n",
      "Full Mode:  ['汤姆生', '病', '了']\n",
      "Full Mode:  ['。']\n",
      "Full Mode:  ['他', '去', '了', '医院']\n",
      "Full Mode:  ['。']\n",
      "Full Mode:  []\n"
     ]
    }
   ],
   "source": [
    "import re\r\n",
    "import jieba\r\n",
    "\r\n",
    "def cut_sentence(text):\r\n",
    "    sentence_list = re.split(r'(\\.|\\!|\\?|。|！|？|\\.{6})', text)\r\n",
    "    return sentence_list\r\n",
    "\r\n",
    "text = \"2021年他叫汤姆去拿外衣。汤姆生病了。他去了医院。\"\r\n",
    "sentences = cut_sentence(text)\r\n",
    "print(sentences)\r\n",
    "\r\n",
    "for sent in sentences:\r\n",
    "    segs = jieba.cut(sent)\r\n",
    "    print(\"Full Mode: \", list(segs))  # 全模式\r\n"
   ]
  },
  {
   "cell_type": "markdown",
   "metadata": {},
   "source": [
    "# 去除中英文标点符号"
   ]
  },
  {
   "cell_type": "code",
   "execution_count": null,
   "metadata": {},
   "outputs": [],
   "source": [
    "import string\r\n",
    "from zhon.hanzi import punctuation\r\n",
    "\r\n",
    "def remove_punctuation(words_list):\r\n",
    "    new_words = [word for word in words_list if word not in punctuation and word not in string.punctuation]\r\n",
    "    return new_words"
   ]
  },
  {
   "cell_type": "markdown",
   "metadata": {},
   "source": [
    "# 去除文本中的数字"
   ]
  },
  {
   "cell_type": "code",
   "execution_count": null,
   "metadata": {},
   "outputs": [],
   "source": [
    "def remove_numbers(words_list): \r\n",
    "    renum_words = [word for word in words_list if not word.isnumeric()]\r\n",
    "    new_words = [word for word in renum_words if not re.findall('-\\d+',word)]\r\n",
    "    return new_words"
   ]
  },
  {
   "cell_type": "code",
   "execution_count": 47,
   "metadata": {},
   "outputs": [
    {
     "name": "stdout",
     "output_type": "stream",
     "text": [
      "sents:['2021年他叫汤姆去拿《外衣》', '。', '汤姆生病了', '。', '他去了医院的住院部', '。', ''], segments:[['2021', '年', '汤姆', '去', '外衣'], [], ['汤姆生', '病'], [], ['去', '医院', '住院部'], [], []]\n",
      "['2021', '年', '汤姆', '去', '外衣']\n"
     ]
    }
   ],
   "source": [
    "import string\r\n",
    "from zhon.hanzi import punctuation\r\n",
    "import re\r\n",
    "import jieba\r\n",
    "\r\n",
    "class Custom_segment:\r\n",
    "    def __init__(self):\r\n",
    "        self.stopwords = self.get_stopwords()\r\n",
    "\r\n",
    "    def get_stopwords(self):\r\n",
    "        with open('baidu_stopwords.txt','r', encoding='utf-8') as f:\r\n",
    "            content = f.readlines()\r\n",
    "            stopwords = list(map(str.strip, content))\r\n",
    "        return  stopwords\r\n",
    "\r\n",
    "    def cut_sentence(self, text):\r\n",
    "        sentence_list = re.split(r'(\\.|\\!|\\?|。|！|？|\\.{6})', text)\r\n",
    "        return sentence_list\r\n",
    "\r\n",
    "    def tokenizer(self, sent):\r\n",
    "        segs = jieba.cut(sent)\r\n",
    "        rem_p_segments = self.remove_punctuation(segs)\r\n",
    "        rem_sw_segments = self.del_stopwords(rem_p_segments)\r\n",
    "        return list(rem_sw_segments)\r\n",
    "\r\n",
    "    def remove_punctuation(self, words):\r\n",
    "        new_words = (word for word in words if word not in punctuation and word not in string.punctuation)\r\n",
    "        return new_words     \r\n",
    "\r\n",
    "    def del_stopwords(self, words):\r\n",
    "        new_words = (word for word in words if word not in self.stopwords)\r\n",
    "        return new_words\r\n",
    "        \r\n",
    "    def __call__(self, text):\r\n",
    "        sents = self.cut_sentence(text)\r\n",
    "        segments = list(map(self.tokenizer, sents))\r\n",
    "        return sents, segments\r\n",
    "\r\n",
    "\r\n",
    "if __name__==\"__main__\":\r\n",
    "    text = \"2021年他叫汤姆去拿《外衣》。汤姆生病了。他去了医院的住院部。\"\r\n",
    "    custom_segment = Custom_segment()\r\n",
    "    sents, segments = custom_segment(text)\r\n",
    "    print(f'sents:{sents}, segments:{segments}')\r\n",
    "    segments = custom_segment.tokenizer('2021年他叫汤姆去拿《外衣》。')\r\n",
    "    print(segments)"
   ]
  }
 ],
 "metadata": {
  "kernelspec": {
   "display_name": "Python 3",
   "language": "python",
   "name": "python3"
  },
  "language_info": {
   "codemirror_mode": {
    "name": "ipython",
    "version": 3
   },
   "file_extension": ".py",
   "mimetype": "text/x-python",
   "name": "python",
   "nbconvert_exporter": "python",
   "pygments_lexer": "ipython3",
   "version": "3.7.10"
  },
  "orig_nbformat": 2
 },
 "nbformat": 4,
 "nbformat_minor": 2
}