{
 "cells": [
  {
   "cell_type": "markdown",
   "metadata": {},
   "source": [
    "# 分句 分词"
   ]
  },
  {
   "cell_type": "markdown",
   "metadata": {},
   "source": []
  },
  {
   "cell_type": "code",
   "execution_count": 3,
   "metadata": {},
   "outputs": [
    {
     "data": {
      "text/plain": "[['2021年', '他', '叫', '汤姆', '去', '拿', '外衣', '。'],\n ['汤姆', '生病', '了', '。'],\n ['他', '去', '了', '医院', '。']]"
     },
     "execution_count": 3,
     "metadata": {},
     "output_type": "execute_result"
    }
   ],
   "source": [
    "from ltp import LTP\r\n",
    "ltp = LTP()\r\n",
    "sents = ltp.sent_split([\"2021年他叫汤姆去拿外衣。\", \"汤姆生病了。他去了医院。\"])\r\n",
    "segment, _ = ltp.seg(sents)\r\n",
    "segment"
   ]
  },
  {
   "cell_type": "code",
   "execution_count": 6,
   "metadata": {},
   "outputs": [
    {
     "data": {
      "text/plain": "[['2021年', '他', '叫', '汤姆', '去', '拿', '外衣', '。'],\n ['汤姆', '生病', '了', '。'],\n ['他', '去', '了', '医院', '。']]"
     },
     "execution_count": 6,
     "metadata": {},
     "output_type": "execute_result"
    }
   ],
   "source": [
    "def tokenizer(text_list):\r\n",
    "    sents = ltp.sent_split(text_list)\r\n",
    "    segment, _ = ltp.seg(sents)\r\n",
    "    return segment\r\n",
    "\r\n",
    "text_list = [\"2021年他叫汤姆去拿外衣。\", \"汤姆生病了。他去了医院。\"]\r\n",
    "tokenizer(text_list)"
   ]
  },
  {
   "cell_type": "code",
   "execution_count": 1,
   "metadata": {},
   "outputs": [
    {
     "name": "stderr",
     "output_type": "stream",
     "text": [
      "Building prefix dict from the default dictionary ...\n",
      "Loading model from cache C:\\Users\\ADMINI~1\\AppData\\Local\\Temp\\jieba.cache\n"
     ]
    },
    {
     "name": "stdout",
     "output_type": "stream",
     "text": [
      "['2021年他叫汤姆去拿外衣', '。', '汤姆生病了', '。', '他去了医院', '。', '']\n"
     ]
    },
    {
     "name": "stderr",
     "output_type": "stream",
     "text": [
      "Loading model cost 0.863 seconds.\n",
      "Prefix dict has been built successfully.\n"
     ]
    },
    {
     "name": "stdout",
     "output_type": "stream",
     "text": [
      "Full Mode:  ['2021', '年', '他', '叫', '汤姆', '去', '拿', '外衣']\n",
      "Full Mode:  ['。']\n",
      "Full Mode:  ['汤姆生', '病', '了']\n",
      "Full Mode:  ['。']\n",
      "Full Mode:  ['他', '去', '了', '医院']\n",
      "Full Mode:  ['。']\n",
      "Full Mode:  []\n"
     ]
    }
   ],
   "source": [
    "import re\r\n",
    "import jieba\r\n",
    "\r\n",
    "def cn_cut_sentence(text):\r\n",
    "    sentence_list = re.split(r'(\\.|\\!|\\?|。|！|？|\\.{6})', text)\r\n",
    "    return sentence_list\r\n",
    "\r\n",
    "text = \"2021年他叫汤姆去拿外衣。汤姆生病了。他去了医院。\"\r\n",
    "sentences = cn_cut_sentence(text)\r\n",
    "print(sentences)\r\n",
    "\r\n",
    "for sent in sentences:\r\n",
    "    seg_list = list(jieba.cut(sent))\r\n",
    "    print(\"Full Mode: \", seg_list)  # 全模式\r\n"
   ]
  },
  {
   "cell_type": "markdown",
   "metadata": {},
   "source": [
    "# 去除中英文标点符号"
   ]
  },
  {
   "cell_type": "code",
   "execution_count": null,
   "metadata": {},
   "outputs": [],
   "source": [
    "import string\r\n",
    "from zhon.hanzi import punctuation\r\n",
    "\r\n",
    "def remove_punctuation(words_list):\r\n",
    "    new_words = [word for word in words_list if word not in punctuation and word not in string.punctuation]\r\n",
    "    return new_words"
   ]
  },
  {
   "cell_type": "markdown",
   "metadata": {},
   "source": [
    "# 去除文本中的数字"
   ]
  },
  {
   "cell_type": "code",
   "execution_count": null,
   "metadata": {},
   "outputs": [],
   "source": [
    "def remove_numbers(words_list): \r\n",
    "    renum_words = [word for word in words_list if not word.isnumeric()]\r\n",
    "    new_words = [word for word in renum_words if not re.findall('-\\d+',word)]\r\n",
    "    return new_words"
   ]
  },
  {
   "cell_type": "code",
   "execution_count": 1,
   "metadata": {},
   "outputs": [
    {
     "output_type": "stream",
     "name": "stdout",
     "text": [
      "sents:['2021年他叫汤姆去拿《外衣》。', '汤姆生病了。', '他去了医院的住院部。'], segments:[['2021年', '汤姆', '去', '外衣'], ['汤姆', '生病'], ['去', '医院', '住院部']]\n[['2021年', '汤姆', '去', '外衣']]\n"
     ]
    }
   ],
   "source": [
    "import string\n",
    "from zhon.hanzi import punctuation\n",
    "from ltp import LTP\n",
    "ltp = LTP()\n",
    "\n",
    "class Custom_Segment:\n",
    "    def __init__(self):\n",
    "        self.stopwords = self.get_stopwords()\n",
    "\n",
    "    def get_stopwords(self):\n",
    "        with open('baidu_stopwords.txt','r', encoding='utf-8') as f:\n",
    "            content = f.readlines()\n",
    "            stopwords = list(map(str.strip, content))\n",
    "        return  stopwords\n",
    "\n",
    "    def sentence_segment(self, text):\n",
    "        text_list = [text]\n",
    "        sents = ltp.sent_split(text_list)\n",
    "        return sents \n",
    "\n",
    "    def segment(self, sents):\n",
    "        segments, _ = ltp.seg(sents)\n",
    "        rem_p_segments = list(map(self.remove_punctuation, segments))\n",
    "        rem_sw_segments = list(map(self.del_stopwords, rem_p_segments))\n",
    "        return rem_sw_segments\n",
    "\n",
    "    def remove_punctuation(self, words_list):\n",
    "        new_words = [word for word in words_list if word not in punctuation and word not in string.punctuation]\n",
    "        return new_words     \n",
    "\n",
    "    def del_stopwords(self, word_list):\n",
    "        new_words = [word for word in word_list if word not in self.stopwords ]\n",
    "        return new_words\n",
    "        \n",
    "    def __call__(self, text):\n",
    "        text_list = [text]\n",
    "        sents = ltp.sent_split(text_list)\n",
    "        segments = self.segment(sents)\n",
    "        return sents, segments\n",
    "\n",
    "\n",
    "if __name__==\"__main__\":\n",
    "    text = \"2021年他叫汤姆去拿《外衣》。汤姆生病了。他去了医院的住院部。\"\n",
    "    custom_segment = Custom_Segment()\n",
    "    sents, segments = custom_segment(text)\n",
    "    print(f'sents:{sents}, segments:{segments}')\n",
    "    segments = custom_segment.segment(['2021年他叫汤姆去拿《外衣》。'])\n",
    "    print(segments)"
   ]
  }
 ],
 "metadata": {
  "kernelspec": {
   "display_name": "Python 3",
   "name": "python3",
   "language": "python"
  },
  "language_info": {
   "codemirror_mode": {
    "name": "ipython",
    "version": 3
   },
   "file_extension": ".py",
   "mimetype": "text/x-python",
   "name": "python",
   "nbconvert_exporter": "python",
   "pygments_lexer": "ipython3",
   "version": "3.7.10"
  },
  "orig_nbformat": 2
 },
 "nbformat": 4,
 "nbformat_minor": 2
}