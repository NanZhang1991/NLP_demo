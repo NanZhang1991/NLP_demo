{
 "cells": [
  {
   "cell_type": "markdown",
   "metadata": {},
   "source": [
    "# 分句 分词"
   ]
  },
  {
   "cell_type": "markdown",
   "metadata": {},
   "source": []
  },
  {
   "cell_type": "code",
   "execution_count": 71,
   "metadata": {},
   "outputs": [
    {
     "data": {
      "text/plain": "[['2021年', '他', '叫', '汤姆', '去', '拿', '外衣', '。'],\n ['汤姆', '生病', '了', '。'],\n ['他', '去', '了', '医院', '。']]"
     },
     "execution_count": 71,
     "metadata": {},
     "output_type": "execute_result"
    }
   ],
   "source": [
    "from ltp import LTP\r\n",
    "ltp = LTP()\r\n",
    "sents = ltp.sent_split([\"2021年他叫汤姆去拿外衣。\", \"汤姆生病了。他去了医院。\"])\r\n",
    "segment, _ = ltp.seg(sents)\r\n",
    "segment"
   ]
  },
  {
   "cell_type": "code",
   "execution_count": 86,
   "metadata": {},
   "outputs": [
    {
     "name": "stdout",
     "output_type": "stream",
     "text": [
      "['2021年他叫汤姆去拿外衣', '。', '汤姆生病了', '。', '他去了医院', '。', '']\n",
      "Full Mode:  ['2021', '年', '他', '叫', '汤姆', '去', '拿', '外衣']\n",
      "Full Mode:  ['。']\n",
      "Full Mode:  ['汤姆生', '病', '了']\n",
      "Full Mode:  ['。']\n",
      "Full Mode:  ['他', '去', '了', '医院']\n",
      "Full Mode:  ['。']\n",
      "Full Mode:  []\n"
     ]
    }
   ],
   "source": [
    "import re\r\n",
    "import jieba\r\n",
    "\r\n",
    "def cn_cut_sentence(text):\r\n",
    "    sentence_list = re.split(r'(\\.|\\!|\\?|。|！|？|\\.{6})', text)\r\n",
    "    return sentence_list\r\n",
    "\r\n",
    "text = \"2021年他叫汤姆去拿外衣。汤姆生病了。他去了医院。\"\r\n",
    "sentences = cn_cut_sentence(text)\r\n",
    "print(sentences)\r\n",
    "\r\n",
    "for sent in sentences:\r\n",
    "    seg_list = list(jieba.cut(sent))\r\n",
    "    print(\"Full Mode: \", seg_list)  # 全模式\r\n"
   ]
  },
  {
   "cell_type": "markdown",
   "metadata": {},
   "source": [
    "# 去除中英文标点符号"
   ]
  },
  {
   "cell_type": "code",
   "execution_count": null,
   "metadata": {},
   "outputs": [],
   "source": [
    "import string\r\n",
    "from zhon.hanzi import punctuation\r\n",
    "\r\n",
    "def remove_punctuation(words_list):\r\n",
    "    new_words = [word for word in words_list if word not in punctuation and word not in string.punctuation]\r\n",
    "    return new_words"
   ]
  },
  {
   "cell_type": "markdown",
   "metadata": {},
   "source": [
    "# 去除文本中的数字"
   ]
  },
  {
   "cell_type": "code",
   "execution_count": null,
   "metadata": {},
   "outputs": [],
   "source": [
    "def remove_numbers(words_list): \r\n",
    "    renum_words = [word for word in words_list if not word.isnumeric()]\r\n",
    "    new_words = [word for word in renum_words if not re.findall('-\\d+',word)]\r\n",
    "    return new_words"
   ]
  }
 ],
 "metadata": {
  "kernelspec": {
   "display_name": "Python 3.7.10 64-bit ('py3.7': conda)",
   "metadata": {
    "interpreter": {
     "hash": "37def44e3045786e2faeb86ea99d99641ffb6cda7629f9968e635f86f51987d0"
    }
   },
   "name": "python3"
  },
  "language_info": {
   "codemirror_mode": {
    "name": "ipython",
    "version": 3
   },
   "file_extension": ".py",
   "mimetype": "text/x-python",
   "name": "python",
   "nbconvert_exporter": "python",
   "pygments_lexer": "ipython3",
   "version": "3.7.10"
  },
  "orig_nbformat": 2
 },
 "nbformat": 4,
 "nbformat_minor": 2
}